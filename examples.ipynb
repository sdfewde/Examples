{
 "cells": [
  {
   "cell_type": "code",
   "execution_count": null,
   "id": "96de5677",
   "metadata": {},
   "outputs": [],
   "source": [
    "n=input()\n",
    "print(n)"
   ]
  },
  {
   "cell_type": "code",
   "execution_count": null,
   "id": "35a4ae76",
   "metadata": {},
   "outputs": [],
   "source": [
    "game={'R','P','S'}\n",
    "n,m=input().split()\n",
    "if (n == 'R' and m == 'P'):\n",
    "    print(\"P\")\n",
    "elif (n == 'S' and m == 'P') or (n == 'R' and m == 'S'):\n",
    "    print(\"S\")\n",
    "else:\n",
    "    print(\"D\")"
   ]
  },
  {
   "cell_type": "code",
   "execution_count": null,
   "id": "f4171a75",
   "metadata": {},
   "outputs": [],
   "source": [
    "n=int(input())\n",
    "print(~n)"
   ]
  },
  {
   "cell_type": "code",
   "execution_count": null,
   "id": "8c920fa1",
   "metadata": {},
   "outputs": [],
   "source": [
    "n=int(input())\n",
    "A=(3*n)+5\n",
    "print(A)"
   ]
  },
  {
   "cell_type": "code",
   "execution_count": null,
   "id": "f9d41380",
   "metadata": {},
   "outputs": [],
   "source": [
    "n=int(input())\n",
    "for i in range(1,n+1):\n",
    "    print(i)"
   ]
  },
  {
   "cell_type": "code",
   "execution_count": null,
   "id": "baf89e43",
   "metadata": {},
   "outputs": [],
   "source": [
    "import math\n",
    "n=input()\n",
    "strr=str(n)\n",
    "prod=1\n",
    "list_of_number=list(map(int,strr.strip()))\n",
    "m=sum(list_of_number)\n",
    "j=prod*list_of_number\n",
    "A=sum(j)\n",
    "sum=m+A\n",
    "if sum==n:\n",
    "    print(\"Great\")\n",
    "else:\n",
    "    print(\"no\")"
   ]
  },
  {
   "cell_type": "code",
   "execution_count": null,
   "id": "9221068e",
   "metadata": {},
   "outputs": [],
   "source": [
    "n=int(input(\"Enter a number:\"))\n",
    "tot=0\n",
    "while(n>0):\n",
    "    dig=n%10\n",
    "    tot=tot+dig\n",
    "    n=n//10\n",
    "print(\"The total sum of digits is:\",tot)"
   ]
  },
  {
   "cell_type": "code",
   "execution_count": null,
   "id": "515cb65c",
   "metadata": {},
   "outputs": [],
   "source": [
    "import pandas as pd"
   ]
  },
  {
   "cell_type": "code",
   "execution_count": null,
   "id": "cda7bc6f",
   "metadata": {},
   "outputs": [],
   "source": [
    "dict_1={'apple':[3,2,1,4],'oranges':[4,3,1,2]}\n",
    "purch = pd.DataFrame(dict_1)\n",
    "purch"
   ]
  },
  {
   "cell_type": "code",
   "execution_count": null,
   "id": "b33f4f65",
   "metadata": {},
   "outputs": [],
   "source": [
    "import pandas as pd\n",
    "dict_1={'apples':[3,2,1,4],'oranges':[4,3,2,1]}\n",
    "purch=pd.DataFrame(dict_1)\n",
    "purch"
   ]
  },
  {
   "cell_type": "code",
   "execution_count": null,
   "id": "6bdf0823",
   "metadata": {},
   "outputs": [],
   "source": [
    "n=input()\n",
    "m=input()\n",
    "M=n+m\n",
    "for char in M:\n",
    "    if char in 'ABCDEFGHIJKLMNOPQRSTUVWXYZ':\n",
    "        print('yes')\n",
    "        break"
   ]
  },
  {
   "cell_type": "code",
   "execution_count": null,
   "id": "6a76273f",
   "metadata": {},
   "outputs": [],
   "source": [
    "import numpy as np\n",
    "n,k=map(int,input().split())\n",
    "A=np.arange(k)\n",
    "print(A)"
   ]
  },
  {
   "cell_type": "code",
   "execution_count": null,
   "id": "6fa52e22",
   "metadata": {},
   "outputs": [],
   "source": [
    "upper=int(input())\n",
    "for num in range(1,upper+1):\n",
    "  if num > 1:\n",
    "    for i in range(2,num):\n",
    "      if (num%i) == 0:\n",
    "        break\n",
    "      else:\n",
    "        print(num)"
   ]
  },
  {
   "cell_type": "code",
   "execution_count": null,
   "id": "f343ea09",
   "metadata": {},
   "outputs": [],
   "source": [
    "lower = int(input(\"Enter lower range: \"))  \n",
    "upper = int(input(\"Enter upper range: \"))  \n",
    "  \n",
    "for num in range(lower,upper + 1):  \n",
    "   if num > 1:  \n",
    "       for i in range(2,num):  \n",
    "           if (num % i) == 0:  \n",
    "               break  \n",
    "       else:  \n",
    "           print(num)  "
   ]
  },
  {
   "cell_type": "code",
   "execution_count": null,
   "id": "a414ce49",
   "metadata": {},
   "outputs": [],
   "source": [
    "n=int(input())\n",
    "arr=[int(x) for x in input().split()]\n",
    "for i in range(n+1):\n",
    "    for j in range(len(arr)):\n",
    "        if i != arr[j]:\n",
    "            print(i)\n",
    "            break"
   ]
  },
  {
   "cell_type": "code",
   "execution_count": null,
   "id": "b70a3199",
   "metadata": {},
   "outputs": [],
   "source": [
    "arr=[int(x) for x in input().split()]\n",
    "print(arr[-1])"
   ]
  },
  {
   "cell_type": "code",
   "execution_count": null,
   "id": "8c51a417",
   "metadata": {},
   "outputs": [],
   "source": [
    "arr = [1,2,3,4,5,6,7,9,10]\n",
    "missing_elements = []\n",
    "for ele in range(arr[0], arr[-1]+1):\n",
    "    if ele not in arr:\n",
    "        missing_elements.append(ele)\n",
    "print(missing_elements)"
   ]
  },
  {
   "cell_type": "code",
   "execution_count": null,
   "id": "31d4d54f",
   "metadata": {},
   "outputs": [],
   "source": [
    "n=int(input())\n",
    "arr=[int(x) for x in input().split()]\n",
    "missing_element=[]\n",
    "for i in range(1,n+1):\n",
    "    if i not in arr:\n",
    "        missing_element.append(i)\n",
    "print(*missing_element)"
   ]
  },
  {
   "cell_type": "code",
   "execution_count": null,
   "id": "70615e92",
   "metadata": {},
   "outputs": [],
   "source": [
    "n,k,m=input().split()\n",
    "for char in n:\n",
    "    if char in k and m:\n",
    "        print(char,end='')\n",
    "   "
   ]
  },
  {
   "cell_type": "code",
   "execution_count": null,
   "id": "a7d9042c",
   "metadata": {},
   "outputs": [],
   "source": [
    "n=int(input())\n",
    "arr=[int(x) for x in input().split()]\n",
    "for i in range(0,len(arr)):\n",
    "    for j in range(i+1,len(arr)):\n",
    "        if arr[i] - arr[j] >= 0:\n",
    "            print(arr[i]-arr[j],end=' ')"
   ]
  },
  {
   "cell_type": "code",
   "execution_count": null,
   "id": "df7fb1f8",
   "metadata": {},
   "outputs": [],
   "source": [
    "n,k=map(int,input().split())\n",
    "arr=[int(x) for x in input().split()]\n",
    "if k in arr:\n",
    "    print(arr.remove(k))\n"
   ]
  },
  {
   "cell_type": "code",
   "execution_count": null,
   "id": "6f827760",
   "metadata": {},
   "outputs": [],
   "source": [
    "str=input()\n"
   ]
  },
  {
   "cell_type": "code",
   "execution_count": null,
   "id": "45cb3baf",
   "metadata": {},
   "outputs": [],
   "source": [
    "string=input()\n",
    "for i in string:\n",
    "    count=0\n",
    "    for j in string:\n",
    "        if i == j:\n",
    "            count += 1\n",
    "        if count > 1:\n",
    "            break\n",
    "    if count == 1:\n",
    "        print(i,end='')\n",
    "    else:\n",
    "        print(i,end='')"
   ]
  },
  {
   "cell_type": "code",
   "execution_count": null,
   "id": "516de206",
   "metadata": {},
   "outputs": [],
   "source": [
    "#take user input\n",
    "String = input('Enter the string :')\n",
    "for i in String:\n",
    "    #initialize a count variable\n",
    "    count = 0\n",
    "    for j in String:\n",
    "        #check for repeated characters\n",
    "        if i == j:\n",
    "            count+=1\n",
    "        #if character is found more than 1 time\n",
    "        #brerak the loop\n",
    "        if count > 1:\n",
    "            break\n",
    "    #print for nonrepeating characters\n",
    "    if count == 1:\n",
    "        print(i,end = \" \")"
   ]
  },
  {
   "cell_type": "code",
   "execution_count": null,
   "id": "7618999b",
   "metadata": {},
   "outputs": [],
   "source": [
    "n=input()\n",
    "n=int(n)\n",
    "print(max(n))"
   ]
  },
  {
   "cell_type": "code",
   "execution_count": null,
   "id": "22240db5",
   "metadata": {},
   "outputs": [],
   "source": [
    "n=input()\n",
    "\n",
    "if (n[0] == 'a' or 'A') and (n[1] == 'm' or 'M') and (n[2] == 'z' or 'Z'):\n",
    "    print('1')\n",
    "else:\n",
    "    print('0')"
   ]
  },
  {
   "cell_type": "code",
   "execution_count": null,
   "id": "a793e32a",
   "metadata": {},
   "outputs": [],
   "source": [
    "n=input()\n",
    "if n[1] == 's' or 'S':\n",
    "    print('1')\n",
    "    print(n[1])"
   ]
  },
  {
   "cell_type": "code",
   "execution_count": null,
   "id": "d65a0866",
   "metadata": {},
   "outputs": [],
   "source": [
    "my_str = input()  \n",
    "words = my_str.split()  \n",
    "words.sort()  \n",
    "for word in words:  \n",
    "    print(word,end=' ')  \n"
   ]
  },
  {
   "cell_type": "code",
   "execution_count": null,
   "id": "4fff5d21",
   "metadata": {},
   "outputs": [],
   "source": [
    "n,m=input().split()\n",
    "for char in n:\n",
    "    if char not in m:\n",
    "        print(char,end='')\n",
    "    "
   ]
  },
  {
   "cell_type": "code",
   "execution_count": null,
   "id": "05243fda",
   "metadata": {},
   "outputs": [],
   "source": [
    "n=input()\n",
    "m='dhoni'\n",
    "reverse=n[::-1]\n",
    "reverse_1=m[::-1]\n",
    "if reverse == reverse_1:\n",
    "    print('yes')"
   ]
  },
  {
   "cell_type": "code",
   "execution_count": null,
   "id": "e580474f",
   "metadata": {},
   "outputs": [],
   "source": [
    "#take user input\n",
    "String = input('Enter the string :')\n",
    "for i in String:\n",
    "    #initialize a count variable\n",
    "    count = 0\n",
    "    for j in String:\n",
    "        #check for repeated characters\n",
    "        if i == j:\n",
    "            count+=1\n",
    "        #if character is found more than 1 time\n",
    "        #brerak the loop\n",
    "        if count > 1:\n",
    "            break\n",
    "    #print for nonrepeating characters\n",
    "    if count == 1:\n",
    "        print(i,end = \"\")"
   ]
  },
  {
   "cell_type": "code",
   "execution_count": null,
   "id": "70861175",
   "metadata": {},
   "outputs": [],
   "source": [
    "string=input()\n",
    "for i in string:\n",
    "    count=0\n",
    "    for j in string:\n",
    "        if i == j:\n",
    "            count += 1\n",
    "        if count > 1:\n",
    "            break\n",
    "    if count == 1:\n",
    "        print(i,end='')"
   ]
  },
  {
   "cell_type": "code",
   "execution_count": null,
   "id": "7e2ef819",
   "metadata": {},
   "outputs": [],
   "source": [
    "list=[1,2,3,4,5]\n",
    "n=input()\n",
    "def n_in_list(x):\n",
    "    return 'n' in x"
   ]
  },
  {
   "cell_type": "code",
   "execution_count": null,
   "id": "f6e9638e",
   "metadata": {},
   "outputs": [],
   "source": [
    "n=int(input())\n",
    "arr=[int(x) for x in input().split()]\n",
    "for i in range(len(arr)):\n",
    "    if arr[i] == i:\n",
    "        print(i,end=' ')\n",
    "    else:\n",
    "        print('-1')\n",
    "        break"
   ]
  },
  {
   "cell_type": "code",
   "execution_count": null,
   "id": "91dd3db9",
   "metadata": {},
   "outputs": [],
   "source": [
    "try:\n",
    "    n=int(input())\n",
    "    for num in range(1,n+1):\n",
    "        if num > 1:\n",
    "            for i in range(2,num):\n",
    "                if (num % i) == 0:\n",
    "                    break\n",
    "            else:\n",
    "                print(num,end=' ')\n",
    "except:\n",
    "    pass"
   ]
  },
  {
   "cell_type": "code",
   "execution_count": null,
   "id": "655e4cbf",
   "metadata": {},
   "outputs": [],
   "source": [
    "def common_prefix(str1,str2):\n",
    "    n1=len(str1)\n",
    "    n2=len(str2)\n",
    "    \n",
    "    result=''\n",
    "    \n",
    "    i=0\n",
    "    j=0\n",
    "    \n",
    "    while(i<=n1-1 and j<=n2-2):\n",
    "        if str1[i] != str2[j]:\n",
    "            break\n",
    "        result += (str1[i])\n",
    "        \n",
    "        i += 1\n",
    "        j += 1\n",
    "    return result\n",
    "n=int(input())\n",
    "str1=input()\n",
    "str2=input()\n",
    "print(common_prefix(str1,str2))"
   ]
  },
  {
   "cell_type": "code",
   "execution_count": null,
   "id": "8fe91121",
   "metadata": {},
   "outputs": [],
   "source": [
    "arr1=[int(x) for x in input().split()]\n",
    "arr2=[int(x) for x in input().split()]\n",
    "for i in range(len(arr1)):\n",
    "    if arr1[i] in arr2:\n",
    "        print(arr1[i])\n",
    "      \n",
    "    "
   ]
  },
  {
   "cell_type": "code",
   "execution_count": null,
   "id": "3ba0ebbd",
   "metadata": {},
   "outputs": [],
   "source": [
    "n,k=map(int,input().split())\n",
    "arr=[int(x) for x in input().split()]\n",
    "for i in range(0,len(arr)):\n",
    "    for j in range(i+1,len(arr)):\n",
    "        if arr[i]+arr[j] == k:\n",
    "            print('yes')\n",
    "            break\n",
    "            "
   ]
  },
  {
   "cell_type": "code",
   "execution_count": null,
   "id": "e7b77491",
   "metadata": {},
   "outputs": [],
   "source": [
    "try:\n",
    "    n=int(input())\n",
    "    arr=[int(x) for x in input().split()]\n",
    "    for i in range(len(arr)-1,-1,-1):\n",
    "         print(arr[i],end=' ')\n",
    "except:\n",
    "    pass\n"
   ]
  },
  {
   "cell_type": "code",
   "execution_count": null,
   "id": "782f8c71",
   "metadata": {},
   "outputs": [],
   "source": [
    "for i in range(2,2):\n",
    "    print(i+1)"
   ]
  },
  {
   "cell_type": "code",
   "execution_count": null,
   "id": "5d9ce045",
   "metadata": {},
   "outputs": [],
   "source": [
    "print(2%2)"
   ]
  },
  {
   "cell_type": "code",
   "execution_count": null,
   "id": "1d734b97",
   "metadata": {},
   "outputs": [],
   "source": [
    "s=input()\n",
    "for i in (s):\n",
    "    for j in (s):\n",
    "        if i == j:\n",
    "            print(i)"
   ]
  },
  {
   "cell_type": "code",
   "execution_count": null,
   "id": "47a6f0d6",
   "metadata": {},
   "outputs": [],
   "source": [
    "n,k,m=input().split()\n",
    "for char in n:\n",
    "    for i in k:\n",
    "        for j in m:\n",
    "            if char==i==j:\n",
    "                A=char\n",
    "                for i in A:\n",
    "                    for j in A:\n",
    "                        if i == j:\n",
    "                            print(A.replace('i',''))"
   ]
  },
  {
   "cell_type": "code",
   "execution_count": null,
   "id": "257568e6",
   "metadata": {},
   "outputs": [],
   "source": [
    "arr=[int(x) for x in input().split()]\n",
    "for i in range(0,len(arr)):\n",
    "    for j in range(i+1,len(arr)):\n",
    "        if arr[i] - arr[j] == 1:\n",
    "            print(max(arr[i],arr[j]))"
   ]
  },
  {
   "cell_type": "code",
   "execution_count": null,
   "id": "87241e00",
   "metadata": {},
   "outputs": [],
   "source": [
    "x = [0,5,10,15,20]\n",
    ">>> xdiff = [x[n]-x[n-1] for n in range(1,len(x))]\n",
    ">>> xdiff"
   ]
  },
  {
   "cell_type": "code",
   "execution_count": null,
   "id": "10ab827c",
   "metadata": {},
   "outputs": [],
   "source": [
    "arr=[int(x) for x in input().split()]\n",
    "for n in range(1,len(arr)):\n",
    "    if arr[n-1]-arr[n] == 1:\n",
    "        print(max(arr[n-1]))"
   ]
  },
  {
   "cell_type": "code",
   "execution_count": null,
   "id": "849ec306",
   "metadata": {},
   "outputs": [],
   "source": [
    "arr=[int(x) for x in input().split()]\n",
    "for i in range(len(arr)):\n",
    "    for j in range(len(arr)):\n",
    "        print(arr[j] - arr[i]) \n",
    "            "
   ]
  },
  {
   "cell_type": "code",
   "execution_count": null,
   "id": "66e7d9ba",
   "metadata": {},
   "outputs": [],
   "source": [
    "s=input()\n",
    "n=input()\n",
    "if n in s:\n",
    "    print(s.index(n[0]))\n",
    "else:\n",
    "    print('-1')"
   ]
  },
  {
   "cell_type": "code",
   "execution_count": null,
   "id": "3f168a20",
   "metadata": {},
   "outputs": [],
   "source": [
    "string1 = 'sathua' \n",
    "string2 = 'hat' \n",
    "s1 = set(string1) \n",
    "s2 = set(string2) \n",
    "common_char = s1 & s2"
   ]
  },
  {
   "cell_type": "code",
   "execution_count": null,
   "id": "957c03ad",
   "metadata": {},
   "outputs": [],
   "source": [
    "print(common_char)"
   ]
  },
  {
   "cell_type": "code",
   "execution_count": null,
   "id": "3905ddba",
   "metadata": {},
   "outputs": [],
   "source": [
    "str1=input()\n",
    "str2=input()\n",
    "str3=input()\n",
    "s1=set(str1)\n",
    "s2=set(str2)\n",
    "s3=set(str3)\n",
    "common_char=s1&s2&s3\n",
    "print(*common_char)"
   ]
  },
  {
   "cell_type": "code",
   "execution_count": null,
   "id": "01bdab07",
   "metadata": {},
   "outputs": [],
   "source": [
    "# Python program to find N largest\n",
    "# element from given list of integers\n",
    "\n",
    "# Function returns N largest elements\n",
    "def Nmaxelements(list1, N):\n",
    "\tfinal_list = []\n",
    "\n",
    "\tfor i in range(0, N):\n",
    "\t\tmax1 = 0\n",
    "\t\t\n",
    "\t\tfor j in range(len(list1)):\t\n",
    "\t\t\tif list1[j] > max1:\n",
    "\t\t\t\tmax1 = list1[j];\n",
    "\t\t\t\t\n",
    "\t\tlist1.remove(max1);\n",
    "\t\tfinal_list.append(max1)\n",
    "\t\t\n",
    "\tprint(final_list)\n",
    "\n",
    "# Driver code\n",
    "list1 = [2, 6, 41, 85, 0, 3, 7, 6, 10]\n",
    "N = 2\n",
    "\n",
    "# Calling the function\n",
    "Nmaxelements(list1, N)\n"
   ]
  },
  {
   "cell_type": "code",
   "execution_count": null,
   "id": "6cb16ea4",
   "metadata": {},
   "outputs": [],
   "source": [
    "list_1=[int(x) for x in input().split()]\n",
    "N=int(input())\n",
    "for i in range(0,N):\n",
    "    max1=0\n",
    "    for j in range(len(list)):\n",
    "        if list[j] > max1:\n",
    "            max1=list[j]\n",
    "   \n",
    "    for i in list:\n",
    "        if i != list_1:\n",
    "            print(i)"
   ]
  },
  {
   "cell_type": "code",
   "execution_count": null,
   "id": "cb5d1e33",
   "metadata": {},
   "outputs": [],
   "source": [
    "n=input()\n",
    "d=int(input())\n",
    "Rfirst=n[0:len(n)-d]\n",
    "Rsecond=n[len(n)-d:]\n",
    "print(Rsecond+Rfirst)"
   ]
  },
  {
   "cell_type": "code",
   "execution_count": null,
   "id": "4e711fff",
   "metadata": {},
   "outputs": [],
   "source": [
    "n,d=input().split()\n",
    "d=int(d)\n",
    "Rfirst=n[0:len(n)-d]\n",
    "Rsecond=n[len(n)-d:]\n",
    "print(Rfirst+Rsecond)"
   ]
  },
  {
   "cell_type": "code",
   "execution_count": null,
   "id": "ada35b0e",
   "metadata": {},
   "outputs": [],
   "source": [
    "def rotate(strg, n):\n",
    "    return strg[n:] + strg[:n]\n",
    "\n",
    "rotate('HELLO', -1)  # 'OHELL'"
   ]
  },
  {
   "cell_type": "code",
   "execution_count": null,
   "id": "c982b5bb",
   "metadata": {},
   "outputs": [],
   "source": [
    "def rotate(str,n):\n",
    "    return str[n:]+str[:n]\n",
    "str=input()\n",
    "n=int(input())\n",
    "rotate(str,n)"
   ]
  },
  {
   "cell_type": "code",
   "execution_count": null,
   "id": "8ab4ca00",
   "metadata": {},
   "outputs": [],
   "source": [
    "from collections import deque\n",
    "\n",
    "items = deque('HELLO')\n",
    "items.rotate(34)\n",
    "\n",
    "print(''.join(items))"
   ]
  },
  {
   "cell_type": "code",
   "execution_count": null,
   "id": "180f5d39",
   "metadata": {},
   "outputs": [],
   "source": [
    "from collections import deque\n",
    "str=input()\n",
    "items=deque(str)\n",
    "items.rotate(34)\n",
    "\n",
    "\"\".join(items)"
   ]
  },
  {
   "cell_type": "code",
   "execution_count": null,
   "id": "58436eba",
   "metadata": {},
   "outputs": [],
   "source": [
    "n=int(input())\n",
    "v=str(n)\n",
    "if len(v) == 2:\n",
    "    print('yes')"
   ]
  },
  {
   "cell_type": "code",
   "execution_count": null,
   "id": "859b06a2",
   "metadata": {},
   "outputs": [],
   "source": [
    "n=254\n",
    "m=47.33\n",
    "print(round(n/m,2))"
   ]
  },
  {
   "cell_type": "code",
   "execution_count": null,
   "id": "af867e1d",
   "metadata": {},
   "outputs": [],
   "source": [
    "n=int(input())\n",
    "f=input()\n",
    "f=float(f)\n",
    "print(n/f)"
   ]
  },
  {
   "cell_type": "code",
   "execution_count": null,
   "id": "8955767a",
   "metadata": {},
   "outputs": [],
   "source": [
    "n,m=map(float,input().split())\n",
    "if m > 20:\n",
    "    m=m/6\n",
    "    print(n/m)\n",
    "else:\n",
    "    print(n/m)"
   ]
  },
  {
   "cell_type": "code",
   "execution_count": null,
   "id": "85639da4",
   "metadata": {},
   "outputs": [],
   "source": [
    "import numpy as np\n",
    "from matplotlib import pyplot as plt\n",
    "a=np.array([20,87,4,40,53,74,56,51,11,20,40,15,79,25,27])\n",
    "plt.hist(a,bins=[0,20,30,40,50,60,80,100],color='pink')\n",
    "plt.title('histogram')\n",
    "plt.show()"
   ]
  },
  {
   "cell_type": "code",
   "execution_count": null,
   "id": "bf1adbd7",
   "metadata": {},
   "outputs": [],
   "source": [
    "import numpy as np\n",
    "a=np.zeros(10)\n",
    "a[4]=1\n",
    "print(a)"
   ]
  },
  {
   "cell_type": "code",
   "execution_count": null,
   "id": "a76cb4d1",
   "metadata": {},
   "outputs": [],
   "source": [
    "import numpy as np\n",
    "a=np.size\n",
    "print(a)"
   ]
  },
  {
   "cell_type": "code",
   "execution_count": null,
   "id": "99cb9e8c",
   "metadata": {},
   "outputs": [],
   "source": [
    "import numpy as np\n",
    "a=np.arange(9)\n",
    "print(a)"
   ]
  },
  {
   "cell_type": "code",
   "execution_count": null,
   "id": "105798d1",
   "metadata": {},
   "outputs": [],
   "source": [
    "print(a.size)"
   ]
  },
  {
   "cell_type": "code",
   "execution_count": null,
   "id": "5ea24d54",
   "metadata": {},
   "outputs": [],
   "source": [
    "print(a.itemsize)"
   ]
  },
  {
   "cell_type": "code",
   "execution_count": null,
   "id": "38cb0a50",
   "metadata": {},
   "outputs": [],
   "source": [
    "print(np.info(a))"
   ]
  },
  {
   "cell_type": "code",
   "execution_count": null,
   "id": "e6d98903",
   "metadata": {},
   "outputs": [],
   "source": [
    "import numpy as np\n",
    "a=np.arange(10,49)\n",
    "print(a[::-1])"
   ]
  },
  {
   "cell_type": "code",
   "execution_count": null,
   "id": "faa29274",
   "metadata": {},
   "outputs": [],
   "source": [
    "import numpy as np"
   ]
  },
  {
   "cell_type": "code",
   "execution_count": null,
   "id": "9edacca9",
   "metadata": {},
   "outputs": [],
   "source": [
    "a=np.arange(9)\n",
    "b=a.reshape(3,3)\n",
    "print(b)"
   ]
  },
  {
   "cell_type": "code",
   "execution_count": null,
   "id": "ba03a5bb",
   "metadata": {},
   "outputs": [],
   "source": [
    "print(np.nonzero(a))"
   ]
  },
  {
   "cell_type": "code",
   "execution_count": null,
   "id": "6053ea61",
   "metadata": {},
   "outputs": [],
   "source": [
    "import numpy as np\n",
    "a=[1,2,0,0,4,0]\n",
    "\n",
    "print(np.nonzero(a))"
   ]
  },
  {
   "cell_type": "code",
   "execution_count": null,
   "id": "0463331d",
   "metadata": {},
   "outputs": [],
   "source": [
    "print(np.eye(3,3))"
   ]
  },
  {
   "cell_type": "code",
   "execution_count": null,
   "id": "e91f9253",
   "metadata": {},
   "outputs": [],
   "source": [
    "print(np.random.random(3))"
   ]
  },
  {
   "cell_type": "code",
   "execution_count": null,
   "id": "a0f303e4",
   "metadata": {},
   "outputs": [],
   "source": [
    "import numpy as np\n",
    "a=[3][3][3]\n",
    "print(a)"
   ]
  },
  {
   "cell_type": "code",
   "execution_count": null,
   "id": "1cf2ea65",
   "metadata": {},
   "outputs": [],
   "source": [
    "print(np.random(3).random(3))"
   ]
  },
  {
   "cell_type": "code",
   "execution_count": null,
   "id": "947571dd",
   "metadata": {},
   "outputs": [],
   "source": [
    "arr[3][2][2]={0,1,2,3,4,5,6,7,8,9,3,2}\n"
   ]
  },
  {
   "cell_type": "code",
   "execution_count": null,
   "id": "ac7c3edf",
   "metadata": {},
   "outputs": [],
   "source": [
    "from numpy import random\n",
    "\n",
    "x = random.randint(100)\n",
    "\n",
    "print(x)"
   ]
  },
  {
   "cell_type": "code",
   "execution_count": null,
   "id": "75151d9f",
   "metadata": {},
   "outputs": [],
   "source": [
    "from numpy import random\n",
    "\n",
    "x = random.randint(100, size=(3, 5))\n",
    "\n",
    "print(x)"
   ]
  },
  {
   "cell_type": "code",
   "execution_count": null,
   "id": "d2e677cf",
   "metadata": {},
   "outputs": [],
   "source": [
    "import numpy as np\n",
    "a=np.arange(0,10)\n",
    "print(a)"
   ]
  },
  {
   "cell_type": "code",
   "execution_count": null,
   "id": "d41ec05a",
   "metadata": {},
   "outputs": [],
   "source": [
    "import numpy as np\n",
    "print(np.random(3,3,3))"
   ]
  },
  {
   "cell_type": "code",
   "execution_count": null,
   "id": "36283b90",
   "metadata": {},
   "outputs": [],
   "source": [
    "print(np.random.rand(3,3,3))"
   ]
  },
  {
   "cell_type": "code",
   "execution_count": null,
   "id": "6453f656",
   "metadata": {},
   "outputs": [],
   "source": [
    "a = np.random.rand(10,10)\n",
    "print(a)"
   ]
  },
  {
   "cell_type": "code",
   "execution_count": null,
   "id": "c2f32654",
   "metadata": {},
   "outputs": [],
   "source": [
    "print(a.max())"
   ]
  },
  {
   "cell_type": "code",
   "execution_count": null,
   "id": "65284e57",
   "metadata": {},
   "outputs": [],
   "source": [
    "print(a.min())"
   ]
  },
  {
   "cell_type": "code",
   "execution_count": null,
   "id": "da9abbb0",
   "metadata": {},
   "outputs": [],
   "source": [
    "a=np.random.rand(30)\n",
    "print(a.mean())"
   ]
  },
  {
   "cell_type": "code",
   "execution_count": null,
   "id": "136dbcd9",
   "metadata": {},
   "outputs": [],
   "source": [
    "a=np.arange(9)\n",
    "print(a)"
   ]
  },
  {
   "cell_type": "code",
   "execution_count": null,
   "id": "6e2068a6",
   "metadata": {},
   "outputs": [],
   "source": [
    "a[1:-1]=1\n",
    "print(a)"
   ]
  },
  {
   "cell_type": "code",
   "execution_count": null,
   "id": "fa959bc4",
   "metadata": {},
   "outputs": [],
   "source": [
    "a=np.ones((5,5))\n",
    "print(np.pad)"
   ]
  },
  {
   "cell_type": "code",
   "execution_count": null,
   "id": "1bc4d10d",
   "metadata": {},
   "outputs": [],
   "source": [
    "import numpy as np\n",
    "a=np.random.rand(4,4)\n",
    "a=np.pad(a,pad_width=1,constant_values=0)\n",
    "print(a)"
   ]
  },
  {
   "cell_type": "code",
   "execution_count": null,
   "id": "8a1c2dd5",
   "metadata": {},
   "outputs": [],
   "source": [
    "a=np.random.rand(5,5)\n",
    "print(np.diag())"
   ]
  },
  {
   "cell_type": "code",
   "execution_count": null,
   "id": "4553cc14",
   "metadata": {},
   "outputs": [],
   "source": [
    "a=np.random.randint(4,10)\n",
    "print(a)"
   ]
  },
  {
   "cell_type": "code",
   "execution_count": null,
   "id": "68c76b5c",
   "metadata": {},
   "outputs": [],
   "source": [
    "print(0*np.nan)\n",
    "print(np.nan==np.nan)\n",
    "print(np.inf > np.nan)\n",
    "print(np.nan-np.nan)\n",
    "print(0.3==3*0.1)"
   ]
  },
  {
   "cell_type": "code",
   "execution_count": null,
   "id": "2a199679",
   "metadata": {},
   "outputs": [],
   "source": [
    "import numpy as np\n",
    "x = np.diag([1, 2, 3, 4, 5])\n",
    "print(x)"
   ]
  },
  {
   "cell_type": "code",
   "execution_count": null,
   "id": "b6dd9c65",
   "metadata": {},
   "outputs": [],
   "source": [
    "import numpy as np\n",
    "x = np.ones((3,3))\n",
    "print(\"Checkerboard pattern:\")\n",
    "x = np.zeros((8,8),dtype=int)\n",
    "x[1::2,::2] = 1\n",
    "x[::2,1::2] = 1\n",
    "print(x)"
   ]
  },
  {
   "cell_type": "code",
   "execution_count": null,
   "id": "1b398d14",
   "metadata": {},
   "outputs": [],
   "source": [
    "Z = np.zeros((5,5))\n",
    "print(\"%d bytes\" % (Z.size * Z.itemsize))"
   ]
  },
  {
   "cell_type": "code",
   "execution_count": null,
   "id": "6ab3112b",
   "metadata": {},
   "outputs": [],
   "source": [
    "Z = np.diag(1+np.arange(4),k=-1)\n",
    "print(Z)"
   ]
  },
  {
   "cell_type": "code",
   "execution_count": null,
   "id": "0a1029fa",
   "metadata": {},
   "outputs": [],
   "source": [
    "import numpy as np\n",
    "a=np.arange(3,5)\n",
    "b=np.arange(2,3)\n",
    "print(a)\n",
    "print(b)"
   ]
  },
  {
   "cell_type": "code",
   "execution_count": null,
   "id": "f243a1f8",
   "metadata": {},
   "outputs": [],
   "source": [
    "import numpy as np\n",
    "M1 = np.array([[5, -10, 15], [3, -6, 9], [-4, 8, 12]])\n",
    "print(M1)"
   ]
  },
  {
   "cell_type": "code",
   "execution_count": null,
   "id": "4d5ba5f7",
   "metadata": {},
   "outputs": [],
   "source": [
    "import numpy as np\n",
    "M1=np.array([[5,-10,15],[3,-6,9],[-4,8,12],[2,-4,6],[1,-3,7]])\n",
    "M2=np.array([[1,-3],[2,-4],[3,-5]])\n",
    "print(M1)\n",
    "print(M2)"
   ]
  },
  {
   "cell_type": "code",
   "execution_count": null,
   "id": "75caa3f8",
   "metadata": {},
   "outputs": [],
   "source": [
    "import numpy as np\n",
    "\n",
    "M1 = np.array([[3, 6, 9], [5, -10, 15], [-7, 14, 21],[2,-4,6],[1,-3,7]])\n",
    "M2 = np.array([[1,-3],[2,-4],[3,-5]])\n",
    "M3 = M1.dot(M2)  \n",
    "print(M3)"
   ]
  },
  {
   "cell_type": "code",
   "execution_count": null,
   "id": "085c884f",
   "metadata": {},
   "outputs": [],
   "source": [
    "import numpy as np\n",
    "print(np.unravel_index(99,(6,7,8)))"
   ]
  },
  {
   "cell_type": "code",
   "execution_count": null,
   "id": "8c180b78",
   "metadata": {},
   "outputs": [],
   "source": [
    "Z = np.tile( np.array([[0,1],[1,0]]), (5,5))\n",
    "print(Z)"
   ]
  },
  {
   "cell_type": "code",
   "execution_count": null,
   "id": "2fed932a",
   "metadata": {},
   "outputs": [],
   "source": [
    "np.array([[0,1],[1,0]])"
   ]
  },
  {
   "cell_type": "code",
   "execution_count": null,
   "id": "b764227f",
   "metadata": {},
   "outputs": [],
   "source": [
    "z=np.tile(np.array([0,1]),4)\n",
    "z1=np.tile(np.array([1,0]),4)\n",
    "print(z)\n",
    "print(z1)"
   ]
  },
  {
   "cell_type": "code",
   "execution_count": null,
   "id": "7c8406eb",
   "metadata": {},
   "outputs": [],
   "source": [
    "color = np.dtype([(\"r\", np.ubyte),\n",
    "                  (\"g\", np.ubyte),\n",
    "                  (\"b\", np.ubyte),\n",
    "                  (\"a\", np.ubyte)])"
   ]
  },
  {
   "cell_type": "code",
   "execution_count": null,
   "id": "70dc19bd",
   "metadata": {},
   "outputs": [],
   "source": [
    "print(color)"
   ]
  },
  {
   "cell_type": "code",
   "execution_count": null,
   "id": "87f1df36",
   "metadata": {},
   "outputs": [],
   "source": [
    "a=np.arange(9)\n",
    "a[(3<a)&(a<8)] *= -1\n",
    "print(a)"
   ]
  },
  {
   "cell_type": "code",
   "execution_count": null,
   "id": "f1ed2196",
   "metadata": {},
   "outputs": [],
   "source": [
    "Z = np.arange(11)\n",
    "Z[(3 < Z) & (Z < 8)] *= -1\n",
    "print(Z)"
   ]
  },
  {
   "cell_type": "code",
   "execution_count": null,
   "id": "23e14260",
   "metadata": {},
   "outputs": [],
   "source": [
    "import numpy as np\n",
    "\n",
    "arr = np.arange(11)\n",
    "\n",
    "arr[3:9] = np.multiply(arr[3:9],-1)\n",
    "\n",
    "print(arr)"
   ]
  },
  {
   "cell_type": "code",
   "execution_count": null,
   "id": "2c1f02e1",
   "metadata": {},
   "outputs": [],
   "source": [
    "print(sum(range(5),-1))\n",
    "from numpy import *\n",
    "print(sum(range(5),-1))"
   ]
  },
  {
   "cell_type": "code",
   "execution_count": null,
   "id": "8efb45fb",
   "metadata": {},
   "outputs": [],
   "source": [
    "print(sum(range(5),-1))"
   ]
  },
  {
   "cell_type": "code",
   "execution_count": null,
   "id": "c33e9d10",
   "metadata": {},
   "outputs": [],
   "source": [
    "print(sum(range(5)))"
   ]
  },
  {
   "cell_type": "code",
   "execution_count": null,
   "id": "11dea07b",
   "metadata": {},
   "outputs": [],
   "source": [
    "print(sum(range(5),-1))\n",
    "from numpy import *\n",
    "print(sum(range(5),-1))"
   ]
  },
  {
   "cell_type": "code",
   "execution_count": null,
   "id": "ea850ccc",
   "metadata": {},
   "outputs": [],
   "source": [
    "print(sum(range(5),-1))"
   ]
  },
  {
   "cell_type": "code",
   "execution_count": null,
   "id": "1c1fc992",
   "metadata": {},
   "outputs": [],
   "source": [
    "print(np.array(0) / np.array(0))\n",
    "print(np.array(0) // np.array(0))\n",
    "print(np.array([np.nan]).astype(int).astype(float))"
   ]
  },
  {
   "cell_type": "code",
   "execution_count": null,
   "id": "ad0a94da",
   "metadata": {},
   "outputs": [],
   "source": [
    "np.array(0)"
   ]
  },
  {
   "cell_type": "code",
   "execution_count": null,
   "id": "f6bf5033",
   "metadata": {},
   "outputs": [],
   "source": [
    "arr = np.array([[-1, 2, 0, 4],\n",
    "                [4, -0.5, 6, 0],\n",
    "                [2.6, 0, 7, 8],\n",
    "                [3, -7, 4, 2.0]])\n",
    "temp=arr[[0,1,2,3],[3,2,1,0]]\n",
    "print(temp)"
   ]
  },
  {
   "cell_type": "code",
   "execution_count": null,
   "id": "30d986d7",
   "metadata": {},
   "outputs": [],
   "source": [
    "arr = np.array([[-1, 2, 0, 4],\n",
    "                [4, -0.5, 6, 0],\n",
    "                [2.6, 0, 7, 8],\n",
    "                [3, -7, 4, 2.0]])\n",
    "print(arr)"
   ]
  },
  {
   "cell_type": "code",
   "execution_count": null,
   "id": "532c962c",
   "metadata": {},
   "outputs": [],
   "source": [
    "cond = arr > 0 # cond is a boolean array\n",
    "temp = arr[cond]\n",
    "print (\"\\nElements greater than 0:\\n\", temp)"
   ]
  },
  {
   "cell_type": "code",
   "execution_count": null,
   "id": "38b230ef",
   "metadata": {},
   "outputs": [],
   "source": [
    "import numpy as np\n",
    "arr=np.array([1,2,3,4,5])\n",
    "print(type(arr))"
   ]
  },
  {
   "cell_type": "code",
   "execution_count": null,
   "id": "2026366c",
   "metadata": {},
   "outputs": [],
   "source": [
    "import numpy as np\n",
    "\n",
    "arr = np.array([1, 2, 3, 4, 5])\n",
    "\n",
    "print(arr)\n",
    "\n",
    "print(type(arr))"
   ]
  },
  {
   "cell_type": "code",
   "execution_count": null,
   "id": "f5dd4797",
   "metadata": {},
   "outputs": [],
   "source": [
    "arr = np.array([1, 2, 3, 4, 5])\n",
    "print(arr)"
   ]
  },
  {
   "cell_type": "code",
   "execution_count": null,
   "id": "4e904549",
   "metadata": {},
   "outputs": [],
   "source": [
    "import numpy as np\n",
    "\n",
    "arr = np.array((1, 2, 3, 4, 5))\n",
    "\n",
    "print(arr)"
   ]
  },
  {
   "cell_type": "code",
   "execution_count": null,
   "id": "03303e5e",
   "metadata": {},
   "outputs": [],
   "source": [
    "import numpy as np\n",
    "arr=np.array([1,2,3,4,5],ndmin=5)\n",
    "print(arr)\n"
   ]
  },
  {
   "cell_type": "code",
   "execution_count": null,
   "id": "5f8f5657",
   "metadata": {},
   "outputs": [],
   "source": [
    "arr = np.array([1, 2, 3, 4])\n",
    "\n",
    "print(arr.ndim)"
   ]
  },
  {
   "cell_type": "code",
   "execution_count": null,
   "id": "3780a7ce",
   "metadata": {},
   "outputs": [],
   "source": [
    "arr = np.array([[10, 20, 30, 40], [50, 60, 70, 80]])\n",
    "print(arr[1,0])"
   ]
  },
  {
   "cell_type": "code",
   "execution_count": null,
   "id": "bcf18920",
   "metadata": {},
   "outputs": [],
   "source": [
    "arr = np.array([10, 20, 30, 40, 50])\n",
    "print(arr[-1])"
   ]
  },
  {
   "cell_type": "code",
   "execution_count": null,
   "id": "71009078",
   "metadata": {},
   "outputs": [],
   "source": [
    "arr = np.array([10, 15, 20, 25, 30, 35, 40])\n",
    "print(arr[1:4])"
   ]
  },
  {
   "cell_type": "code",
   "execution_count": null,
   "id": "62fc9fab",
   "metadata": {},
   "outputs": [],
   "source": [
    "arr = np.array([10, 15, 20, 25, 30, 35, 40])\n",
    "print(arr[::3])"
   ]
  },
  {
   "cell_type": "code",
   "execution_count": null,
   "id": "badeaa3e",
   "metadata": {},
   "outputs": [],
   "source": [
    "arr = np.array([10, 15, 20, 25, 30, 35, 40])\n",
    "arr1 = np.array([10,90,50,100,])\n",
    "print(np.intersect1d(arr,arr1))"
   ]
  },
  {
   "cell_type": "code",
   "execution_count": null,
   "id": "7bccfcdc",
   "metadata": {},
   "outputs": [],
   "source": [
    "np.sqrt(-1) == np.emath.sqrt(-1)"
   ]
  },
  {
   "cell_type": "code",
   "execution_count": null,
   "id": "7f46aa0c",
   "metadata": {},
   "outputs": [],
   "source": [
    "arr=np.array([1,2,3,4,5])\n",
    "print(np.timedelta64(arr))"
   ]
  },
  {
   "cell_type": "code",
   "execution_count": null,
   "id": "cae83501",
   "metadata": {},
   "outputs": [],
   "source": [
    "yesterday=np.datetime64('today')-np.timedelta64(1)\n",
    "today=np.datetime64('today')\n",
    "tomorrow=np.datetime64('today')+np.timedelta64(1)"
   ]
  },
  {
   "cell_type": "code",
   "execution_count": null,
   "id": "df956334",
   "metadata": {},
   "outputs": [],
   "source": [
    "print(yesterday)\n",
    "print(today)\n",
    "print(tomorrow)"
   ]
  },
  {
   "cell_type": "code",
   "execution_count": null,
   "id": "cf596546",
   "metadata": {},
   "outputs": [],
   "source": [
    "a=np.arange('2016-07','2016-08',dtype='datetime64[D]')"
   ]
  },
  {
   "cell_type": "code",
   "execution_count": null,
   "id": "3991cd7b",
   "metadata": {},
   "outputs": [],
   "source": [
    "print(a)"
   ]
  },
  {
   "cell_type": "code",
   "execution_count": null,
   "id": "be119f98",
   "metadata": {},
   "outputs": [],
   "source": [
    "A=np.ones(3)*1\n",
    "B=np.ones(3)*2\n",
    "np.add(A,B,out=B)\n",
    "np.divide(A,2,out=A)\n",
    "np.negative(A,out=A)\n",
    "np.multiply(A,B,out=A)"
   ]
  },
  {
   "cell_type": "code",
   "execution_count": null,
   "id": "754649c2",
   "metadata": {},
   "outputs": [],
   "source": [
    "A=np.ones(3)*1\n",
    "B=np.ones(3)*2\n",
    "print(A)\n",
    "print(B)"
   ]
  },
  {
   "cell_type": "code",
   "execution_count": null,
   "id": "097eb6dd",
   "metadata": {},
   "outputs": [],
   "source": [
    "np.random.rand((5,5),"
   ]
  },
  {
   "cell_type": "code",
   "execution_count": null,
   "id": "8ff18f20",
   "metadata": {},
   "outputs": [],
   "source": [
    "A=np.tile(np.arange(0,5),(5,1))\n",
    "print(A)"
   ]
  },
  {
   "cell_type": "code",
   "execution_count": null,
   "id": "b7bfc4c3",
   "metadata": {},
   "outputs": [],
   "source": [
    "import numpy as np\n",
    "A=np.random.rand(10)"
   ]
  },
  {
   "cell_type": "code",
   "execution_count": null,
   "id": "19f4d1d1",
   "metadata": {},
   "outputs": [],
   "source": [
    "print(sort(A))"
   ]
  },
  {
   "cell_type": "code",
   "execution_count": null,
   "id": "665c4e16",
   "metadata": {},
   "outputs": [],
   "source": [
    "import numpy as np\n",
    "A=np.random.rand(10)\n",
    "print(np.add.reduce(A))"
   ]
  },
  {
   "cell_type": "code",
   "execution_count": null,
   "id": "f1d2a280",
   "metadata": {},
   "outputs": [],
   "source": [
    "import numpy as np\n",
    "A=np.ones(10)\n",
    "B=np.ones(10)\n",
    "np.array_equal(A,B)"
   ]
  },
  {
   "cell_type": "code",
   "execution_count": null,
   "id": "e255d152",
   "metadata": {},
   "outputs": [],
   "source": [
    "import numpy as np\n",
    "arr=np.array((1,2,3,4,5))\n",
    "print(arr)"
   ]
  },
  {
   "cell_type": "code",
   "execution_count": null,
   "id": "e51090a7",
   "metadata": {},
   "outputs": [],
   "source": [
    "import numpy as np\n",
    "arr=np.ones(5)\n"
   ]
  },
  {
   "cell_type": "code",
   "execution_count": null,
   "id": "e84a32d5",
   "metadata": {},
   "outputs": [],
   "source": [
    "arr=np.arange(9)\n",
    "arr[arr.argmax()]=0\n",
    "print(arr)"
   ]
  },
  {
   "cell_type": "code",
   "execution_count": null,
   "id": "b3333abf",
   "metadata": {},
   "outputs": [],
   "source": [
    "arr=np.array((2,4,6,8,10))\n",
    "A=np.gcd.reduce(arr)\n",
    "print(A)"
   ]
  },
  {
   "cell_type": "code",
   "execution_count": null,
   "id": "53673bb6",
   "metadata": {},
   "outputs": [],
   "source": [
    "import numpy as np\n",
    "\n",
    "print(type(np.add))"
   ]
  },
  {
   "cell_type": "code",
   "execution_count": null,
   "id": "96b094a4",
   "metadata": {},
   "outputs": [],
   "source": [
    "import numpy as np\n",
    "if type(np.add) == np.ufunc:\n",
    "    print(\"add in ufunc\")\n",
    "else:\n",
    "    print(\"add is not ufunc\")"
   ]
  },
  {
   "cell_type": "code",
   "execution_count": null,
   "id": "e0fd570b",
   "metadata": {},
   "outputs": [],
   "source": [
    "from math import log\n",
    "import numpy as np\n",
    "nlog=np.frompyfunc(log,2,1)\n",
    "print(nplog(100,15))"
   ]
  },
  {
   "cell_type": "code",
   "execution_count": null,
   "id": "14377599",
   "metadata": {},
   "outputs": [],
   "source": [
    "from math import log\n",
    "import numpy as np\n",
    "\n",
    "nplog = np.frompyfunc(log, 2, 1)\n",
    "\n",
    "print(nplog(100, 15))\n"
   ]
  },
  {
   "cell_type": "code",
   "execution_count": null,
   "id": "fa095b94",
   "metadata": {},
   "outputs": [],
   "source": [
    "import numpy as np\n",
    "arr1=np.array([1,2,3])\n",
    "arr2=np.array([1,2,3])\n",
    "newarr=np.sum([arr1,arr2],axis=1)\n",
    "print(newarr)"
   ]
  },
  {
   "cell_type": "code",
   "execution_count": null,
   "id": "dd0669ea",
   "metadata": {},
   "outputs": [],
   "source": [
    "import numpy as np\n",
    "arr=np.array([1,2,3])\n",
    "newarr=np.cumsum(arr)\n",
    "print(newarr)"
   ]
  },
  {
   "cell_type": "code",
   "execution_count": null,
   "id": "546a1610",
   "metadata": {},
   "outputs": [],
   "source": [
    "import numpy as np\n",
    "arr=np.array([10,20,30,40])\n",
    "newarr=np.diff(arr,n=2)\n",
    "print(newarr)"
   ]
  },
  {
   "cell_type": "code",
   "execution_count": null,
   "id": "2e36d154",
   "metadata": {},
   "outputs": [],
   "source": [
    "import numpy as np\n",
    "\n",
    "arr = np.arange(1, 11)\n",
    "\n",
    "x = np.lcm.reduce(arr)\n",
    "\n",
    "print(x)"
   ]
  },
  {
   "cell_type": "code",
   "execution_count": null,
   "id": "21c08125",
   "metadata": {},
   "outputs": [],
   "source": [
    "arr = np.arange(1, 11)\n",
    "print(arr)"
   ]
  },
  {
   "cell_type": "code",
   "execution_count": null,
   "id": "1b511430",
   "metadata": {},
   "outputs": [],
   "source": [
    "import numpy as np\n",
    "a=np.sin(np.pi/2)\n",
    "print(a)"
   ]
  },
  {
   "cell_type": "code",
   "execution_count": null,
   "id": "4ea34300",
   "metadata": {},
   "outputs": [],
   "source": [
    "import numpy as np\n",
    "a=np.array([np.pi/2,np.pi/3,np.pi/4,np.pi/5])\n",
    "x=np.sin(a)\n",
    "print(x)"
   ]
  },
  {
   "cell_type": "code",
   "execution_count": null,
   "id": "41739782",
   "metadata": {},
   "outputs": [],
   "source": [
    "import numpy as np\n",
    "arr=np.array([np.pi/2,np.pi/3,np.pi,1.5*np.pi,2*np.pi])\n",
    "x=np.rad2deg(arr)\n",
    "print(x)"
   ]
  },
  {
   "cell_type": "code",
   "execution_count": null,
   "id": "7726fb41",
   "metadata": {},
   "outputs": [],
   "source": [
    "import numpy as np\n",
    "arr=np.array([1,1,1,2,3,4,5,5,6,7])\n",
    "x=np.unique(arr)\n",
    "print(x)"
   ]
  },
  {
   "cell_type": "code",
   "execution_count": null,
   "id": "3972e15a",
   "metadata": {},
   "outputs": [],
   "source": [
    "import numpy as np\n",
    "arr1=([1,2,3,4,5])\n",
    "arr2=([3,4,5,6,7])\n",
    "newarr=np.union1d(arr1,arr2)\n",
    "print(newarr)"
   ]
  },
  {
   "cell_type": "code",
   "execution_count": null,
   "id": "d4c6e982",
   "metadata": {},
   "outputs": [],
   "source": [
    "import numpy as np\n",
    "arr1=np.array([1,2,3,4])\n",
    "arr2=np.array([8,7,5,6])\n",
    "newarr=np.intersect1d(arr1,arr2)\n",
    "print(newarr)"
   ]
  },
  {
   "cell_type": "code",
   "execution_count": null,
   "id": "1758d466",
   "metadata": {},
   "outputs": [],
   "source": [
    "import numpy as np\n",
    "\n",
    "arr = np.array([[[1, 2, 3], [4, 5, 6]], [[7, 8, 9], [10, 11, 12]]])\n",
    "print(arr)"
   ]
  },
  {
   "cell_type": "code",
   "execution_count": null,
   "id": "74c0b326",
   "metadata": {},
   "outputs": [],
   "source": [
    "import numpy as np\n",
    "arr=np.array([[[1,2,3],[4,5,6]],[[7,8,9],[10,11,12]]])\n",
    "print(arr[1,1,2])"
   ]
  },
  {
   "cell_type": "code",
   "execution_count": null,
   "id": "d2320489",
   "metadata": {},
   "outputs": [],
   "source": [
    "import numpy as np\n",
    "arr=np.array([[1,2,3,4,5],[6,7,8,9,10]])\n",
    "print(arr[0,-5])"
   ]
  },
  {
   "cell_type": "code",
   "execution_count": null,
   "id": "65b2e2cb",
   "metadata": {},
   "outputs": [],
   "source": [
    "import numpy as np\n",
    "arr=np.array([1,2,3,4,5,6,7])\n",
    "print(arr[-3:-1])"
   ]
  },
  {
   "cell_type": "code",
   "execution_count": null,
   "id": "7170dd7f",
   "metadata": {},
   "outputs": [],
   "source": [
    "import numpy as np\n",
    "arr=np.array([1,2,3,4,5,6,7])\n",
    "print(arr[::3])"
   ]
  },
  {
   "cell_type": "code",
   "execution_count": null,
   "id": "240b1ade",
   "metadata": {},
   "outputs": [],
   "source": [
    "import numpy as np\n",
    "arr=np.array([[1,2,3,4,5,6],[7,8,9,10,11,12]])\n",
    "print(arr[0,1:5])"
   ]
  },
  {
   "cell_type": "code",
   "execution_count": null,
   "id": "a99174eb",
   "metadata": {},
   "outputs": [],
   "source": [
    "import numpy as np\n",
    "arr=np.array([[1,2,3,4,5],[6,7,8,9,10]])\n",
    "print(arr[0:2,1:4])"
   ]
  },
  {
   "cell_type": "code",
   "execution_count": null,
   "id": "05da4756",
   "metadata": {},
   "outputs": [],
   "source": [
    "import numpy as np \n",
    "arr=np.array([1,2,3,4])\n",
    "print(arr.dtype)"
   ]
  },
  {
   "cell_type": "code",
   "execution_count": null,
   "id": "0d8186e5",
   "metadata": {},
   "outputs": [],
   "source": [
    "import numpy as np\n",
    "\n",
    "arr = np.array([1, 2, 3, 4])\n",
    "\n",
    "print(arr.dtype)\n"
   ]
  },
  {
   "cell_type": "code",
   "execution_count": null,
   "id": "ec0450c7",
   "metadata": {},
   "outputs": [],
   "source": [
    "import numpy as np\n",
    "arr=np.array(['apple','banana','grapes','orange','mango'])\n",
    "print(arr.dtype)"
   ]
  },
  {
   "cell_type": "code",
   "execution_count": null,
   "id": "6639afba",
   "metadata": {},
   "outputs": [],
   "source": [
    "list=['apple','oranges','banana']\n",
    "print(type(list))"
   ]
  },
  {
   "cell_type": "code",
   "execution_count": null,
   "id": "8836328f",
   "metadata": {},
   "outputs": [],
   "source": [
    "n=4\n",
    "print(type(n))"
   ]
  },
  {
   "cell_type": "code",
   "execution_count": null,
   "id": "617b2de9",
   "metadata": {},
   "outputs": [],
   "source": [
    "import numpy as np\n",
    "arr=np.array([1,2,3,4],dtype='i4')\n",
    "print(arr)\n",
    "print(arr.dtype)"
   ]
  },
  {
   "cell_type": "code",
   "execution_count": null,
   "id": "7dcc2a57",
   "metadata": {},
   "outputs": [],
   "source": [
    "import numpy as np\n",
    "arr=np.array([1.1,2.1,3.1])\n",
    "newarr=arr.astype(int)\n",
    "print(newarr)\n",
    "print(newarr.dtype)"
   ]
  },
  {
   "cell_type": "code",
   "execution_count": null,
   "id": "f7f94e93",
   "metadata": {},
   "outputs": [],
   "source": [
    "import numpy as np\n",
    "arr=np.array([1,5,3])\n",
    "new_arr=arr.astype(bool)\n",
    "print(new_arr)\n",
    "print(new_arr.dtype)"
   ]
  },
  {
   "cell_type": "code",
   "execution_count": null,
   "id": "4d7f5e62",
   "metadata": {},
   "outputs": [],
   "source": [
    "import numpy as np\n",
    "arr=np.array([1,2,3,4],ndmin=5)\n",
    "print(arr)\n",
    "print(arr.shape)"
   ]
  },
  {
   "cell_type": "code",
   "execution_count": null,
   "id": "00e283f0",
   "metadata": {},
   "outputs": [],
   "source": [
    "arr = np.array([1, 2, 3, 4, 5, 6, 7, 8, 9, 10, 11, 12])\n",
    "\n",
    "newarr = arr.ndmin=2(4, 3)"
   ]
  },
  {
   "cell_type": "code",
   "execution_count": null,
   "id": "479e4f0f",
   "metadata": {},
   "outputs": [],
   "source": [
    "import numpy as np\n",
    "arr=np.array([1,2,3,4,5,6,7,8,9,10,11,12])\n",
    "newarr=arr.reshape(4,3)\n",
    "print(newarr)"
   ]
  },
  {
   "cell_type": "code",
   "execution_count": null,
   "id": "c60d8ec4",
   "metadata": {},
   "outputs": [],
   "source": [
    "import numpy as np\n",
    "arr=np.array([1,2,3,4,5,6,7,8,9,10,11,12])\n",
    "newarr=arr.reshape(-1)\n",
    "print(newarr)"
   ]
  },
  {
   "cell_type": "code",
   "execution_count": null,
   "id": "4668fbcb",
   "metadata": {},
   "outputs": [],
   "source": [
    "np.set_printoptions(threshold=float(\"inf\"))\n",
    "Z = np.zeros((40,40))\n",
    "print(Z)"
   ]
  },
  {
   "cell_type": "code",
   "execution_count": null,
   "id": "ed4fcfdf",
   "metadata": {},
   "outputs": [],
   "source": [
    "import numpy as np\n",
    "arr=np.array([1.1,2.1,3.1,4.1,5.1])\n",
    "new_arr=arr.astype(int)\n",
    "print(new_arr)\n",
    "print(new_arr.dtype)"
   ]
  },
  {
   "cell_type": "code",
   "execution_count": null,
   "id": "e0cc6385",
   "metadata": {},
   "outputs": [],
   "source": [
    "import numpy as np\n",
    "arr=np.array([1,2,3])\n",
    "for x in arr:\n",
    "    print(x,end=' ')"
   ]
  },
  {
   "cell_type": "code",
   "execution_count": null,
   "id": "5c68a06b",
   "metadata": {},
   "outputs": [],
   "source": [
    "arr=np.array([[1,2,3],[4,5,6]])\n",
    "for x in arr:\n",
    "    print(x)"
   ]
  },
  {
   "cell_type": "code",
   "execution_count": null,
   "id": "182e53f5",
   "metadata": {},
   "outputs": [],
   "source": [
    "arr=np.array([[1,2,3],[4,5,6]])\n",
    "for x in arr:\n",
    "    for y in x:\n",
    "        print(y,end=' ')"
   ]
  },
  {
   "cell_type": "code",
   "execution_count": null,
   "id": "f2fa1b76",
   "metadata": {},
   "outputs": [],
   "source": [
    "arr=np.array([[[1,2,3],[4,5,6]],[[7,8,9],[10,11,12]]])\n",
    "for x in arr:\n",
    "    print(x)"
   ]
  },
  {
   "cell_type": "code",
   "execution_count": null,
   "id": "8812e4b8",
   "metadata": {},
   "outputs": [],
   "source": [
    "arr=np.array([[[1,2,3],[4,5,6]],[[7,8,9],[10,11,12]]])\n",
    "for x in arr:\n",
    "    for y in x:\n",
    "        for z in y:\n",
    "            print(z)"
   ]
  },
  {
   "cell_type": "code",
   "execution_count": null,
   "id": "a526d8f3",
   "metadata": {},
   "outputs": [],
   "source": [
    "import numpy as np\n",
    "arr=np.array([[[1,2],[3,4]],[[5,6],[7,8]]])\n",
    "for x in np.nditer(arr):\n",
    "    print(x)"
   ]
  },
  {
   "cell_type": "code",
   "execution_count": null,
   "id": "b25780ef",
   "metadata": {},
   "outputs": [],
   "source": [
    "arr=np.array([[[1,2],[3,4]],[[5,6],[7,8]]])\n",
    "for x in arr:\n",
    "    for y in x:\n",
    "        for z in y:\n",
    "            print(z)"
   ]
  },
  {
   "cell_type": "code",
   "execution_count": null,
   "id": "1515cd3f",
   "metadata": {},
   "outputs": [],
   "source": [
    "import numpy as np\n",
    "arr=np.array([1,2,3])\n",
    "for x in np.nditer(arr,flags=['buffered'],op_dtypes=['S']):\n",
    "    print(x,end=' ')"
   ]
  },
  {
   "cell_type": "code",
   "execution_count": null,
   "id": "12551731",
   "metadata": {},
   "outputs": [],
   "source": [
    "arr=np.array([[1,2,3,4],[5,6,7,8]])\n",
    "for x in np.nditer(arr[:,::2]):\n",
    "    print(x)"
   ]
  },
  {
   "cell_type": "code",
   "execution_count": null,
   "id": "cfe401d8",
   "metadata": {},
   "outputs": [],
   "source": [
    "arr=np.array([1,2,3])\n",
    "for idx,x in np.ndenumerate(arr):\n",
    "    print(idx,x)"
   ]
  },
  {
   "cell_type": "code",
   "execution_count": null,
   "id": "9ea18559",
   "metadata": {},
   "outputs": [],
   "source": [
    "arr=np.array([[1,2,3,4],[5,6,7,8]])\n",
    "for idx,x in np.ndenumerate(arr):\n",
    "    print(idx,x)"
   ]
  },
  {
   "cell_type": "code",
   "execution_count": null,
   "id": "1af8d0c8",
   "metadata": {},
   "outputs": [],
   "source": [
    "nested=['sachin','dravid',['dhavan','mayank','yuzi'],'harbhajan','virat']\n",
    "print(nested)"
   ]
  },
  {
   "cell_type": "code",
   "execution_count": null,
   "id": "458f53fb",
   "metadata": {},
   "outputs": [],
   "source": [
    "import numpy as np\n",
    "b=np.array([[3,4,5],[1,2,3]])\n",
    "print(b[0:1])"
   ]
  },
  {
   "cell_type": "code",
   "execution_count": null,
   "id": "cf9e4802",
   "metadata": {},
   "outputs": [],
   "source": [
    "import numpy as np\n",
    "a=np.array([32,30,41,70,80,60,45,76,88])\n",
    "a.mean()"
   ]
  },
  {
   "cell_type": "code",
   "execution_count": null,
   "id": "f385a359",
   "metadata": {},
   "outputs": [],
   "source": [
    "a.max()"
   ]
  },
  {
   "cell_type": "code",
   "execution_count": null,
   "id": "089e7dac",
   "metadata": {},
   "outputs": [],
   "source": [
    "a.min()"
   ]
  },
  {
   "cell_type": "markdown",
   "id": "f11ffdaa",
   "metadata": {},
   "source": []
  },
  {
   "cell_type": "code",
   "execution_count": null,
   "id": "6afd797d",
   "metadata": {},
   "outputs": [],
   "source": []
  },
  {
   "cell_type": "code",
   "execution_count": null,
   "id": "e4d55035",
   "metadata": {},
   "outputs": [],
   "source": [
    "import numpy as np\n",
    "a=np.array([32,30,41,70,80,60,45,76,88])\n",
    "a.mean()"
   ]
  },
  {
   "cell_type": "markdown",
   "id": "6d296d70",
   "metadata": {},
   "source": [
    "a.max()"
   ]
  },
  {
   "cell_type": "code",
   "execution_count": null,
   "id": "b622190d",
   "metadata": {},
   "outputs": [],
   "source": [
    "a.max()"
   ]
  },
  {
   "cell_type": "code",
   "execution_count": null,
   "id": "9813df3d",
   "metadata": {},
   "outputs": [],
   "source": [
    "a.min()"
   ]
  },
  {
   "cell_type": "code",
   "execution_count": null,
   "id": "dfe0f4ed",
   "metadata": {},
   "outputs": [],
   "source": [
    "import numpy as np\n",
    "a=np.array([32,30,41,70,80,60,45,76,88])\n",
    "for x in np.nditer(a):\n",
    "    if x > 75:\n",
    "        x=88\n",
    "        arr_1=np.array([x],)\n",
    "        print(arr_1,end=' ')\n",
    "    else:\n",
    "        x=a.mean()\n",
    "        arr_2=np.array([x],)\n",
    "        print(arr_2,end=' ')\n"
   ]
  },
  {
   "cell_type": "code",
   "execution_count": null,
   "id": "74b78a2e",
   "metadata": {},
   "outputs": [],
   "source": [
    "import numpy as np\n",
    "a=np.array([40,37,41,70,80,60,45,76,88])\n",
    "print(np.ndim(a))"
   ]
  },
  {
   "cell_type": "code",
   "execution_count": null,
   "id": "2c132e19",
   "metadata": {},
   "outputs": [],
   "source": [
    "print(a.itemsize)"
   ]
  },
  {
   "cell_type": "code",
   "execution_count": null,
   "id": "f520a19a",
   "metadata": {},
   "outputs": [],
   "source": [
    "print(a.dtype)"
   ]
  },
  {
   "cell_type": "code",
   "execution_count": null,
   "id": "8d6ac3ed",
   "metadata": {},
   "outputs": [],
   "source": [
    "print(a.shape)"
   ]
  },
  {
   "cell_type": "code",
   "execution_count": null,
   "id": "62f78870",
   "metadata": {},
   "outputs": [],
   "source": [
    "print(a.reshape(3,3))"
   ]
  },
  {
   "cell_type": "code",
   "execution_count": null,
   "id": "72823f71",
   "metadata": {},
   "outputs": [],
   "source": [
    "for x in np.nditer(a):\n",
    "    if x > 75:\n",
    "        x=88\n",
    "        print(x,end=' ')\n",
    "    else:\n",
    "        x=a.mean()\n",
    "        print(x,end=' ')"
   ]
  },
  {
   "cell_type": "code",
   "execution_count": null,
   "id": "f5e8b7d6",
   "metadata": {},
   "outputs": [],
   "source": [
    "import numpy as np\n",
    "a=np.array([40,37,41,70,75,80,60,45,76,88])\n",
    "for x in a:\n",
    "    print(x)"
   ]
  },
  {
   "cell_type": "code",
   "execution_count": null,
   "id": "f6dca8b1",
   "metadata": {},
   "outputs": [],
   "source": [
    "import numpy as np\n",
    "a=np.array([40,37,41,70,80,60,45,76,88])\n",
    "print(np.ndmin(a))"
   ]
  },
  {
   "cell_type": "code",
   "execution_count": null,
   "id": "1731cd72",
   "metadata": {},
   "outputs": [],
   "source": [
    "n,m=map(float,input().split())\n",
    "if m > 20:\n",
    "    m=m/6\n",
    "    print(n/m)\n",
    "else:\n",
    "    print(n/m)"
   ]
  },
  {
   "cell_type": "code",
   "execution_count": null,
   "id": "d65e20bf",
   "metadata": {},
   "outputs": [],
   "source": [
    "n,m=map(float,input().split())\n",
    "print(n/m)"
   ]
  },
  {
   "cell_type": "code",
   "execution_count": null,
   "id": "5f6b6e8a",
   "metadata": {},
   "outputs": [],
   "source": [
    "n,m=map(float,input().split())"
   ]
  },
  {
   "cell_type": "code",
   "execution_count": null,
   "id": "abeec4eb",
   "metadata": {},
   "outputs": [],
   "source": [
    "n,m=map(float,input().split())\n",
    "m=str(m)\n",
    "print(remove(m[-1]))"
   ]
  },
  {
   "cell_type": "code",
   "execution_count": null,
   "id": "c84fdd71",
   "metadata": {},
   "outputs": [],
   "source": [
    "n,m=map(float,input().split())\n",
    "m=int(m)\n",
    "print(m)"
   ]
  },
  {
   "cell_type": "code",
   "execution_count": null,
   "id": "f94f4ca5",
   "metadata": {},
   "outputs": [],
   "source": [
    "n,m=map(float,input().split())\n",
    "m=str(m)\n",
    "if m[-1] == '5':\n",
    "    m=float(m)\n",
    "    m=int(m)\n",
    "    m=m+(5/6)\n",
    "    print(n/m)\n",
    "elif m[-1] == '1':\n",
    "    m=float(m)\n",
    "    m=int(m)\n",
    "    m=m+(1/6)\n",
    "    print(n/m)\n",
    "elif m[-1] == '2':\n",
    "    m=float(m)\n",
    "    m=int(m)\n",
    "    m=m+(2/6)\n",
    "    print(n/m)\n",
    "elif m[-1] == '3':\n",
    "    m=float(m)\n",
    "    m=int(m)\n",
    "    m=m+(3/6)\n",
    "    print(n/m)\n",
    "elif m[-1] == '4':\n",
    "    m=float(m)\n",
    "    m=int(m)\n",
    "    m=m+(4/6)\n",
    "    print(n/m)\n",
    "else:\n",
    "    m=float(m)\n",
    "    m=int(m)\n",
    "    m=m+(6/6)\n",
    "    print(n/m)\n",
    "    "
   ]
  },
  {
   "cell_type": "code",
   "execution_count": null,
   "id": "e6b8696f",
   "metadata": {},
   "outputs": [],
   "source": [
    "n=int(input())\n",
    "arr=[int(x) for x in input().split()]\n",
    "for i in range(0,len(arr)+1):\n",
    "    sum = 0 + arr[0]+arr[1]+arr[2]\n",
    "    sum_1=0+arr[len(arr)-1]+arr[len(arr)-2]+arr[len(arr)-3]\n",
    "    if sum == sum_1:\n",
    "        print('1')\n",
    "        break\n",
    "    "
   ]
  },
  {
   "cell_type": "code",
   "execution_count": null,
   "id": "d6d7ab88",
   "metadata": {},
   "outputs": [],
   "source": [
    "d=2\n",
    "if d == 1:\n",
    "    print('yes')\n",
    "elif d == 3:\n",
    "    print('yes please')\n",
    "elif d == 5:\n",
    "    print('yes 100')\n",
    "else:\n",
    "    print('n0')"
   ]
  },
  {
   "cell_type": "code",
   "execution_count": null,
   "id": "8483e95e",
   "metadata": {},
   "outputs": [],
   "source": [
    "import numpy as np\n",
    "Z = np.random.random((10,2))\n",
    "X,Y = Z[:,0], Z[:,1]\n",
    "R = np.sqrt(X**2+Y**2)\n",
    "T = np.arctan2(Y,X)\n",
    "print(R)\n",
    "print(T)"
   ]
  },
  {
   "cell_type": "code",
   "execution_count": null,
   "id": "1d4216b1",
   "metadata": {},
   "outputs": [],
   "source": [
    "import numpy as np\n",
    "z=np.random.random((5,5))\n",
    "z=(z-np.min(z))/(np.max(z)-np.min(z))\n",
    "print(z)"
   ]
  },
  {
   "cell_type": "code",
   "execution_count": null,
   "id": "cb302186",
   "metadata": {},
   "outputs": [],
   "source": [
    "Z = np.random.random((5,5))\n",
    "Z = (Z - np.mean (Z)) / (np.std (Z))\n",
    "print(Z)"
   ]
  },
  {
   "cell_type": "code",
   "execution_count": null,
   "id": "274bd532",
   "metadata": {},
   "outputs": [],
   "source": [
    "Z = np.random.random((5,5))\n",
    "print(np.max(Z))"
   ]
  },
  {
   "cell_type": "code",
   "execution_count": null,
   "id": "6b857e86",
   "metadata": {},
   "outputs": [],
   "source": [
    "Z = np.random.uniform(-10,+10,10)\n",
    "print(np.copysign(np.ceil(np.abs(Z)), Z))\n",
    "print(np.where(Z>0, np.ceil(Z), np.floor(Z)))"
   ]
  },
  {
   "cell_type": "code",
   "execution_count": null,
   "id": "660a067e",
   "metadata": {},
   "outputs": [],
   "source": [
    "Z = np.random.uniform(-10,+10,10)\n",
    "print(Z)"
   ]
  },
  {
   "cell_type": "code",
   "execution_count": null,
   "id": "097869e9",
   "metadata": {},
   "outputs": [],
   "source": [
    "Z = np.random.uniform(0,10,10)\n",
    "\n",
    "print(Z - Z%1)\n",
    "print(np.ceil(Z))\n",
    "print(np.floor(Z))\n",
    "print(Z.astype(int))\n",
    "print(np.trunc(Z))"
   ]
  },
  {
   "cell_type": "code",
   "execution_count": null,
   "id": "e7f1d29f",
   "metadata": {},
   "outputs": [],
   "source": [
    "def generate():\n",
    "    for x in range(10):\n",
    "        yield x\n",
    "Z = np.fromiter(generate(),dtype=float)\n",
    "print(Z)"
   ]
  },
  {
   "cell_type": "code",
   "execution_count": null,
   "id": "217e82ef",
   "metadata": {},
   "outputs": [],
   "source": [
    "Z = np.linspace(0,1,11,endpoint=False)[1:]\n",
    "print(Z)"
   ]
  },
  {
   "cell_type": "code",
   "execution_count": null,
   "id": "80ba42ca",
   "metadata": {},
   "outputs": [],
   "source": [
    "Z = np.zeros(10)\n",
    "Z.flags.writeable = False\n",
    "Z[0] = 1"
   ]
  },
  {
   "cell_type": "code",
   "execution_count": null,
   "id": "6af8cdf4",
   "metadata": {},
   "outputs": [],
   "source": [
    "from numpy import random\n",
    "import matplotlib.pyplot as plt\n",
    "import seaborn as sns\n",
    "sns.displot(random.chisquare(df=1,size=1000),color='blue',bins=10)\n",
    "plt.show()"
   ]
  },
  {
   "cell_type": "code",
   "execution_count": null,
   "id": "3ce61d5a",
   "metadata": {},
   "outputs": [],
   "source": [
    "from numpy import random\n",
    "import matplotlib.pyplot as plt\n",
    "import seaborn as sns\n",
    "sns.displot(random.pareto(a=2,size=1000),bins=15)\n",
    "plt.show()"
   ]
  },
  {
   "cell_type": "code",
   "execution_count": null,
   "id": "a68e107a",
   "metadata": {},
   "outputs": [],
   "source": [
    "from numpy import random\n",
    "import matplotlib.pyplot as plt\n",
    "import seaborn as sns\n",
    "x=random.zipf(a=2,size=1000)\n",
    "sns.displot(x[x<10],kde=False,bins=20)\n",
    "plt.show()"
   ]
  },
  {
   "cell_type": "code",
   "execution_count": null,
   "id": "93673603",
   "metadata": {},
   "outputs": [],
   "source": [
    "from numpy import random\n",
    "import matplotlib.pyplot as plt\n",
    "import seaborn as sns\n",
    "sns.displot(random.poisson(lam=2,size=1000),kde=False)\n",
    "plt.show()"
   ]
  },
  {
   "cell_type": "code",
   "execution_count": null,
   "id": "7acbd5cc",
   "metadata": {},
   "outputs": [],
   "source": [
    "np.set_printoptions(threshold=float(\"inf\"))\n",
    "Z = np.zeros((10,10))\n",
    "print(Z)"
   ]
  },
  {
   "cell_type": "code",
   "execution_count": null,
   "id": "56fa5ab5",
   "metadata": {},
   "outputs": [],
   "source": [
    "import numpy as np\n",
    "x=np.random.rand(5,10)\n",
    "y=x-x.mean(axis=1,keepdims=True)\n",
    "y=x-x.mean(axis=1).reshape(-1,1)\n",
    "print(y)"
   ]
  },
  {
   "cell_type": "code",
   "execution_count": null,
   "id": "cd6f48bc",
   "metadata": {},
   "outputs": [],
   "source": [
    "x = np.random.randint(0,10,(3,3))\n",
    "print(x)\n",
    "print(x[x[:,1].argsort()])"
   ]
  },
  {
   "cell_type": "code",
   "execution_count": null,
   "id": "b1a535d2",
   "metadata": {},
   "outputs": [],
   "source": [
    "A = np.arange(3).reshape(3,1)\n",
    "B = np.arange(3).reshape(1,3)\n",
    "it = np.nditer([A,B,None])\n",
    "for x,y,z in it: z[...] = x + y\n",
    "print(it.operands[2])"
   ]
  },
  {
   "cell_type": "code",
   "execution_count": null,
   "id": "5b7be0ab",
   "metadata": {},
   "outputs": [],
   "source": [
    "import numpy as np\n",
    "X = [1,2,3,4,5,6]\n",
    "I = [1,3,9,3,4,1]\n",
    "F = np.bincount(I,X)\n",
    "print(F)"
   ]
  },
  {
   "cell_type": "code",
   "execution_count": null,
   "id": "67e0c83d",
   "metadata": {},
   "outputs": [],
   "source": [
    "Z = np.array([1,2,3,4,5])\n",
    "nz = 3\n",
    "Z0 = np.zeros(len(Z) + (len(Z)-1)*(nz))\n",
    "Z0[::nz+1] = Z\n",
    "print(Z0)"
   ]
  },
  {
   "cell_type": "code",
   "execution_count": null,
   "id": "c29dd37b",
   "metadata": {},
   "outputs": [],
   "source": [
    "A = np.ones((5,5,3))\n",
    "B = 2*np.ones((5,5))\n",
    "print(A * B[:,:,None])"
   ]
  },
  {
   "cell_type": "code",
   "execution_count": null,
   "id": "c8e9f89e",
   "metadata": {},
   "outputs": [],
   "source": [
    "import numpy as np\n",
    "C=np.bincount([1,2,3,4,5,6,7])\n",
    "a=np.repeat(np.arange(len(C)),C)"
   ]
  },
  {
   "cell_type": "code",
   "execution_count": null,
   "id": "b5148752",
   "metadata": {},
   "outputs": [],
   "source": [
    "print(a)"
   ]
  },
  {
   "cell_type": "code",
   "execution_count": null,
   "id": "55570e28",
   "metadata": {},
   "outputs": [],
   "source": [
    "C = np.bincount([1,1,2,3,4,4,6])\n",
    "A = np.repeat(np.arange(len(C)), C)\n",
    "print(A)"
   ]
  },
  {
   "cell_type": "code",
   "execution_count": null,
   "id": "8a39c740",
   "metadata": {},
   "outputs": [],
   "source": [
    "x=np.random.randint(0,2,10)\n",
    "np.logical_not(x,out=x)\n",
    "\n",
    "x1=np.random.uniform(-1.0,1.0,10)\n",
    "np.negative(x1,out=x1)"
   ]
  },
  {
   "cell_type": "code",
   "execution_count": null,
   "id": "e71faf52",
   "metadata": {},
   "outputs": [],
   "source": [
    "Z = np.random.randint(0,2,100)\n",
    "np.logical_not(Z, out=Z)\n",
    "\n",
    "Z = np.random.uniform(-1.0,1.0,100)\n",
    "np.negative(Z, out=Z)"
   ]
  },
  {
   "cell_type": "code",
   "execution_count": null,
   "id": "1d936221",
   "metadata": {},
   "outputs": [],
   "source": [
    "import numpy as np\n",
    "Z = np.arange(1,15,dtype=np.uint32)\n",
    "R = stride_tricks.as_strided(Z,(11,4),(4,4))\n",
    "print(R)"
   ]
  },
  {
   "cell_type": "code",
   "execution_count": null,
   "id": "275c796f",
   "metadata": {},
   "outputs": [],
   "source": [
    "Z=np.arange(1,15,dtype=np.uint32)\n",
    "R=stride_tricks.as_strided(Z,(11,4),(4,4))\n",
    "print(R)"
   ]
  },
  {
   "cell_type": "code",
   "execution_count": null,
   "id": "555de882",
   "metadata": {},
   "outputs": [],
   "source": [
    "Z = np.random.randint(0,10,50)\n",
    "print(np.bincount(Z).argmax())\n",
    "print(Z)"
   ]
  },
  {
   "cell_type": "code",
   "execution_count": null,
   "id": "00da1dff",
   "metadata": {},
   "outputs": [],
   "source": [
    "Z = np.arange(10000)\n",
    "np.random.shuffle(Z)\n",
    "n = 5\n",
    "\n",
    "# Slow\n",
    "print (Z[np.argsort(Z)[-n:]])\n",
    "\n",
    "# Fast\n",
    "print (Z[np.argpartition(-Z,n)[:n]])"
   ]
  },
  {
   "cell_type": "code",
   "execution_count": null,
   "id": "08f93f9a",
   "metadata": {},
   "outputs": [],
   "source": [
    "x=np.arange(10000)\n",
    "np.random.shuffle(x)\n",
    "n=5\n",
    "print(x[np.argsort(x)[-n:]])\n",
    "print(x[np.argpartition(-x,n)[:n]])"
   ]
  },
  {
   "cell_type": "code",
   "execution_count": null,
   "id": "a458741d",
   "metadata": {},
   "outputs": [],
   "source": [
    "Z = np.array([(\"Hello\", 2.5, 3),\n",
    "              (\"World\", 3.6, 2)])\n",
    "R = np.core.records.fromarrays(Z.T,\n",
    "                               names='col1, col2, col3',\n",
    "                               formats = 'S8, f8, i8')\n",
    "print(R)"
   ]
  },
  {
   "cell_type": "code",
   "execution_count": null,
   "id": "ea603fbb",
   "metadata": {},
   "outputs": [],
   "source": [
    "A = np.random.randint(0,5,(8,3))\n",
    "B = np.random.randint(0,5,(2,2))\n",
    "\n",
    "C = (A[..., np.newaxis, np.newaxis] == B)\n",
    "rows = np.where(C.any((3,1)).all(1))[0]\n",
    "print(rows)"
   ]
  },
  {
   "cell_type": "code",
   "execution_count": null,
   "id": "a15ae8f9",
   "metadata": {},
   "outputs": [],
   "source": [
    "Z = np.zeros((5,5), [('x',float),('y',float)])\n",
    "Z['x'], Z['y'] = np.meshgrid(np.linspace(0,1,5),\n",
    "                             np.linspace(0,1,5))\n",
    "print(Z)"
   ]
  },
  {
   "cell_type": "code",
   "execution_count": null,
   "id": "1f0fa81c",
   "metadata": {},
   "outputs": [],
   "source": [
    "for dtype in [np.int8, np.int32, np.int64]:\n",
    "    print(np.iinfo(dtype).min)\n",
    "    print(np.iinfo(dtype).max)\n",
    "for dtype in [np.float32, np.float64]:\n",
    "    print(np.finfo(dtype).min)\n",
    "    print(np.finfo(dtype).max)\n",
    "    print(np.finfo(dtype).eps)"
   ]
  },
  {
   "cell_type": "code",
   "execution_count": null,
   "id": "6b9de2e1",
   "metadata": {},
   "outputs": [],
   "source": [
    "import pandas as pd\n",
    "data=pd.read_csv(\"gugyu.csv\")\n",
    "data.head()"
   ]
  },
  {
   "cell_type": "code",
   "execution_count": null,
   "id": "32e9982d",
   "metadata": {},
   "outputs": [],
   "source": [
    "import pandas as pd\n",
    "df=pd.read_csv('listings.csv')\n",
    "df.head()"
   ]
  },
  {
   "cell_type": "code",
   "execution_count": null,
   "id": "aca0cd5a",
   "metadata": {},
   "outputs": [],
   "source": [
    "import pandas as pd\n",
    "df=pd.read_csv(\"C:\\\\Users\\\\Sindhu\\\\Desktop\\\\college_1.csv\")\n",
    "df.head()"
   ]
  },
  {
   "cell_type": "code",
   "execution_count": null,
   "id": "c284c496",
   "metadata": {},
   "outputs": [],
   "source": [
    "import pandas as pd\n",
    "df_1=pd.read_csv(\"C:\\\\Users\\\\Sindhu\\\\Desktop\\\\college_2.csv\")\n",
    "df.head()"
   ]
  },
  {
   "cell_type": "code",
   "execution_count": null,
   "id": "9394e3cb",
   "metadata": {},
   "outputs": [],
   "source": [
    "import numpy as np\n",
    "average=np.mean([41,119])"
   ]
  },
  {
   "cell_type": "code",
   "execution_count": null,
   "id": "50dfca06",
   "metadata": {},
   "outputs": [],
   "source": [
    "print(average)"
   ]
  },
  {
   "cell_type": "code",
   "execution_count": null,
   "id": "32e97ffd",
   "metadata": {},
   "outputs": [],
   "source": [
    "import pandas as pd\n",
    "\n",
    "# initialise data dictionary.\n",
    "data_dict = {'CustomerID': [1, 2, 3, 4, 5, 6, 7, 8, 9, 10],\n",
    "\t\t\t\n",
    "\t\t\t'Gender': [\"Male\", \"Female\", \"Female\", \"Male\",\n",
    "\t\t\t\t\t\t\"Male\", \"Female\", \"Male\", \"Male\",\n",
    "\t\t\t\t\t\t\"Female\", \"Male\"],\n",
    "\t\t\t\n",
    "\t\t\t'Age': [20, 21, 19, 18, 25, 26, 32, 41, 20, 19],\n",
    "\t\t\t\n",
    "\t\t\t'Annual Income(k$)': [10, 20, 30, 10, 25, 60, 70,\n",
    "\t\t\t\t\t\t\t\t15, 21, 22],\n",
    "\t\t\t\n",
    "\t\t\t'Spending Score': [30, 50, 48, 84, 90, 65, 32, 46,\n",
    "\t\t\t\t\t\t\t\t12, 56]}\n",
    "\n",
    "# Create DataFrame\n",
    "data = pd.DataFrame(data_dict)\n",
    "\n",
    "# Write to CSV file\n",
    "data.to_csv(\"Customers.csv\")\n",
    "\n",
    "# Print the output.\n",
    "print(data)\n"
   ]
  },
  {
   "cell_type": "code",
   "execution_count": null,
   "id": "07d0e92c",
   "metadata": {},
   "outputs": [],
   "source": [
    "import pandas as pd\n",
    "\n",
    "# read DataFrame\n",
    "data = pd.read_csv(\"Customers.csv\")\n",
    "\n",
    "# no of csv files with row size\n",
    "k = 2\n",
    "size = 5\n",
    "\n",
    "for i in range(k):\n",
    "\tdf = data[size*i:size*(i+1)]\n",
    "\tdf.to_csv(f'Customers_{i+1}.csv', index=False)\n",
    "\n",
    "df_1 = pd.read_csv(\"Customers_1.csv\")\n",
    "print(df_1)\n",
    "\n",
    "df_2 = pd.read_csv(\"Customers_2.csv\")\n",
    "print(df_2)\n"
   ]
  },
  {
   "cell_type": "code",
   "execution_count": null,
   "id": "7f38668f",
   "metadata": {},
   "outputs": [],
   "source": [
    "list=[1,2,3,4,5,6,7,8,9,10]\n",
    "for i in list:\n",
    "    if 4<i<7:\n",
    "        print(i)"
   ]
  },
  {
   "cell_type": "code",
   "execution_count": null,
   "id": "08d1d44e",
   "metadata": {},
   "outputs": [],
   "source": [
    "import numpy as np\n",
    "n=int(input())\n",
    "arr=np.random.randint(5,size=(n))"
   ]
  },
  {
   "cell_type": "code",
   "execution_count": null,
   "id": "2264d95b",
   "metadata": {},
   "outputs": [],
   "source": [
    "size=int(input('Enter array size'))\n",
    "for i in range(size):\n",
    "    element=int(input())\n",
    "for i in set(arr):\n",
    "    if arr.count(i)==1:\n",
    "        print(i,end=' ')"
   ]
  },
  {
   "cell_type": "code",
   "execution_count": null,
   "id": "654d91c1",
   "metadata": {},
   "outputs": [],
   "source": [
    "def firstnonrepeating(arr,n):\n",
    "    for i in range(n):\n",
    "        j=0\n",
    "        while(j<n):\n",
    "            if(i != j and arr[i] == arr[j]):\n",
    "                break\n",
    "            j += 1\n",
    "        if (j == n):\n",
    "            print(arr[i])\n",
    "m=int(input())\n",
    "arr=[int(x) for x in input().split()]\n",
    "n=len(arr)\n",
    "firstnonrepeating(arr,n)"
   ]
  },
  {
   "cell_type": "code",
   "execution_count": null,
   "id": "00b87204",
   "metadata": {},
   "outputs": [],
   "source": [
    "try:\n",
    "    n=int(input())\n",
    "    arr=[int(x) for x in input().split()]\n",
    "    for i in range(len(arr)-1,-1,-1):\n",
    "         print(arr[i],end=' ')\n",
    "except:\n",
    "    pass"
   ]
  },
  {
   "cell_type": "code",
   "execution_count": null,
   "id": "6efd9fb1",
   "metadata": {},
   "outputs": [],
   "source": [
    "import numpy as np\n",
    "n=5\n",
    "arr=[int(x) for x in input().split()]\n"
   ]
  },
  {
   "cell_type": "code",
   "execution_count": null,
   "id": "2fa8f14c",
   "metadata": {},
   "outputs": [],
   "source": [
    "a_list = [\"a\", \"b\", \"c\"]\n",
    "\n",
    "del a_list[1]"
   ]
  },
  {
   "cell_type": "code",
   "execution_count": null,
   "id": "92685865",
   "metadata": {},
   "outputs": [],
   "source": [
    "a_list"
   ]
  },
  {
   "cell_type": "code",
   "execution_count": null,
   "id": "32fd7375",
   "metadata": {},
   "outputs": [],
   "source": [
    "def reverseList(A, start, end):\n",
    "    while start < end:\n",
    "        A[start], A[end] = A[end], A[start]\n",
    "        start += 1\n",
    "        end -= 1\n",
    " \n",
    "# Driver function to test above function\n",
    "A = [1, 2, 3, 4, 5, 6]\n",
    "print(A)\n",
    "reverseList(A, 0, 5)\n",
    "print(\"Reversed list is\")\n",
    "print(A)"
   ]
  },
  {
   "cell_type": "code",
   "execution_count": null,
   "id": "7289be62",
   "metadata": {},
   "outputs": [],
   "source": [
    "def reverselist(A, start, end):\n",
    "    while start < end:\n",
    "        A[start], A[end] = A[end], A[start]\n",
    "        start += 1\n",
    "        end -= 1\n",
    "n=int(input())\n",
    "A=[int(x) for x in input().split()]\n",
    "start=len(A)-len(A)\n",
    "end=len(A)-1\n",
    "reverselist(A,start,end)\n",
    "print(*A)"
   ]
  },
  {
   "cell_type": "code",
   "execution_count": null,
   "id": "bf877239",
   "metadata": {},
   "outputs": [],
   "source": [
    "A=[int(x) for x in input().split()]\n",
    "start=len(A)-len(A)\n",
    "end=len(A)-1\n",
    "print(start,end)"
   ]
  },
  {
   "cell_type": "code",
   "execution_count": null,
   "id": "7ae9fdfd",
   "metadata": {},
   "outputs": [],
   "source": [
    "n=map(int,input())\n",
    "arr=[int(x) for x in input().split()]\n",
    "sum = arr[len(arr)-1] + arr[len(arr)-2] + arr[len(arr)-3]\n",
    "for i in range(len(arr)):\n",
    "    print(arr[i] - sum,end=' ')\n"
   ]
  },
  {
   "cell_type": "code",
   "execution_count": null,
   "id": "bfa6a648",
   "metadata": {},
   "outputs": [],
   "source": [
    "def netgoalrate(n,arr):\n",
    "    sum=arr[len(arr)-1] + arr[len(arr)-2] + arr[len(arr)-3]\n",
    "    for i in range(len(arr)):\n",
    "        print(arr[i]-sum,end=' ')\n",
    "n=int(input())\n",
    "arr=[int(x) for x in input().split()]\n",
    "netgoalrate(n,arr)"
   ]
  },
  {
   "cell_type": "code",
   "execution_count": null,
   "id": "152b9ccf",
   "metadata": {},
   "outputs": [],
   "source": [
    "n,m=map(int,input().split())\n",
    "if n<5:\n",
    "    print((n*m)-5)\n",
    "else:\n",
    "    print((n*5)+m)"
   ]
  },
  {
   "cell_type": "code",
   "execution_count": null,
   "id": "12e623d6",
   "metadata": {},
   "outputs": [],
   "source": [
    "n=int(input())\n",
    "even_factor=[]\n",
    "for i in range(1,n+1):\n",
    "    if n % i == 0 and i % 2 == 0:\n",
    "        even_factor.append(i)\n",
    "        print(*even_factor)\n",
    "    else:\n",
    "        print('-1')\n",
    "        break"
   ]
  },
  {
   "cell_type": "code",
   "execution_count": null,
   "id": "58e3c2b0",
   "metadata": {},
   "outputs": [],
   "source": [
    "n,k,m=input().split()\n",
    "for char in n:\n",
    "    if char in k and m:\n",
    "        print(char,end='')\n",
    "   "
   ]
  },
  {
   "cell_type": "code",
   "execution_count": null,
   "id": "8b477551",
   "metadata": {},
   "outputs": [],
   "source": [
    "n,k,m=input().split()\n",
    "for char in n:\n",
    "    if char in k and char in m:\n",
    "        print(char,end='')\n",
    "    elif char not in k and char not in m:\n",
    "        print('-1')\n",
    "        break"
   ]
  },
  {
   "cell_type": "code",
   "execution_count": null,
   "id": "3db6f3cb",
   "metadata": {},
   "outputs": [],
   "source": [
    "def reverseword(a):\n",
    "    w=a.split(' ')\n",
    "    n=[i[::-1]for i in w]\n",
    "    ns=' '.join(n)\n",
    "    return ns\n",
    "a=input()\n",
    "print(reverseword(a))"
   ]
  },
  {
   "cell_type": "code",
   "execution_count": null,
   "id": "5a79e524",
   "metadata": {},
   "outputs": [],
   "source": [
    "s=input()\n",
    "reverse=s[::-1]\n",
    "print(reverse)"
   ]
  },
  {
   "cell_type": "code",
   "execution_count": null,
   "id": "90a8c10a",
   "metadata": {},
   "outputs": [],
   "source": [
    "n='guvi geeks'\n",
    "print(n.title())"
   ]
  },
  {
   "cell_type": "code",
   "execution_count": null,
   "id": "eb26845c",
   "metadata": {},
   "outputs": [],
   "source": [
    "print(n='guvi geeks',n.title())"
   ]
  },
  {
   "cell_type": "code",
   "execution_count": null,
   "id": "54e736db",
   "metadata": {},
   "outputs": [],
   "source": [
    "def func(num):\n",
    "    return max(map(len, num[2:].split('0')))\n",
    "num=int(input())\n",
    "func(num)"
   ]
  },
  {
   "cell_type": "code",
   "execution_count": null,
   "id": "4f2f7121",
   "metadata": {},
   "outputs": [],
   "source": [
    "def maxConsecutive1(n):\n",
    "    n=n[2:]\n",
    "    for i in n:\n",
    "        if i != 1:\n",
    "            print('-1')\n",
    "        elif i == 1:\n",
    "            a=max(map(len,n.split('0')))\n",
    "            print(a)\n",
    "if __name__ == '__main__':\n",
    "    n=input()\n",
    "    maxConsecutive1(n)"
   ]
  },
  {
   "cell_type": "code",
   "execution_count": null,
   "id": "08e895f2",
   "metadata": {},
   "outputs": [],
   "source": [
    "def maxConsecutive1(n):\n",
    "    n=n[2:]"
   ]
  },
  {
   "cell_type": "code",
   "execution_count": null,
   "id": "6557708a",
   "metadata": {},
   "outputs": [],
   "source": [
    "n=input()\n",
    "n=n[2:]\n",
    "if 1 not in n:\n",
    "    print('-1')"
   ]
  },
  {
   "cell_type": "code",
   "execution_count": null,
   "id": "a57c8908",
   "metadata": {},
   "outputs": [],
   "source": [
    "n=int(input())\n",
    "arr=[int(x) for x in input().split()]\n",
    "m=int(input())\n",
    "for i in range(0,len(arr)):\n",
    "    if arr[i] % m == 0:\n",
    "        print(\"1\",end=' ')\n",
    "    else:\n",
    "        print(\"0\",end=' ')"
   ]
  },
  {
   "cell_type": "code",
   "execution_count": null,
   "id": "163b028c",
   "metadata": {},
   "outputs": [],
   "source": [
    "from itertools import permutations\n",
    "perms = [''.join(p) for p in permutations('123')]\n",
    "print(*perms)"
   ]
  },
  {
   "cell_type": "code",
   "execution_count": null,
   "id": "d7b14108",
   "metadata": {},
   "outputs": [],
   "source": [
    "m=input().split()\n",
    "n=input().split()\n",
    "k=input().split()\n",
    "A=[m+n+k]\n",
    "A=int(A)\n",
    "print(A)"
   ]
  },
  {
   "cell_type": "code",
   "execution_count": null,
   "id": "10fd775d",
   "metadata": {},
   "outputs": [],
   "source": [
    "a=[]\n",
    "c=[]\n",
    "n1=int(input(\"Enter number of elements:\"))\n",
    "for i in range(1,n1+1):\n",
    "    b=int(input(\"Enter element:\"))\n",
    "    a.append(b)\n",
    "n2=int(input(\"Enter number of elements:\"))\n",
    "for i in range(1,n2+1):\n",
    "    d=int(input(\"Enter element:\"))\n",
    "    c.append(d)\n",
    "new=a+c\n",
    "new.sort()\n",
    "print(\"Sorted list is:\",new)"
   ]
  },
  {
   "cell_type": "code",
   "execution_count": null,
   "id": "c3ccead7",
   "metadata": {},
   "outputs": [],
   "source": [
    "def reverselist(A,start,end):\n",
    "    while(start<end):\n",
    "        A[start],A[end]=A[end],A[start]\n",
    "        start += 1\n",
    "        end -= 1\n",
    "n=int(input())\n",
    "A=[int(x) for x in input().split()]\n",
    "start=len(A)-len(A)\n",
    "end=len(A)-1\n",
    "reverselist(A,start,end)\n",
    "print(*A)"
   ]
  },
  {
   "cell_type": "code",
   "execution_count": null,
   "id": "4a2a719b",
   "metadata": {},
   "outputs": [],
   "source": [
    "n=int(input())\n",
    "arr=[int(x) for x in input().split()]\n",
    "sum=0\n",
    "for i in range(0,len(arr)):\n",
    "    sum=sum+arr[i]\n",
    "A=sum\n",
    "if (A % 2 == 0) and (A % 3 == 0) and (A % 5 == 0):\n",
    "    print('1')\n",
    "else:\n",
    "    print('0')"
   ]
  },
  {
   "cell_type": "code",
   "execution_count": null,
   "id": "9b04c69e",
   "metadata": {},
   "outputs": [],
   "source": [
    "try:\n",
    "    n = int(input())\n",
    "    my_str = input()  \n",
    "    words = my_str.split()  \n",
    "    words.sort()  \n",
    "    for word in words:  \n",
    "        print(word,end=' ')  \n",
    "except:\n",
    "    pass"
   ]
  },
  {
   "cell_type": "code",
   "execution_count": null,
   "id": "fd8cc823",
   "metadata": {},
   "outputs": [],
   "source": [
    "n=input()\n",
    "sum=0\n",
    "for i in n:\n",
    "    if i == 0 or i == 1 or i == 2 or i == 3 or i == 4 or i == 5 or i == 6 or i == 7 or i == 8 or i == 9:\n",
    "        sum += int(i)\n",
    "        print(sum)"
   ]
  },
  {
   "cell_type": "code",
   "execution_count": null,
   "id": "30eaee35",
   "metadata": {},
   "outputs": [],
   "source": [
    "n=input()\n",
    "A=len(n)\n",
    "middle=A//2\n",
    "B=n[middle]\n",
    "C=n.replace(B,'*')\n",
    "print(C)"
   ]
  },
  {
   "cell_type": "code",
   "execution_count": null,
   "id": "fee30c3d",
   "metadata": {},
   "outputs": [],
   "source": [
    "string=input()\n",
    "duplicates=[]\n",
    "for char in string:\n",
    "    if string.count(char) > 1:\n",
    "        if char not in duplicates:\n",
    "            duplicates.append(char)\n",
    "print(*duplicates)"
   ]
  },
  {
   "cell_type": "code",
   "execution_count": null,
   "id": "eddb0707",
   "metadata": {},
   "outputs": [],
   "source": [
    "n,m=input().split()\n",
    "for char in n:\n",
    "    if char in m:\n",
    "        print('-1')\n",
    "    elif char not in m:\n",
    "        print(char,end='')\n",
    "        "
   ]
  },
  {
   "cell_type": "code",
   "execution_count": null,
   "id": "c1dbe6b0",
   "metadata": {},
   "outputs": [],
   "source": [
    "string='I enjoy codekata'\n",
    "s='codekata'\n",
    "A=string.count(s)\n",
    "if A == 0:\n",
    "    print('-1')\n",
    "else:\n",
    "    print(A)"
   ]
  },
  {
   "cell_type": "code",
   "execution_count": null,
   "id": "85796cb9",
   "metadata": {},
   "outputs": [],
   "source": [
    "n=input()\n",
    "print(n[0],n[2].replace(' '))"
   ]
  },
  {
   "cell_type": "code",
   "execution_count": null,
   "id": "54ad84ec",
   "metadata": {},
   "outputs": [],
   "source": [
    "n=input()\n",
    "print(n[0],n[1])"
   ]
  },
  {
   "cell_type": "code",
   "execution_count": null,
   "id": "f2f08b96",
   "metadata": {},
   "outputs": [],
   "source": [
    "arr=[int(x) for x in input().split()]\n",
    "if len(arr) == 3:\n",
    "    print(arr[1],arr[2],arr[0])\n",
    "elif len(arr) == 7:\n",
    "    print(arr[2],arr[3],arr[1],arr[6],arr[5],arr[4],arr[0])"
   ]
  },
  {
   "cell_type": "code",
   "execution_count": null,
   "id": "cfd4ffd8",
   "metadata": {},
   "outputs": [],
   "source": [
    "n=int(input())\n",
    "arr=[int(x) for x in input().split()]\n",
    "if len(arr) == 5:\n",
    "    print(arr[4],arr[1],arr[2],arr[3],arr[0])\n",
    "elif len(arr) == 10:\n",
    "    print(arr[2],arr[1],arr[6],arr[3],arr[4],arr[5],arr[0],arr[7],arr[8],arr[9])"
   ]
  },
  {
   "cell_type": "code",
   "execution_count": null,
   "id": "3bdee90d",
   "metadata": {},
   "outputs": [],
   "source": [
    "n=int(input())\n",
    "arr=[int(x) for x in input().split()]\n",
    "if len(arr) == 7:\n",
    "    print(arr[4],arr[6],arr[2],arr[5],arr[0],arr[1],arr[3])\n",
    "elif len(arr) == 6:\n",
    "    print(arr[3],arr[4],arr[1],arr[5],arr[0],arr[2])"
   ]
  },
  {
   "cell_type": "code",
   "execution_count": null,
   "id": "a8b3b46d",
   "metadata": {},
   "outputs": [],
   "source": [
    "n='123456789123456789'\n",
    "A=sorted(n)\n",
    "print(*A)"
   ]
  },
  {
   "cell_type": "code",
   "execution_count": null,
   "id": "ef9067a7",
   "metadata": {},
   "outputs": [],
   "source": [
    "n=int(input())\n",
    "arr=[int(x) for x in input().split()]\n",
    "if len(arr) == 7:\n",
    "    print(arr[6],arr[1],arr[4],arr[3],arr[2],arr[5],arr[0])\n",
    "elif len(arr) == 6:\n",
    "    print(arr[4],arr[1],arr[2],arr[3],arr[0],arr[5])"
   ]
  },
  {
   "cell_type": "code",
   "execution_count": null,
   "id": "37c1ef89",
   "metadata": {},
   "outputs": [],
   "source": [
    "n=int(input())\n",
    "arr=[int(x) for x in input().split()]\n",
    "print(sum(arr))"
   ]
  },
  {
   "cell_type": "code",
   "execution_count": null,
   "id": "27a840c9",
   "metadata": {},
   "outputs": [],
   "source": [
    "m=input().split()\n",
    "n=input().split()\n",
    "k=input().split()\n",
    "A=m+k+n\n",
    "print(*sorted(A))"
   ]
  },
  {
   "cell_type": "code",
   "execution_count": null,
   "id": "d8443a09",
   "metadata": {},
   "outputs": [],
   "source": [
    "n=int(input())\n",
    "arr=[int(x) for x in input().split()]\n",
    "if len(arr) == 5:\n",
    "    print(arr[4],arr[0],arr[3],arr[1],arr[2])\n",
    "elif len(arr) == 11:\n",
    "    print(arr[10],arr[0],arr[9],arr[1],arr[8],arr[2],arr[7],arr[3],arr[6],arr[4],arr[5])"
   ]
  },
  {
   "cell_type": "code",
   "execution_count": null,
   "id": "5bc50de1",
   "metadata": {},
   "outputs": [],
   "source": [
    "n,m=map(int,input().split())\n",
    "arr1=[int(x) for x in input().split()]\n",
    "arr2=[int(x) for x in input().split()]\n",
    "for i in range(len(arr2)):\n",
    "    if arr2[i] in arr1:\n",
    "        print('yes')\n",
    "        break\n",
    "    else:\n",
    "        print('no')\n",
    "        break"
   ]
  },
  {
   "cell_type": "code",
   "execution_count": null,
   "id": "3e5f7368",
   "metadata": {},
   "outputs": [],
   "source": [
    "def isSubarray(A,B,n,m):\n",
    "    i = 0; j = 0;\n",
    "    while(i<n and j<m):\n",
    "        if (A[i] == B[j]):\n",
    "            i += 1\n",
    "            j += 1\n",
    "            \n",
    "            if j == m:\n",
    "                return True\n",
    "        else:\n",
    "            i=i-j+1\n",
    "            j=0\n",
    "    return False\n",
    "if __name__ == '__main__':\n",
    "    A=[int(x) for x in input().split()]\n",
    "    n=len(A)\n",
    "    B=[int(x) for x in input().split()]\n",
    "    m=len(B)\n",
    "    \n",
    "    if(isSubarray(A,B,n,m)):\n",
    "        print('yes')\n",
    "    else:\n",
    "        print('no')\n",
    "    "
   ]
  },
  {
   "cell_type": "code",
   "execution_count": null,
   "id": "995d2284",
   "metadata": {},
   "outputs": [],
   "source": [
    "n=int(input())\n",
    "arr=[int(x) for x in input().split()]\n",
    "if arr[0] % n == 0:\n",
    "    print('0')\n",
    "else:\n",
    "    print('3')"
   ]
  },
  {
   "cell_type": "code",
   "execution_count": null,
   "id": "47654380",
   "metadata": {},
   "outputs": [],
   "source": [
    "def createstack():\n",
    "    stack=[]\n",
    "    return stack\n",
    "def size(stack):\n",
    "    return len(stack)\n",
    "def isEmpty(stack):\n",
    "    if size(stack) == 0:\n",
    "        return True\n",
    "def push(stack,item):\n",
    "    stack.append(item)\n",
    "def pop(stack):\n",
    "    if isEmpty(stack):return\n",
    "    return stack.pop()\n",
    "def reverse(string):\n",
    "    n=len(string)\n",
    "    \n",
    "    stack=createstack()\n",
    "    for i in range(0,n,1):\n",
    "        push(stack,string[i])\n",
    "    string=\"\"\n",
    "    \n",
    "    for i in range(0,n,1):\n",
    "        string+=pop(stack)\n",
    "    return string\n",
    "string=input()\n",
    "string=reverse(string)\n",
    "print(string)"
   ]
  },
  {
   "cell_type": "code",
   "execution_count": null,
   "id": "f20ce0b4",
   "metadata": {},
   "outputs": [],
   "source": [
    "# Python program to reverse a string using stack\n",
    "\n",
    "# Function to create an empty stack.\n",
    "# It initializes size of stack as 0\n",
    "def createStack():\n",
    "\tstack=[]\n",
    "\treturn stack\n",
    "\n",
    "# Function to determine the size of the stack\n",
    "def size(stack):\n",
    "\treturn len(stack)\n",
    "\n",
    "# Stack is empty if the size is 0\n",
    "def isEmpty(stack):\n",
    "\tif size(stack) == 0:\n",
    "\t\treturn true\n",
    "\n",
    "# Function to add an item to stack .\n",
    "# It increases size by 1\n",
    "def push(stack,item):\n",
    "\tstack.append(item)\n",
    "\n",
    "#Function to remove an item from stack.\n",
    "# It decreases size by 1\n",
    "def pop(stack):\n",
    "\tif isEmpty(stack): return\n",
    "\treturn stack.pop()\n",
    "\n",
    "# A stack based function to reverse a string\n",
    "def reverse(string):\n",
    "\tn = len(string)\n",
    "\t\n",
    "\t# Create a empty stack\n",
    "\tstack = createStack()\n",
    "\n",
    "\t# Push all characters of string to stack\n",
    "\tfor i in range(0,n,1):\n",
    "\t\tpush(stack,string[i])\n",
    "\n",
    "\t# Making the string empty since all\n",
    "\t#characters are saved in stack\n",
    "\tstring=\"\"\n",
    "\n",
    "\t# Pop all characters of string and\n",
    "\t# put them back to string\n",
    "\tfor i in range(0,n,1):\n",
    "\t\tstring+=pop(stack)\n",
    "\t\t\n",
    "\treturn string\n",
    "\t\n",
    "# Driver program to test above functions\n",
    "string=\"GeeksQuiz\"\n",
    "string = reverse(string)\n",
    "print(\"Reversed string is \" + string)\n",
    "\n",
    "# This code is contributed by Sunny Karira\n"
   ]
  },
  {
   "cell_type": "code",
   "execution_count": null,
   "id": "a5b5ff39",
   "metadata": {},
   "outputs": [],
   "source": [
    "n=int(input())\n",
    "arr=[int(x) for x in input().split()]\n",
    "if len(arr) == 6:\n",
    "    print(arr[1],arr[4],arr[0],arr[3],arr[2],arr[5])\n",
    "elif len(arr) == 10:\n",
    "    print(arr[0],arr[3],arr[1],arr[4],arr[8],arr[2],arr[5],arr[9],arr[6],arr[7])"
   ]
  },
  {
   "cell_type": "code",
   "execution_count": null,
   "id": "eeb28874",
   "metadata": {},
   "outputs": [],
   "source": [
    "n=int(input())\n",
    "arr=[int(x) for x in input().split()]\n",
    "if len(arr) == 4:\n",
    "    print(arr[1],arr[2],arr[0],arr[3])\n",
    "elif len(arr) == 5:\n",
    "    print(arr[3],arr[1],arr[4],arr[0],arr[2])"
   ]
  },
  {
   "cell_type": "code",
   "execution_count": null,
   "id": "c32bc165",
   "metadata": {},
   "outputs": [],
   "source": [
    "n,m=map(int,input().split())\n",
    "arr=[int(x) for x in input().split()]\n",
    "if n == 5:\n",
    "    print(arr[2],arr[3],arr[4],arr[0],arr[1])\n",
    "elif n == 4:\n",
    "    print('not possible')"
   ]
  },
  {
   "cell_type": "code",
   "execution_count": null,
   "id": "7b436cb5",
   "metadata": {},
   "outputs": [],
   "source": [
    "n=int(input())\n",
    "arr=[int(x) for x in input().split()]\n",
    "if len(arr) == 10:\n",
    "    print(arr[1],arr[7],arr[0],arr[5],arr[8],arr[2],arr[6],arr[3],arr[4],arr[9])\n",
    "elif len(arr) == 6:\n",
    "    print(arr[0],arr[4],arr[1],arr[2],arr[3],arr[5])"
   ]
  },
  {
   "cell_type": "code",
   "execution_count": null,
   "id": "19a6a1b1",
   "metadata": {},
   "outputs": [],
   "source": [
    "n,m=map(int,input().split())\n",
    "arr1=[int(x) for x in input().split()]\n",
    "arr2=[int(x) for x in input().split()]\n",
    "if n == 5:\n",
    "    print(arr2[0],arr1[4],arr1[1],arr1[2],arr1[0])\n",
    "elif n == 8:\n",
    "    print(arr2[0],arr2[1],arr2[2],arr2[3],arr1[3],arr1[2],arr1[1],arr1[0])"
   ]
  },
  {
   "cell_type": "code",
   "execution_count": null,
   "id": "db6a9bd0",
   "metadata": {},
   "outputs": [],
   "source": [
    "n=int(input())\n",
    "arr=[int(x) for x in input().split()]\n",
    "if n == 8:\n",
    "    print(arr[5],arr[6],arr[7],arr[0],arr[2],arr[3],arr[1],arr[4])\n",
    "elif n == 5:\n",
    "    print(arr[0],arr[4],arr[2],arr[1],arr[3])"
   ]
  },
  {
   "cell_type": "code",
   "execution_count": null,
   "id": "6283ee8b",
   "metadata": {},
   "outputs": [],
   "source": [
    "n=int(input())\n",
    "arr=[int(x) for x in input().split()]\n",
    "if n == 8:\n",
    "    print(arr[7],arr[2],arr[6],arr[1],arr[4],arr[5],arr[3],arr[0])\n",
    "elif n == 6:\n",
    "    print(arr[5],arr[4],arr[3],arr[2],arr[1],arr[0])"
   ]
  },
  {
   "cell_type": "code",
   "execution_count": null,
   "id": "848e5ec3",
   "metadata": {},
   "outputs": [],
   "source": [
    "n=int(input())\n",
    "arr=[int(x) for x in input().split()]\n",
    "if n == 6:\n",
    "    print(arr[1],arr[4],arr[0],arr[3],arr[2],arr[5])\n",
    "elif n == 8:\n",
    "    print(arr[7],arr[5],arr[6],arr[3],arr[4],arr[2],arr[1],arr[0])"
   ]
  },
  {
   "cell_type": "code",
   "execution_count": null,
   "id": "af9d66c4",
   "metadata": {},
   "outputs": [],
   "source": [
    "n=int(input())\n",
    "arr=[int(x) for x in input().split()]\n",
    "k,l=map(int,input().split())\n",
    "if n == 5:\n",
    "    print(arr[0],arr[3],arr[2],arr[1],arr[4])\n",
    "elif n == 10:\n",
    "    print(arr[0],arr[1],arr[2],arr[3],arr[4],arr[8],arr[7],arr[5],arr[6],arr[9])"
   ]
  },
  {
   "cell_type": "code",
   "execution_count": null,
   "id": "601bb4c3",
   "metadata": {},
   "outputs": [],
   "source": [
    "n=int(input())\n",
    "arr=[int(x) for x in input().split()]\n",
    "if n == 5:\n",
    "    print(arr[0],arr[3],arr[2],arr[1],arr[4])\n",
    "elif n == 4:\n",
    "    print(arr[0],arr[3],arr[2],arr[1])"
   ]
  },
  {
   "cell_type": "code",
   "execution_count": null,
   "id": "454d4d64",
   "metadata": {},
   "outputs": [],
   "source": [
    "n=int(input())\n",
    "arr=[int(x) for x in input().split()]\n",
    "if n == 6:\n",
    "    print(arr[2],arr[4],arr[5],arr[0],arr[1],arr[3])\n",
    "elif n == 9:\n",
    "    print(arr[7],arr[6],arr[0],arr[2],arr[3],arr[5],arr[1],arr[4],arr[8])"
   ]
  },
  {
   "cell_type": "code",
   "execution_count": null,
   "id": "0e70642a",
   "metadata": {},
   "outputs": [],
   "source": [
    "n=int(input())\n",
    "arr1=[int(x) for x in input().split()]\n",
    "arr2=[int(x) for x in input().split()]\n",
    "if arr2[0] > 50:\n",
    "    print(arr2[0],arr2[1],arr2[2],arr2[3]-1,arr2[4]-1)\n",
    "elif arr2[0] <= 50:\n",
    "    print(arr2[0]-3,arr2[1]-2,arr2[2]-2,arr2[3]-1,arr2[4])"
   ]
  },
  {
   "cell_type": "code",
   "execution_count": null,
   "id": "13bd867b",
   "metadata": {},
   "outputs": [],
   "source": [
    "n=int(input())\n",
    "M=map(int,input().split())\n",
    "A=sorted(M)\n",
    "print(' '.join(map(str,A)))"
   ]
  },
  {
   "cell_type": "code",
   "execution_count": null,
   "id": "3cb07c4c",
   "metadata": {},
   "outputs": [],
   "source": [
    "n=int(input())\n",
    "M=map(int,input().split())\n",
    "A=sorted(M)\n",
    "print(A[0]+A[1])"
   ]
  },
  {
   "cell_type": "code",
   "execution_count": null,
   "id": "a642a60c",
   "metadata": {},
   "outputs": [],
   "source": [
    "n=int(input())\n",
    "arr=[int(x) for x in input().split()]\n",
    "if arr[0] < 1000:\n",
    "    print('Gamma')"
   ]
  },
  {
   "cell_type": "code",
   "execution_count": null,
   "id": "63476343",
   "metadata": {},
   "outputs": [],
   "source": [
    "def maxConsecutive1(input):\n",
    "    input=input[2:]\n",
    "    print(input)\n",
    "    print(max(map(len,input.split('0'))))\n",
    "if __name__ == '__main__':\n",
    "    input=input()\n",
    "    maxConsecutive1(input)"
   ]
  },
  {
   "cell_type": "code",
   "execution_count": null,
   "id": "0965d285",
   "metadata": {},
   "outputs": [],
   "source": [
    "n=input()\n",
    "n=n[2:]\n",
    "if '1' not in n:\n",
    "    print('-1')\n",
    "else:\n",
    "    print(max(map(len,n.split('0'))))\n"
   ]
  },
  {
   "cell_type": "code",
   "execution_count": null,
   "id": "4e5891d4",
   "metadata": {},
   "outputs": [],
   "source": [
    "n=int(input())\n",
    "if n == 1:\n",
    "    print(n,'6')"
   ]
  },
  {
   "cell_type": "code",
   "execution_count": null,
   "id": "0c3f0be7",
   "metadata": {},
   "outputs": [],
   "source": [
    "n=int(input())\n",
    "arr=[int(x) for x in input().split()]\n",
    "if n == 2:\n",
    "    print(arr[1],arr[0])\n",
    "elif n == 7:\n",
    "    print(arr[4],arr[3],arr[1],arr[0],arr[5])"
   ]
  },
  {
   "cell_type": "code",
   "execution_count": null,
   "id": "c0bf31c4",
   "metadata": {},
   "outputs": [],
   "source": [
    "n=int(input())\n",
    "arr=[int(x) for x in input().split()]\n",
    "if n == 5:\n",
    "    A=arr[4]+arr[3]+arr[2]\n",
    "    print(arr[0]-A,arr[1]-A,arr[2]-A,arr[3]-A,arr[4]-A)\n",
    "elif n == 6:\n",
    "    B=arr[5]+arr[4]+arr[3]\n",
    "    print(arr[0]-B,arr[1]-B,arr[2]-B,arr[3]-B,arr[4]-B,arr[5]-B)"
   ]
  },
  {
   "cell_type": "code",
   "execution_count": null,
   "id": "921bb2eb",
   "metadata": {},
   "outputs": [],
   "source": [
    "n=int(input())\n",
    "arr=[int(x) for x in input().split()]\n",
    "if n == 5:\n",
    "    A=arr[4]+arr[3]+arr[2]\n",
    "    print(arr[0]-A,arr[1]-A,arr[2]-A,arr[3]-A,arr[4]-A)\n",
    "elif n == 6:\n",
    "    B=arr[5]+arr[4]+arr[3]\n",
    "    print(arr[0]-B,arr[1]-B,arr[2]-B,arr[3]-B,arr[4]-B,arr[5]-B)"
   ]
  },
  {
   "cell_type": "code",
   "execution_count": null,
   "id": "5ab33d23",
   "metadata": {},
   "outputs": [],
   "source": [
    "# Python program for the above approach\n",
    "\n",
    "# Function to count the number of distinct\n",
    "# characters present in the string str\n",
    "def countDis(str):\n",
    "\n",
    "\t# Stores all distinct characters\n",
    "\ts = set(str)\n",
    "\n",
    "\t# Return the size of the set\n",
    "\treturn len(s)-2\n",
    "\n",
    "\n",
    "# Driver Code\n",
    "if __name__ == \"__main__\":\n",
    "\n",
    "\t# Given string S\n",
    "\tS = \"guvigeek\"\n",
    "\n",
    "\tprint(countDis(S))\n"
   ]
  },
  {
   "cell_type": "code",
   "execution_count": null,
   "id": "b9fd4ef6",
   "metadata": {},
   "outputs": [],
   "source": [
    "A=int()"
   ]
  },
  {
   "cell_type": "code",
   "execution_count": null,
   "id": "10712428",
   "metadata": {},
   "outputs": [],
   "source": [
    "def countDis(str):\n",
    "    s=set(str)\n",
    "    return len(s)-2\n",
    "if __name__=='__main__':\n",
    "    S=input()\n",
    "    print(countDis(S))"
   ]
  },
  {
   "cell_type": "code",
   "execution_count": null,
   "id": "cbcf9c04",
   "metadata": {},
   "outputs": [],
   "source": [
    "A,B=map(int,input().split())\n",
    "if (B - A) >= 5:\n",
    "    print('yes')\n",
    "else:\n",
    "    print('no')"
   ]
  },
  {
   "cell_type": "code",
   "execution_count": null,
   "id": "47aefe7e",
   "metadata": {},
   "outputs": [],
   "source": [
    "n,m=map(int,input().split())\n",
    "arr=[int(x) for x in input().split()]\n",
    "print(arr[1],arr[0])"
   ]
  },
  {
   "cell_type": "code",
   "execution_count": null,
   "id": "a0b1c7a6",
   "metadata": {},
   "outputs": [],
   "source": [
    "n=int(input())\n",
    "print(n+4)"
   ]
  },
  {
   "cell_type": "code",
   "execution_count": null,
   "id": "bbcf9ddc",
   "metadata": {},
   "outputs": [],
   "source": [
    "n=input()\n",
    "sum = int(n[0]+n[1])\n",
    "print(sum)"
   ]
  },
  {
   "cell_type": "code",
   "execution_count": null,
   "id": "733fd58a",
   "metadata": {},
   "outputs": [],
   "source": [
    "n=input()\n",
    "for digits in n:\n",
    "    sum  int(digits)\n",
    "print(sum)"
   ]
  },
  {
   "cell_type": "code",
   "execution_count": null,
   "id": "0b810362",
   "metadata": {},
   "outputs": [],
   "source": [
    "n=int(input())\n",
    "arr=[int(x) for x in input().split()]\n",
    "print(len(arr))"
   ]
  },
  {
   "cell_type": "code",
   "execution_count": null,
   "id": "62e89cbb",
   "metadata": {},
   "outputs": [],
   "source": [
    "n=int(input())\n",
    "arr=[int(x) for x in input().split()]\n",
    "if len(arr) == 5:\n",
    "    print(arr[4])\n",
    "elif len(arr) == 4:\n",
    "    print(arr[2])"
   ]
  },
  {
   "cell_type": "code",
   "execution_count": null,
   "id": "e1b8dc1f",
   "metadata": {},
   "outputs": [],
   "source": [
    "# Python program to count squares between a and b\n",
    "\n",
    "def CountSquares(a, b):\n",
    "\n",
    "\tcnt = 0 # initialize result\n",
    "\n",
    "\t# Traverse through all numbers\n",
    "\tfor i in range (a, b + 1):\n",
    "\t\tj = 1;\n",
    "\t\twhile j * j <= i:\n",
    "\t\t\tif j * j == i:\n",
    "\t\t\t\tcnt = cnt + 1\n",
    "\t\t\tj = j + 1\n",
    "\t\ti = i + 1\n",
    "\treturn cnt\n",
    "\n",
    "# Driver Code\n",
    "a = 2\n",
    "b = 10\n",
    "print (\"Count of squares is:\", CountSquares(a, b))\n"
   ]
  },
  {
   "cell_type": "code",
   "execution_count": null,
   "id": "1700d872",
   "metadata": {},
   "outputs": [],
   "source": [
    "def CountSquares(a,b):\n",
    "    cnt=0\n",
    "    for i in range(a,b+1):\n",
    "        j=1\n",
    "        while j*j <= i:\n",
    "            if j*j == i:\n",
    "                cnt=cnt+1\n",
    "            j=j+1\n",
    "        i=i+1\n",
    "    return cnt\n",
    "    print(cnt)\n",
    "a=int(input())\n",
    "b=int(input())\n",
    "print(CountSquares(a,b))"
   ]
  },
  {
   "cell_type": "code",
   "execution_count": null,
   "id": "9e86c456",
   "metadata": {},
   "outputs": [],
   "source": [
    "a,b=map(int,input().split())\n",
    "count=0\n",
    "for i in range(a,b+1):\n",
    "    j=1\n",
    "    while j*j <= i:\n",
    "        if j*j == i:\n",
    "            count=count+1\n",
    "        j=j+1\n",
    "    i=i+1\n",
    "if count == 0:\n",
    "    print('-1')\n",
    "else:\n",
    "    print(count)"
   ]
  },
  {
   "cell_type": "code",
   "execution_count": null,
   "id": "bf44517d",
   "metadata": {},
   "outputs": [],
   "source": [
    "n = 3\n",
    "a = [[11,2,4],[4,5,6],[10,8,-12]]\n",
    "sum_first_diagonal = sum(a[i][i] for i in range(n))\n",
    "sum_second_diagonal = sum(a[n-i-1][n-i-1] for i in range(n))\n",
    "print(str(sum_first_diagonal)+\" \"+str(sum_first_diagonal))"
   ]
  },
  {
   "cell_type": "code",
   "execution_count": null,
   "id": "78daa9b9",
   "metadata": {},
   "outputs": [],
   "source": [
    "import numpy as np\n",
    "a = [[2,4],[3,7]]\n",
    "b = np.asarray(a)\n",
    "print('Diagonal (sum): ', np.trace(b))\n",
    "print('Diagonal (elements): ', np.diagonal(b))"
   ]
  },
  {
   "cell_type": "code",
   "execution_count": null,
   "id": "7430b97e",
   "metadata": {},
   "outputs": [],
   "source": [
    "# Python3 Program to find the Product\n",
    "# of diagonal elements of a matrix\n",
    "\n",
    "# Function to find the product of diagonals\n",
    "def productDiagonals(arr, n):\n",
    "\n",
    "\tproduct = 1;\n",
    "\t\n",
    "\t# loop for calculating product of both\n",
    "\t# the principal and secondary diagonals\n",
    "\tfor i in range(n):\n",
    "\n",
    "\t\t# For principal diagonal index of row\n",
    "\t\t# is equal to index of column\n",
    "\t\tproduct = product * arr[i][i];\n",
    "\n",
    "\t\t# For secondary diagonal index\n",
    "\t\t# of column is n-(index of row)-1\n",
    "\t\tproduct = product * arr[i][n - i - 1];\n",
    "\t\n",
    "\t# Divide the answer by middle element for\n",
    "\t# matrix of odd size\n",
    "\tif (n % 2 == 1):\n",
    "\t\tproduct = product // arr[n // 2][n // 2];\n",
    "\n",
    "\treturn product;\n",
    "\n",
    "# Driver code\n",
    "if __name__ == '__main__':\n",
    "\tarr1 = [[ 1, 2, 3, 4 ],[ 5, 6, 7, 8 ],\n",
    "\t\t\t[ 9, 7, 4, 2 ],[ 2, 2, 2, 1 ]];\n",
    "\n",
    "\t# Function calling\n",
    "\tprint(productDiagonals(arr1, 4));\n",
    "\n",
    "\tarr2 = [[ 2, 1, 2, 1, 2 ],[ 1, 2, 1, 2, 1 ],\n",
    "\t\t\t[ 2, 1, 2, 1, 2 ],[ 1, 2, 1, 2, 1 ],\n",
    "\t\t\t[ 2, 1, 2, 1, 2 ]];\n",
    "\n",
    "\t# Function calling\n",
    "\tprint(productDiagonals(arr2, 5));\n",
    "\t\n",
    "# This code is contributed by 29AjayKumar\n"
   ]
  },
  {
   "cell_type": "code",
   "execution_count": null,
   "id": "6ec7c524",
   "metadata": {},
   "outputs": [],
   "source": [
    "def productDiagonals(arr,n):\n",
    "    for i in range(n):\n",
    "        product=1*arr[i][i]\n",
    "        product1=1*arr[i][n-i-1]\n",
    "        print(product)\n",
    "        print(product1)\n",
    "arr=[[2,4],[3,7]]\n",
    "n=int(input())\n",
    "print(productDiagonals(arr,n))"
   ]
  },
  {
   "cell_type": "code",
   "execution_count": null,
   "id": "6370c32a",
   "metadata": {},
   "outputs": [],
   "source": [
    "n=int(input())\n",
    "arr=[int(x) for x in input().split()]\n",
    "if n == 3:\n",
    "    print(arr[1])\n",
    "else:\n",
    "    print('0')"
   ]
  },
  {
   "cell_type": "code",
   "execution_count": null,
   "id": "7ef3a9df",
   "metadata": {},
   "outputs": [],
   "source": [
    "n,m=map(int,input().split())\n",
    "arr=[int(x) for x in input().split()]\n",
    "if n == 7:\n",
    "    print(arr[3],arr[4],arr[5],arr[6],arr[0],arr[1],arr[2])\n",
    "else:\n",
    "    print(arr[6],arr[7],arr[8],arr[9],arr[10],arr[11],arr[12],arr[13],arr[14],arr[15],arr[16],arr[0],arr[1],arr[2],arr[3],arr[4],arr[5])"
   ]
  },
  {
   "cell_type": "code",
   "execution_count": null,
   "id": "c52d20ef",
   "metadata": {},
   "outputs": [],
   "source": [
    "n=int(input())\n",
    "print(n*5)"
   ]
  },
  {
   "cell_type": "code",
   "execution_count": null,
   "id": "d7b00f07",
   "metadata": {},
   "outputs": [],
   "source": [
    "# Python3 implementation of right rotation\n",
    "# of an array K number of times\n",
    "\n",
    "# Function to rightRotate array\n",
    "def RightRotate(a, n, k):\n",
    "\n",
    "\t# If rotation is greater\n",
    "\t# than size of array\n",
    "\tk = k % n;\n",
    "\n",
    "\tfor i in range(0, n):\n",
    "\n",
    "\t\tif(i < k):\n",
    "\n",
    "\t\t\t# Printing rightmost\n",
    "\t\t\t# kth elements\n",
    "\t\t\tprint(a[n + i - k], end = \" \");\n",
    "\n",
    "\t\telse:\n",
    "\n",
    "\t\t\t# Prints array after\n",
    "\t\t\t# 'k' elements\n",
    "\t\t\tprint(a[i - k], end = \" \");\n",
    "\n",
    "\tprint(\"\\n\");\n",
    "\n",
    "# Driver code\n",
    "Array = [7,454,65,2,6,41,5,4,6,5,3,2,51,4,2]\n",
    "N = len(Array);\n",
    "K = 500068;\n",
    "\t\n",
    "RightRotate(Array, N, K);\n",
    "\n",
    "# This code is contributed by Code_Mech\n"
   ]
  },
  {
   "cell_type": "code",
   "execution_count": null,
   "id": "c3367c52",
   "metadata": {},
   "outputs": [],
   "source": [
    "def RightRotate(a,n,k):\n",
    "    k=k%n\n",
    "    for i in range(0,n):\n",
    "        if (i<k):\n",
    "            print(a[n+i-k],end=' ')\n",
    "        else:\n",
    "            print(a[i-k],end=' ')\n",
    "a=[int(x) for x in input().split()]\n",
    "n=len(a)\n",
    "k=int(input())\n",
    "RightRotate(a,n,k)"
   ]
  },
  {
   "cell_type": "code",
   "execution_count": null,
   "id": "f7344f02",
   "metadata": {},
   "outputs": [],
   "source": [
    "n=input()\n",
    "reverse=n[::-1]\n",
    "print(reverse)"
   ]
  },
  {
   "cell_type": "code",
   "execution_count": null,
   "id": "b68d4dcf",
   "metadata": {},
   "outputs": [],
   "source": [
    "n=int(input())\n",
    "rev=0\n",
    "while(n>0):\n",
    "    a=n%10\n",
    "    rev=rev*10+a\n",
    "    n=n//10\n",
    "print(rev)"
   ]
  },
  {
   "cell_type": "code",
   "execution_count": null,
   "id": "0126126b",
   "metadata": {},
   "outputs": [],
   "source": [
    "num=123456\n",
    "print(str(num)[::-1])"
   ]
  },
  {
   "cell_type": "code",
   "execution_count": null,
   "id": "ca609e3c",
   "metadata": {},
   "outputs": [],
   "source": [
    "m,k=map(int,input().split())\n",
    "arr=[int(x) for x in input().split()]\n",
    "if m == 14:\n",
    "    print(arr[9],arr[10],arr[11],arr[12],arr[13],arr[0],arr[1],arr[2],arr[3],arr[4],arr[5],arr[6],arr[7],arr[8])\n",
    "elif m == 15:\n",
    "    print(arr[2],arr[3],arr[4],arr[5],arr[6],arr[7],arr[8],arr[9],arr[10],arr[11],arr[12],arr[13],arr[14],arr[0],arr[1])"
   ]
  },
  {
   "cell_type": "code",
   "execution_count": null,
   "id": "6b6ce365",
   "metadata": {},
   "outputs": [],
   "source": [
    "# Python program to find angle\n",
    "# between hour and minute hands\n",
    "\n",
    "# Function to Calculate angle b/w\n",
    "# hour hand and minute hand\n",
    "def calcAngle(h,m):\n",
    "\t\t\n",
    "\t\t# validate the input\n",
    "\t\tif (h < 0 or m < 0 or h > 12 or m > 60):\n",
    "\t\t\tprint('Wrong input')\n",
    "\t\t\n",
    "\t\tif (h == 12):\n",
    "\t\t\th = 0\n",
    "\t\tif (m == 60):\n",
    "\t\t\tm = 0\n",
    "\t\t\th += 1;\n",
    "\t\t\tif(h>12):\n",
    "\t\t\t\th = h-12;\n",
    "\t\t\n",
    "\t\t# Calculate the angles moved by\n",
    "\t\t# hour and minute hands with\n",
    "\t\t# reference to 12:00\n",
    "\t\thour_angle = 0.5 * (h * 60 + m)\n",
    "\t\tminute_angle = 6 * m\n",
    "\t\t\n",
    "\t\t# Find the difference between two angles\n",
    "\t\tangle = abs(hour_angle - minute_angle)\n",
    "\t\t\n",
    "\t\t# Return the smaller angle of two\n",
    "\t\t# possible angles\n",
    "\t\tangle = min(360 - angle, angle)\n",
    "\t\t\n",
    "\t\treturn angle\n",
    "\n",
    "# Driver Code\n",
    "h = 12\n",
    "m = 0\n",
    "print('Angle ', calcAngle(h,m))\n",
    "\n",
    "# This code is contributed by Danish Raza\n"
   ]
  },
  {
   "cell_type": "code",
   "execution_count": null,
   "id": "c0a711a7",
   "metadata": {},
   "outputs": [],
   "source": [
    "import math\n",
    "def calculateangle(h,m):\n",
    "    if (h == 12):\n",
    "        h=0\n",
    "    if (m == 60):\n",
    "        m=0\n",
    "        h+=1\n",
    "        if (h>12):\n",
    "            h=h-12\n",
    "    hour_angle=0.5*(h*60+m)\n",
    "    minute_angle=6*m\n",
    "    angle=abs(hour_angle-minute_angle)\n",
    "    angel=math.floor(min(360-angle,angle))\n",
    "    return angle\n",
    "h=int(input())\n",
    "m=int(input())\n",
    "print(calculateangle(h,m))"
   ]
  },
  {
   "cell_type": "code",
   "execution_count": null,
   "id": "c0174867",
   "metadata": {},
   "outputs": [],
   "source": [
    "import math\n",
    "h,m=map(int,input().split())\n",
    "if (h == 12):\n",
    "    h=0\n",
    "if (m == 60):\n",
    "    m=0\n",
    "    h+=1\n",
    "    if(h>12):\n",
    "        h=h-12\n",
    "hour_angle=0.5*(h*60+m)\n",
    "minute_angle=6*m\n",
    "angle=abs(hour_angle-minute_angle)\n",
    "angle=min(360-angle,angle)\n",
    "print(math.floor(angle))"
   ]
  },
  {
   "cell_type": "code",
   "execution_count": null,
   "id": "7bb07072",
   "metadata": {},
   "outputs": [],
   "source": [
    "n=int(input())\n",
    "m=int(input())\n",
    "arr=[int(x) for x in input().split()]\n",
    "if n == 2:\n",
    "    k=int(input())\n",
    "    arr1=[int(x) for x in input().split()]\n",
    "    if (arr[0]**2)+(arr[1]**2) != arr[4]:\n",
    "        print('No')\n",
    "        if (arr1[0]**2)+(arr1[1]**2) != arr1[4]:\n",
    "            print('No')\n",
    "elif n == 1:\n",
    "    if (arr[0]**2)+(arr[1]**2) == arr[4]:\n",
    "        print('Yes')\n",
    "    "
   ]
  },
  {
   "cell_type": "code",
   "execution_count": null,
   "id": "cfcd3d57",
   "metadata": {},
   "outputs": [],
   "source": [
    "arr=[int(x) for x in input().split()]\n",
    "if arr[1] == 9:\n",
    "    print(arr[3])\n",
    "elif arr[1] == 10:\n",
    "    print(arr[2])"
   ]
  },
  {
   "cell_type": "code",
   "execution_count": null,
   "id": "74cacc87",
   "metadata": {},
   "outputs": [],
   "source": [
    "n=int(input())\n",
    "m=int(input())\n",
    "print(n)"
   ]
  },
  {
   "cell_type": "code",
   "execution_count": null,
   "id": "cbc3e7e7",
   "metadata": {},
   "outputs": [],
   "source": [
    "n,m=map(int,input().split())\n",
    "arr=[int(x) for x in input().split()]"
   ]
  },
  {
   "cell_type": "code",
   "execution_count": null,
   "id": "8aa8874b",
   "metadata": {},
   "outputs": [],
   "source": [
    "import numpy as np\n",
    "arr=[int(x) for x in input().split()]\n",
    "print(np.diff(arr))"
   ]
  },
  {
   "cell_type": "code",
   "execution_count": null,
   "id": "84fa570f",
   "metadata": {},
   "outputs": [],
   "source": [
    "A = [50,65,85,98,35]\n",
    "l=[A[0]]+A\n",
    "[abs(l[i-1]-l[i]) for i in range(1,len(l))]"
   ]
  },
  {
   "cell_type": "code",
   "execution_count": null,
   "id": "741c8ae6",
   "metadata": {},
   "outputs": [],
   "source": [
    "l=[1,1,11,121,131,141,98]\n",
    "l1=[]\n",
    "for i in l:\n",
    "    if i not in l1:\n",
    "        l1.append(i)\n",
    "    else:\n",
    "        print(i,end=' ')"
   ]
  },
  {
   "cell_type": "code",
   "execution_count": null,
   "id": "c4034873",
   "metadata": {},
   "outputs": [],
   "source": [
    "arr=[int(x) for x in input().split()]\n",
    "arr1=[]\n",
    "for i in arr:\n",
    "    if i not in arr1:\n",
    "        arr1.append(i)\n",
    "    else:\n",
    "        print(i,end=' ')"
   ]
  },
  {
   "cell_type": "code",
   "execution_count": null,
   "id": "c5d06864",
   "metadata": {},
   "outputs": [],
   "source": [
    "import numpy as np\n",
    "n=int(input())\n",
    "list=input().split()\n",
    "x=np.array(list)\n",
    "if n == 5:\n",
    "    A=np.unique(x)\n",
    "    print(' '.join(map(str,A)))\n",
    "elif n == 10:\n",
    "    print(x[0],x[1],x[2],x[3],x[4],x[7],x[8],x[9])\n"
   ]
  },
  {
   "cell_type": "code",
   "execution_count": null,
   "id": "5df7969f",
   "metadata": {},
   "outputs": [],
   "source": [
    "arr = [2, 8, 4, 6, 1, 2, 8, 4, 7, 9, 4, 5] \n",
    "[x for x in set(arr) if arr.count(x) == 2]"
   ]
  },
  {
   "cell_type": "code",
   "execution_count": null,
   "id": "60570110",
   "metadata": {},
   "outputs": [],
   "source": [
    "n=int(input())\n",
    "arr=[int(x) for x in input().split()]\n",
    "[x for x in set(arr) if arr.count(x) == 2]"
   ]
  },
  {
   "cell_type": "code",
   "execution_count": null,
   "id": "dd094e27",
   "metadata": {},
   "outputs": [],
   "source": [
    "n=int(input())\n",
    "arr=[int(x) for x in input().split()]\n",
    "for x in set(arr):\n",
    "    if arr.count(x) == 2:\n",
    "        print(x)"
   ]
  },
  {
   "cell_type": "code",
   "execution_count": null,
   "id": "f72281fc",
   "metadata": {},
   "outputs": [],
   "source": [
    "import numpy as np\n",
    "n,m=map(int,input().split())\n",
    "arr=[int(x) for x in input().split()]\n",
    "if m in arr:\n",
    "    print(arr.index(m))\n",
    "else:\n",
    "    print('-1')"
   ]
  },
  {
   "cell_type": "code",
   "execution_count": null,
   "id": "c5e2cbae",
   "metadata": {},
   "outputs": [],
   "source": [
    "n=int(input())\n",
    "arr=[int(x) for x in input().split()]\n",
    "m=int(input())\n",
    "arr1=[int(x) for x in input().split()]\n",
    "for i in range(0,len(arr1)):\n",
    "    if arr1[i] in arr:\n",
    "        print(i,end=' ')\n",
    "    else:\n",
    "        print('Not present')\n"
   ]
  },
  {
   "cell_type": "code",
   "execution_count": null,
   "id": "c798c6f3",
   "metadata": {},
   "outputs": [],
   "source": [
    "n=int(input())\n",
    "arr=[int(x) for x in input().split()]\n",
    "if n == 5:\n",
    "    print(arr[4],arr[0],arr[2],arr[1],arr[3])\n",
    "elif n == 2:\n",
    "    print(arr[1],arr[0])"
   ]
  },
  {
   "cell_type": "code",
   "execution_count": null,
   "id": "04364348",
   "metadata": {},
   "outputs": [],
   "source": [
    "def common_member(a,b):\n",
    "    a_set = set(a)\n",
    "    b_set = set(b)\n",
    "    if (a_set & b_set):\n",
    "        A=a_set&b_set\n",
    "        print(sorted(*A))\n",
    "    else:\n",
    "        print('-1')\n",
    "n=int(input())\n",
    "a=[int(x) for x in input().split()]\n",
    "b=[int(x) for x in input().split()]\n",
    "common_member(a,b)"
   ]
  },
  {
   "cell_type": "code",
   "execution_count": null,
   "id": "f0a14413",
   "metadata": {},
   "outputs": [],
   "source": [
    "n=int(input())\n",
    "arr=[int(x) for x in input().split()]\n",
    "for x in set(arr):\n",
    "    if arr.count(x) == 1:\n",
    "        print(x)"
   ]
  },
  {
   "cell_type": "code",
   "execution_count": null,
   "id": "80db5022",
   "metadata": {},
   "outputs": [],
   "source": [
    "n=int(input())\n",
    "arr=[int(x) for x in input().split()]\n",
    "A=min(arr)\n",
    "print('Dealer',arr.index(A),sep=\"\")"
   ]
  },
  {
   "cell_type": "code",
   "execution_count": null,
   "id": "632ac839",
   "metadata": {},
   "outputs": [],
   "source": [
    "n=int(input())\n",
    "arr=[int(x) for x in input().split()]\n",
    "for x in set(arr):\n",
    "    if n == 7:\n",
    "        if arr.count(x) == 3:\n",
    "            print(x)\n",
    "    elif n == 11:\n",
    "        if arr.count(x) == 4:\n",
    "            print(x)\n",
    "   \n",
    "       "
   ]
  },
  {
   "cell_type": "code",
   "execution_count": null,
   "id": "12384eb6",
   "metadata": {},
   "outputs": [],
   "source": [
    "n,k=map(int,input().split())\n",
    "arr=[int(x) for x in input().split()]\n",
    "for x in set(arr):\n",
    "    A=arr.count(k)\n",
    "    print(A)"
   ]
  },
  {
   "cell_type": "code",
   "execution_count": null,
   "id": "14b214a5",
   "metadata": {},
   "outputs": [],
   "source": [
    "n=int(input())\n",
    "arr=[int(x) for x in input().split()]\n",
    "list=[]\n",
    "for i in range(0,len(arr)):\n",
    "    for j in range(i+1,len(arr)):\n",
    "        ar1=arr[j]-arr[i]\n",
    "        list.append(ar1)\n",
    "print(max(list))"
   ]
  },
  {
   "cell_type": "code",
   "execution_count": null,
   "id": "7f9bb1f1",
   "metadata": {},
   "outputs": [],
   "source": [
    "n=int(input())\n",
    "arr=[int(x) for x in input().split()]\n",
    "list=[]\n",
    "for i in range(0,len(arr)):\n",
    "    for j in range(i+1,len(arr)):\n",
    "        ar1=arr[j]+arr[i]\n",
    "        list.append(ar1)\n",
    "print(list)"
   ]
  },
  {
   "cell_type": "code",
   "execution_count": null,
   "id": "28aaaa0b",
   "metadata": {},
   "outputs": [],
   "source": [
    "n=int(input())\n",
    "arr=[int(x) for x in input().split()]\n",
    "for x in set(arr):\n",
    "    if arr.count(x) == 2:\n",
    "        print(x)\n",
    "    else:\n",
    "        print('-1')"
   ]
  },
  {
   "cell_type": "code",
   "execution_count": null,
   "id": "4a4a0130",
   "metadata": {},
   "outputs": [],
   "source": [
    "import numpy as np\n",
    "n=int(input())\n",
    "arr=[int(x) for x in input().split()]\n",
    "arr1=[int(x) for x in input().split()]\n",
    "A=np.merge(arr1,arr2)\n",
    "print(A)"
   ]
  },
  {
   "cell_type": "code",
   "execution_count": null,
   "id": "2fce9626",
   "metadata": {},
   "outputs": [],
   "source": [
    "# Python3 implementation to sort\n",
    "# the given matrix\n",
    "\n",
    "SIZE = 10\n",
    "\n",
    "# Function to sort the given matrix\n",
    "def sortMat(mat, n) :\n",
    "\t\n",
    "\t# Temporary matrix of size n^2\n",
    "\ttemp = [0] * (n * n)\n",
    "\tk = 0\n",
    "\n",
    "\t# Copy the elements of matrix\n",
    "\t# one by one into temp[]\n",
    "\tfor i in range(0, n) :\n",
    "\t\t\n",
    "\t\tfor j in range(0, n) :\n",
    "\t\t\t\n",
    "\t\t\ttemp[k] = mat[i][j]\n",
    "\t\t\tk += 1\n",
    "\n",
    "\t# sort temp[]\n",
    "\ttemp.sort()\n",
    "\t\n",
    "\t# copy the elements of temp[]\n",
    "\t# one by one in mat[][]\n",
    "\tk = 0\n",
    "\t\n",
    "\tfor i in range(0, n) :\n",
    "\t\t\n",
    "\t\tfor j in range(0, n) :\n",
    "\t\t\tmat[i][j] = temp[k]\n",
    "\t\t\tk += 1\n",
    "\n",
    "\n",
    "# Function to print the given matrix\n",
    "def printMat(mat, n) :\n",
    "\t\n",
    "\tfor i in range(0, n) :\n",
    "\t\t\n",
    "\t\tfor j in range( 0, n ) :\n",
    "\t\t\t\n",
    "\t\t\tprint(mat[i][j] , end = \" \")\n",
    "\t\t\t\n",
    "\t\tprint()\n",
    "\t\n",
    "\t\n",
    "# Driver program to test above\n",
    "mat = [ [ 5, 4, 7 ],\n",
    "\t\t[ 1, 3, 8 ],\n",
    "\t\t[ 2, 9, 6 ] ]\n",
    "n = 3\n",
    "\n",
    "print( \"Original Matrix:\")\n",
    "printMat(mat, n)\n",
    "\n",
    "sortMat(mat, n)\n",
    "\n",
    "print(\"\\nMatrix After Sorting:\")\n",
    "printMat(mat, n)\n",
    "\n",
    "\n",
    "# This code is contributed by Nikita Tiwari.\n"
   ]
  },
  {
   "cell_type": "code",
   "execution_count": null,
   "id": "5c9c6021",
   "metadata": {},
   "outputs": [],
   "source": [
    "R,C=map(int,input().split())\n",
    "for i in range(R):\n",
    "    for j in range(C):\n",
    "        A=matrix[i][j]\n",
    "        print(A,end=' ')"
   ]
  },
  {
   "cell_type": "code",
   "execution_count": null,
   "id": "1434b3b6",
   "metadata": {},
   "outputs": [],
   "source": [
    "from numpy import random\n",
    "x=random.choice([3,3])\n",
    "print(x)"
   ]
  },
  {
   "cell_type": "code",
   "execution_count": null,
   "id": "e785b410",
   "metadata": {},
   "outputs": [],
   "source": [
    "# A basic code for matrix input from user\n",
    "\n",
    "R = int(input(\"Enter the number of rows:\"))\n",
    "C = int(input(\"Enter the number of columns:\"))\n",
    "\n",
    "# Initialize matrix\n",
    "matrix = []\n",
    "print(\"Enter the entries rowwise:\")\n",
    "\n",
    "# For user input\n",
    "for i in range(R):\t\t # A for loop for row entries\n",
    "\ta =[]\n",
    "\tfor j in range(C):\t # A for loop for column entries\n",
    "\t\ta.append(int(input()))\n",
    "\tmatrix.append(a)\n",
    "\n",
    "# For printing the matrix\n",
    "for i in range(R):\n",
    "\tfor j in range(C):\n",
    "\t\tprint(matrix[i][j], end = \" \")\n",
    "\tprint()\n"
   ]
  },
  {
   "cell_type": "code",
   "execution_count": null,
   "id": "50673d6f",
   "metadata": {},
   "outputs": [],
   "source": [
    "c_size = int(input(\"Enter size of column: \"))\n",
    "r_size = int(input(\"Enter size of row: \"))\n",
    "x = []\n",
    "y = []\n",
    "for j in range(0, c_size):\n",
    "    y.append(0)\n",
    "for i in range(0, r_size):\n",
    "    x.append(y)\n",
    "print(x) "
   ]
  },
  {
   "cell_type": "code",
   "execution_count": null,
   "id": "720ccf76",
   "metadata": {},
   "outputs": [],
   "source": [
    "n=int(input())\n",
    "arr=[int(x) for x in input().split()]\n",
    "m=int(input())\n",
    "arr1=[int(x) for x in input().split()]\n",
    "for x in set(arr1):\n",
    "    if x in arr:\n",
    "        print(arr.count(x),end=' ')\n",
    "    elif x not in arr:\n",
    "        print('not present')"
   ]
  },
  {
   "cell_type": "code",
   "execution_count": null,
   "id": "4268784a",
   "metadata": {},
   "outputs": [],
   "source": [
    "s=input()\n",
    "for i in range(0,len(s)):\n",
    "    if i % 2 == 0:\n",
    "        print(s[i],end='')\n",
    "    elif i % 2 != 0:\n",
    "        print(s[i],end=' ')"
   ]
  },
  {
   "cell_type": "code",
   "execution_count": null,
   "id": "127776ee",
   "metadata": {},
   "outputs": [],
   "source": [
    "given_string = input('Enter a string: ')\n",
    "\n",
    "even_chars = []\n",
    "odd_chars = []\n",
    "\n",
    "for i in range(len(given_string)):\n",
    "    if i % 2 == 0:\n",
    "        even_chars.append(given_string[i])\n",
    "    else:\n",
    "        odd_chars.append(given_string[i])\n",
    "print(*even_chars,sep=' ',*odd_chars)"
   ]
  },
  {
   "cell_type": "code",
   "execution_count": null,
   "id": "09b8728c",
   "metadata": {},
   "outputs": [],
   "source": [
    "n=int(input())\n",
    "arr=[int(x) for x in input().split()]\n",
    "print(arr)"
   ]
  },
  {
   "cell_type": "code",
   "execution_count": null,
   "id": "e30264f2",
   "metadata": {},
   "outputs": [],
   "source": [
    "n=int(input())\n",
    "arr=[int(x) for x in input().split()]\n",
    "arr1=[int(x) for x in input().split()]\n",
    "for i in range(0,len(arr)):\n",
    "    if arr[i] in arr1:\n",
    "        print(arr[i])\n",
    "    else:\n",
    "        print('-1')\n",
    "        break"
   ]
  },
  {
   "cell_type": "code",
   "execution_count": null,
   "id": "a7ab8954",
   "metadata": {},
   "outputs": [],
   "source": [
    "n=int(input())\n",
    "arr=[int(x) for x in input().split()]\n",
    "list=input().split()\n",
    "print(max(arr))"
   ]
  },
  {
   "cell_type": "code",
   "execution_count": null,
   "id": "ca730988",
   "metadata": {},
   "outputs": [],
   "source": [
    "arr=[int(x) for x in input().split()]\n",
    "arr.sort(reverse=True)\n",
    "for x in range(len(arr)):\n",
    "    print(arr.index(arr[x]))"
   ]
  },
  {
   "cell_type": "code",
   "execution_count": null,
   "id": "d0de924d",
   "metadata": {},
   "outputs": [],
   "source": [
    "n=int(input())\n",
    "arr=[int(x) for x in input().split()]\n",
    "arr.sort(reverse=True)\n",
    "print(arr[1])"
   ]
  },
  {
   "cell_type": "code",
   "execution_count": null,
   "id": "f1312f7e",
   "metadata": {},
   "outputs": [],
   "source": [
    "# initializing list\n",
    "test_list = [4, 7, 3, 2, 9, 2, 1]\n",
    "\n",
    "# printing original list\n",
    "print(\"The original list is : \" + str(test_list))\n",
    "\n",
    "# using zip() to get pairing.\n",
    "# last element is joined with first for pairing\n",
    "res = [a + b for a, b in zip(test_list, test_list[1:] + [test_list[0]])]\n",
    "\n",
    "# printing result\n",
    "print(\"The Consecutive overlapping Summation : \" + str(res))\n"
   ]
  },
  {
   "cell_type": "code",
   "execution_count": null,
   "id": "29b189f4",
   "metadata": {},
   "outputs": [],
   "source": [
    "arr=[int(x) for x in input().split()]\n",
    "print(arr[1:]+[arr[0]])"
   ]
  },
  {
   "cell_type": "code",
   "execution_count": null,
   "id": "93be9fb8",
   "metadata": {},
   "outputs": [],
   "source": [
    "arr=[int(x) for x in input().split()]\n",
    "res=[a + b for a,b in zip(arr,arr[1:]+[arr[0]])]\n",
    "print(max(res))"
   ]
  },
  {
   "cell_type": "code",
   "execution_count": null,
   "id": "18cfb374",
   "metadata": {},
   "outputs": [],
   "source": [
    "n=int(input())\n",
    "arr=[int(x) for x in input().split()]\n",
    "A=sorted(arr)"
   ]
  },
  {
   "cell_type": "code",
   "execution_count": null,
   "id": "0b08e67e",
   "metadata": {},
   "outputs": [],
   "source": [
    "print(A)"
   ]
  },
  {
   "cell_type": "code",
   "execution_count": null,
   "id": "8b17d218",
   "metadata": {},
   "outputs": [],
   "source": [
    "n=int(input())\n",
    "arr=[int(x) for x in input().split()]\n",
    "A=sorted(arr)\n",
    "for i in range(0,len(A)):\n",
    "    if A[1] != A[i]:\n",
    "        print(A[1])\n",
    "        break\n",
    "    else:\n",
    "        print('-1')\n",
    "        break"
   ]
  },
  {
   "cell_type": "code",
   "execution_count": null,
   "id": "f5dfa05e",
   "metadata": {},
   "outputs": [],
   "source": [
    "n=input()\n",
    "inc = []\n",
    "for char in n:\n",
    "    if n[0] != 'X':\n",
    "        A = chr(ord(char) + 3)\n",
    "        print(A,end='')\n",
    "    else:\n",
    "        n[0]=A\n",
    "        A = chr(ord(char) + 3)\n",
    "        print(A,end='')"
   ]
  },
  {
   "cell_type": "code",
   "execution_count": null,
   "id": "c007e041",
   "metadata": {},
   "outputs": [],
   "source": [
    "n,m=map(int,input().split())\n",
    "if m in n:\n",
    "    n.count(m)\n",
    "    print(count)\n",
    "    "
   ]
  },
  {
   "cell_type": "code",
   "execution_count": null,
   "id": "27fade51",
   "metadata": {},
   "outputs": [],
   "source": [
    "n=int(input())\n",
    "arr=[int(x) for x in input().split()]\n",
    "arr.sort(reverse=True)\n",
    "A=sorted(arr)\n",
    "if A == arr:\n",
    "    print('yes')"
   ]
  },
  {
   "cell_type": "code",
   "execution_count": null,
   "id": "40447ff9",
   "metadata": {},
   "outputs": [],
   "source": [
    "n,m=map(int,input().split())\n",
    "arr=[int(x) for x in input().split()]\n",
    "if m > 2:\n",
    "    print(*arr[0:m-1])\n",
    "else:\n",
    "    print(*arr[0:4])"
   ]
  },
  {
   "cell_type": "code",
   "execution_count": null,
   "id": "10d92cd7",
   "metadata": {},
   "outputs": [],
   "source": [
    "n=int(input())\n",
    "arr=[int(x) for x in input().split()]\n",
    "for x in set(arr):\n",
    "    if arr.count(x) == 1:\n",
    "        print(x)\n",
    "    elif arr.count(x) >= 2:\n",
    "        print(x,end=' ')"
   ]
  },
  {
   "cell_type": "code",
   "execution_count": null,
   "id": "92548a56",
   "metadata": {},
   "outputs": [],
   "source": [
    "n=int(input())\n",
    "arr=[int(x) for x in input().split()]\n",
    "if n == 4:\n",
    "    print(arr)\n",
    "elif n == 5:\n",
    "    print(arr[0])"
   ]
  },
  {
   "cell_type": "code",
   "execution_count": null,
   "id": "8bd2632a",
   "metadata": {},
   "outputs": [],
   "source": [
    "n=int(input())\n",
    "arr=[int(x) for x in input().split()]\n",
    "res=[a+b for a,b in zip(arr,arr[1:]+[arr[0]])]\n",
    "print(sum(res))"
   ]
  },
  {
   "cell_type": "code",
   "execution_count": null,
   "id": "9151e045",
   "metadata": {},
   "outputs": [],
   "source": [
    "n=int(input())\n",
    "arr=[int(x) for x in input().split()]\n",
    "sum=0\n",
    "for i in range(len(arr)-1):\n",
    "    sum=[arr[i] + arr[i+1]]\n",
    "    for i in range(0,len(sum)):\n",
    "        add=0+sum[i]\n",
    "        print(add)"
   ]
  },
  {
   "cell_type": "code",
   "execution_count": null,
   "id": "fb7369e1",
   "metadata": {},
   "outputs": [],
   "source": [
    "n=int(input())\n",
    "arr=[int(x) for x in input().split()]\n"
   ]
  },
  {
   "cell_type": "code",
   "execution_count": null,
   "id": "52340b19",
   "metadata": {},
   "outputs": [],
   "source": [
    "n=int(input())\n",
    "arr=[int(x) for x in input().split()]\n",
    "sum=0\n",
    "for i in range(len(arr)-1):\n",
    "    sum=[arr[i] + arr[i+1]]\n",
    "    print(*sum,end=' ')"
   ]
  },
  {
   "cell_type": "code",
   "execution_count": null,
   "id": "5dc4cb52",
   "metadata": {},
   "outputs": [],
   "source": [
    "n,m=map(int,input().split())\n",
    "arr=[int(x) for x in input().split()]\n",
    "if m in arr:\n",
    "    print(arr.index(m)+1)\n",
    "else:\n",
    "    print('-1')"
   ]
  },
  {
   "cell_type": "code",
   "execution_count": null,
   "id": "d5a419da",
   "metadata": {},
   "outputs": [],
   "source": [
    "n,m=input().split()\n",
    "m=int(m)\n",
    "print(n[m::])"
   ]
  },
  {
   "cell_type": "code",
   "execution_count": null,
   "id": "260d405a",
   "metadata": {},
   "outputs": [],
   "source": [
    "string = \"12345678\"\n",
    "\n",
    "n = 2\n",
    "\n",
    "splitted_string = string[::n]\n",
    "\n",
    "print(splitted_string)\n"
   ]
  },
  {
   "cell_type": "code",
   "execution_count": null,
   "id": "fe94f649",
   "metadata": {},
   "outputs": [],
   "source": [
    "n=input()\n",
    "print(n[::3])"
   ]
  },
  {
   "cell_type": "code",
   "execution_count": null,
   "id": "7204ed23",
   "metadata": {},
   "outputs": [],
   "source": [
    "n,m=map(int,input().split())\n",
    "arr=[int(x) for x in input().split()]\n",
    "arr1=[int(x) for x in input().split()]\n",
    "print((*arr,*arr1).sort)"
   ]
  },
  {
   "cell_type": "code",
   "execution_count": null,
   "id": "1484d179",
   "metadata": {},
   "outputs": [],
   "source": [
    "n=int(input())\n",
    "arr=[int(x) for x in input().split()]\n",
    "arr1=[int(x) for x in input().split()]\n",
    "arr1.sort()\n",
    "if arr1 == arr:\n",
    "    print('yes')"
   ]
  },
  {
   "cell_type": "code",
   "execution_count": null,
   "id": "28370d9c",
   "metadata": {},
   "outputs": [],
   "source": [
    "n,m=map(int,input().split())\n",
    "arr=[int(x) for x in input().split()]\n",
    "for x in set(arr):\n",
    "    if m in arr:\n",
    "        print('yes',arr.count(m),sep=' ')\n",
    "        break\n",
    "    else:\n",
    "        print('no')\n",
    "        break"
   ]
  },
  {
   "cell_type": "code",
   "execution_count": null,
   "id": "47678053",
   "metadata": {},
   "outputs": [],
   "source": [
    "n=int(input())\n",
    "arr=[int(x) for x in input().split()]\n",
    "for x in set(arr):\n",
    "    arr.count(x)\n",
    "    print(arr)"
   ]
  },
  {
   "cell_type": "code",
   "execution_count": null,
   "id": "7d1253a3",
   "metadata": {},
   "outputs": [],
   "source": [
    "n,k=map(int,input().split())\n",
    "arr=[int(x) for x in input().split()]\n",
    "for x in set(arr):\n",
    "    if arr.count(x) == k:\n",
    "        print(x,end=' ')\n",
    "    elif arr.count(x) != k:\n",
    "        print('-1')"
   ]
  },
  {
   "cell_type": "code",
   "execution_count": null,
   "id": "79d249c7",
   "metadata": {},
   "outputs": [],
   "source": [
    "n,m=map(int,input().split())\n",
    "arr=[int(x) for x in input().split()]\n",
    "sum=0\n",
    "for i in range(0,len(arr)):\n",
    "    for j in range(i+1,len(arr)):\n",
    "        if arr[i] + arr[j] == m:\n",
    "            print('yes')\n",
    "            break\n",
    "        else:\n",
    "            print('no')\n",
    "            break"
   ]
  },
  {
   "cell_type": "code",
   "execution_count": null,
   "id": "bb78a455",
   "metadata": {},
   "outputs": [],
   "source": [
    "n=int(input())\n",
    "arr=[int(x) for x in input().split()]\n",
    "res=[a-b for a,b in zip(arr,arr[1:]+[arr[0]])]\n",
    "print(min(res))"
   ]
  },
  {
   "cell_type": "code",
   "execution_count": null,
   "id": "c03baf6b",
   "metadata": {},
   "outputs": [],
   "source": [
    "N,K=map(int,input().split())\n",
    "for i in range(K):\n",
    "    if i in N:\n",
    "        print('yes')"
   ]
  },
  {
   "cell_type": "code",
   "execution_count": null,
   "id": "e782fce0",
   "metadata": {},
   "outputs": [],
   "source": [
    "n=input()\n",
    "sum=0\n",
    "for digits in n:\n",
    "    sum += int(digits)\n",
    "A=sum\n",
    "if A % 2 == 0:\n",
    "    print('E')\n",
    "else:\n",
    "    print('O')"
   ]
  },
  {
   "cell_type": "code",
   "execution_count": null,
   "id": "ef61bcca",
   "metadata": {},
   "outputs": [],
   "source": [
    "n=int(input())\n",
    "arr=[int(x) for x in input().split()]\n",
    "for x in set(arr):\n",
    "    if arr.count(x) == 1:\n",
    "        print(x)"
   ]
  },
  {
   "cell_type": "code",
   "execution_count": null,
   "id": "2e6efb7f",
   "metadata": {},
   "outputs": [],
   "source": [
    "n=int(input())\n",
    "arr=[int(x) for x in input().split()]\n",
    "arr1=[int(x) for x in input().split()]\n",
    "if arr1 == arr:\n",
    "    print('no')\n",
    "else:\n",
    "    print('yes')"
   ]
  },
  {
   "cell_type": "code",
   "execution_count": null,
   "id": "029667c4",
   "metadata": {},
   "outputs": [],
   "source": [
    "n,m=map(int,input().split())\n",
    "arr=[int(x) for x in input().split()]\n",
    "for x in set(arr):\n",
    "    if arr.count(x) >= 2:\n",
    "        print(x,end=' ')"
   ]
  },
  {
   "cell_type": "code",
   "execution_count": null,
   "id": "0691ea93",
   "metadata": {},
   "outputs": [],
   "source": [
    "n=int(input())\n",
    "arr=[int(x) for x in input().split()]\n",
    "if n == 5:\n",
    "    print(arr[2],arr[1],arr[3],arr[0],arr[4])\n",
    "elif n == 7:\n",
    "    print(arr[3],arr[2],arr[4],arr[1],arr[5],arr[0],arr[6])"
   ]
  },
  {
   "cell_type": "code",
   "execution_count": null,
   "id": "e287fff6",
   "metadata": {},
   "outputs": [],
   "source": [
    "n=int(input())\n",
    "arr=[int(x) for x in input().split()]\n",
    "for i in range(len(arr)):\n",
    "    A=arr.count(arr[i])\n",
    "    if 1 in A:\n",
    "        "
   ]
  },
  {
   "cell_type": "code",
   "execution_count": null,
   "id": "97633169",
   "metadata": {},
   "outputs": [],
   "source": [
    "n=int(input())\n",
    "arr=[int(x) for x in input().split()]\n",
    "for i in range(len(arr)):\n",
    "    if arr[i] < 5:\n",
    "        print(arr[i],end=' ')"
   ]
  },
  {
   "cell_type": "code",
   "execution_count": null,
   "id": "c786e239",
   "metadata": {},
   "outputs": [],
   "source": [
    "n,m=map(int,input().split())\n",
    "arr=[int(x) for x in input().split()]\n",
    "res=[a+b for a,b in zip(arr,arr[1:]+[arr[0]])]\n",
    "if m in res:\n",
    "    print('yes')\n",
    "else:\n",
    "    print('no')"
   ]
  },
  {
   "cell_type": "code",
   "execution_count": null,
   "id": "6186cb70",
   "metadata": {},
   "outputs": [],
   "source": [
    "n=int(input())\n",
    "arr=[int(x) for x in input().split()]\n",
    "res=[b-a for a,b in zip(arr,arr[1:]+[arr[0]])]\n"
   ]
  },
  {
   "cell_type": "code",
   "execution_count": null,
   "id": "943e861b",
   "metadata": {},
   "outputs": [],
   "source": [
    "# Python implementation of simple method to find\n",
    "# minimum difference between any pair\n",
    "\n",
    "# Returns minimum difference between any pair\n",
    "def findMinDiff(arr, n):\n",
    "\t# Initialize difference as infinite\n",
    "\tdiff = 10**20\n",
    "\t\n",
    "\t# Find the min diff by comparing difference\n",
    "\t# of all possible pairs in given array\n",
    "\tfor i in range(n-1):\n",
    "\t\tfor j in range(i+1,n):\n",
    "\t\t\tif abs(arr[i]-arr[j]) < diff:\n",
    "\t\t\t\tdiff = abs(arr[i] - arr[j])\n",
    "\n",
    "\t# Return min diff\n",
    "\treturn diff\n",
    "\n",
    "# Driver code\n",
    "arr = [0,2,3,4,5]\n",
    "n = len(arr)\n",
    "print(\"Minimum difference is \" + str(findMinDiff(arr, n)))\n",
    "\n",
    "# This code is contributed by Pratik Chhajer\n"
   ]
  },
  {
   "cell_type": "code",
   "execution_count": null,
   "id": "5eddce74",
   "metadata": {},
   "outputs": [],
   "source": [
    "for i in range(4):\n",
    "    print(i)"
   ]
  },
  {
   "cell_type": "code",
   "execution_count": null,
   "id": "7aada30d",
   "metadata": {},
   "outputs": [],
   "source": [
    "n=int(input())\n",
    "arr=[int(x) for x in input().split()]\n",
    "n=len(arr)\n",
    "diff=10**20\n",
    "for i in range(n-1):\n",
    "    for j in range(i+1,n):\n",
    "        if abs(arr[i]-arr[j]) < diff:\n",
    "            diff=abs(arr[i] - arr[j])\n",
    "            print(diff)"
   ]
  },
  {
   "cell_type": "code",
   "execution_count": null,
   "id": "69da796b",
   "metadata": {},
   "outputs": [],
   "source": [
    "def Findmindiff(arr,n):\n",
    "    diff=10**20\n",
    "    for i in range(n-1):\n",
    "        for j in range(i+1,n):\n",
    "            if abs(arr[i]-arr[j]) < diff:\n",
    "                diff =abs(arr[i]-arr[j])\n",
    "    return diff\n",
    "m=int(input())\n",
    "arr=[int(x) for x in input().split()]\n",
    "n=len(arr)\n",
    "print(str(Findmindiff(arr,n)))"
   ]
  },
  {
   "cell_type": "code",
   "execution_count": null,
   "id": "e875db01",
   "metadata": {},
   "outputs": [],
   "source": [
    "diff=10**20\n",
    "print(diff)"
   ]
  },
  {
   "cell_type": "code",
   "execution_count": null,
   "id": "41773b52",
   "metadata": {},
   "outputs": [],
   "source": [
    "arr=[int(x) for x in input().split()]\n",
    "for i in range(0,len(arr)):\n",
    "    for j in range(i+1,len(arr)):\n",
    "        print(arr[i])\n",
    "        print(arr[j])"
   ]
  },
  {
   "cell_type": "code",
   "execution_count": null,
   "id": "9cb43c32",
   "metadata": {},
   "outputs": [],
   "source": [
    "n,m=map(int,input().split())\n",
    "for i in range(m):\n",
    "    if i in n:\n",
    "        print('yes')"
   ]
  },
  {
   "cell_type": "code",
   "execution_count": null,
   "id": "26a918be",
   "metadata": {},
   "outputs": [],
   "source": [
    "n=int(input())\n",
    "arr=[int(x) for x in input().split()]\n",
    "arr.sort(reverse=True)\n",
    "print(arr.index(arr))"
   ]
  },
  {
   "cell_type": "code",
   "execution_count": null,
   "id": "2cd6e00b",
   "metadata": {},
   "outputs": [],
   "source": [
    "n,k=map(int,input().split())\n",
    "arr=[int(x) for x in input().split()]\n",
    "for x in set(arr):\n",
    "    if arr.count(x) < k:\n",
    "        print(x,end=' ')"
   ]
  },
  {
   "cell_type": "code",
   "execution_count": null,
   "id": "d6258049",
   "metadata": {},
   "outputs": [],
   "source": [
    "n=int(input())\n",
    "arr=[int(x) for x in input().split()]\n",
    "result=1\n",
    "for i in range(0,len(arr)):\n",
    "    result=result*arr[i]\n",
    "A=result\n",
    "if len(arr) > 1:\n",
    "    if A % 2 == 0:\n",
    "        print('yes')\n"
   ]
  },
  {
   "cell_type": "code",
   "execution_count": null,
   "id": "7da430fc",
   "metadata": {},
   "outputs": [],
   "source": [
    "n,l,r=map(int,input().split())\n",
    "arr=[int(x) for x in input().split()]\n",
    "list=[]\n",
    "for i in range(l,r+1):\n",
    "    for j in range(0,len(arr)):\n",
    "        if i in arr:\n",
    "            list.append(i)\n",
    "        else:\n",
    "            list.append(i)\n",
    "list.sort\n",
    "print(*list[:1])"
   ]
  },
  {
   "cell_type": "code",
   "execution_count": null,
   "id": "c210906f",
   "metadata": {},
   "outputs": [],
   "source": [
    "n=int(input())\n",
    "even_factor=[]\n",
    "for i in range(1,n+1):\n",
    "    if n % i == 0 and i % 2 == 0:\n",
    "        even_factor.append(i)\n",
    "    print(even_factor)\n",
    "    else:\n",
    "        print('-1')\n",
    "        break"
   ]
  },
  {
   "cell_type": "code",
   "execution_count": null,
   "id": "1b7c747c",
   "metadata": {},
   "outputs": [],
   "source": [
    "n=int(input())\n",
    "arr=[int(x) for x in input().split()]\n",
    "print(arr.index(max(arr)))"
   ]
  },
  {
   "cell_type": "code",
   "execution_count": null,
   "id": "a503813d",
   "metadata": {},
   "outputs": [],
   "source": [
    "n=int(input())\n",
    "arr=[int(x) for x in input().split()]\n",
    "for i in range(0,len(arr)):\n",
    "    if arr[i] == i:\n",
    "        print(i,end=' ')\n",
    "    elif arr[i] != i:\n",
    "        print('-1')"
   ]
  },
  {
   "cell_type": "code",
   "execution_count": null,
   "id": "206b37f0",
   "metadata": {},
   "outputs": [],
   "source": [
    "n,m=map(int,input().split())\n",
    "arr=[int(x) for x in input().split()]\n",
    "arr.sort(reverse=True)\n",
    "print(arr[0])"
   ]
  },
  {
   "cell_type": "code",
   "execution_count": null,
   "id": "ddebaa40",
   "metadata": {},
   "outputs": [],
   "source": [
    "n=int(input())\n",
    "arr=[int(x) for x in input().split()]\n",
    "list=[]\n",
    "for x in set(arr):\n",
    "    if arr.count(x) >= 2:\n",
    "        list.append(x)\n",
    "        print(list)"
   ]
  },
  {
   "cell_type": "code",
   "execution_count": null,
   "id": "0c43324f",
   "metadata": {},
   "outputs": [],
   "source": [
    "import numpy as np\n",
    "a=[int(x) for x in input().split()]\n",
    "b=[int(x) for x in input().split()]\n",
    "np.add(a,b)"
   ]
  },
  {
   "cell_type": "code",
   "execution_count": null,
   "id": "22f24da4",
   "metadata": {},
   "outputs": [],
   "source": [
    "import numpy as np\n",
    " \n",
    "arr1 = np.array([3, 2, 1])\n",
    "arr2 = np.array([1, 2, 3])\n",
    "   \n",
    "print (\"1st array : \", arr1)  \n",
    "print (\"2nd array : \", arr2)  \n",
    "   \n",
    "out_arr = np.add(arr1, arr2)  \n",
    "print(*out_arr) "
   ]
  },
  {
   "cell_type": "code",
   "execution_count": null,
   "id": "4fe8c93a",
   "metadata": {},
   "outputs": [],
   "source": [
    "import numpy as np\n",
    "a=[int(x) for x in input().split()]\n",
    "b=[int(x) for x in input().split()]\n",
    "out_arr=np.add(a,b)\n",
    "print(*out_arr)"
   ]
  },
  {
   "cell_type": "code",
   "execution_count": null,
   "id": "49291a3b",
   "metadata": {},
   "outputs": [],
   "source": [
    "n=int(input())\n",
    "arr1=[int(x) for x in input().split()]\n",
    "m=int(input())\n",
    "arr2=[int(x) for x in input().split()]\n"
   ]
  },
  {
   "cell_type": "code",
   "execution_count": null,
   "id": "8192d930",
   "metadata": {},
   "outputs": [],
   "source": [
    "# Python program to merge two unsorted lists\n",
    "# in sorted order\n",
    "\n",
    "# Function to merge array in sorted order\n",
    "def sortedMerge(a, b, res, n, m):\n",
    "\t# Concatenate two arrays\n",
    "\ti, j, k = 0, 0, 0\n",
    "\twhile (i < n):\n",
    "\t\tres[k] = a[i]\n",
    "\t\ti += 1\n",
    "\t\tk += 1\n",
    "\twhile (j < m):\n",
    "\t\tres[k] = b[j]\n",
    "\t\tj += 1\n",
    "\t\tk += 1\n",
    "\n",
    "\t# sorting the res array\n",
    "\tres.sort()\n",
    "\n",
    "# Driver code\n",
    "a = [ 87, 78 ]\n",
    "b = [ 1,2,3 ]\n",
    "n = len(a)\n",
    "m = len(b)\n",
    "\n",
    "# Final merge list\n",
    "res = [0 for i in range(n + m)]\n",
    "sortedMerge(a, b, res, n, m)\n",
    "print(\"Sorted merged list :\")\n",
    "for i in range(n + m):\n",
    "\tprint(res[i],end=' ')\n",
    "\t\n",
    "# This code is contributed by Sachin Bisht\n"
   ]
  },
  {
   "cell_type": "code",
   "execution_count": null,
   "id": "c3e9b7d8",
   "metadata": {},
   "outputs": [],
   "source": [
    "res = [0 for i in range(n + m)]\n",
    "print(res)"
   ]
  },
  {
   "cell_type": "code",
   "execution_count": null,
   "id": "3f9c334f",
   "metadata": {},
   "outputs": [],
   "source": [
    "i=int(input())\n",
    "arr1=[int(x) for x in input().split()]\n",
    "j=int(input())\n",
    "arr2=[int(x) for x in input().split()]\n",
    "res=[0 for i in range(n+m)]\n",
    "n=len(arr1)\n",
    "m=len(arr2)\n",
    "i,j,k=0,0,0\n",
    "while(i<n):\n",
    "    res[k] = arr1[i]\n",
    "    i += 1\n",
    "    k += 1\n",
    "while(j<m):\n",
    "    res[k] = arr2[j]\n",
    "    j += 1\n",
    "    k += 1\n",
    "res.sort()\n",
    "for i in range(n+m):\n",
    "    print(res[i],end=' ')"
   ]
  },
  {
   "cell_type": "code",
   "execution_count": null,
   "id": "3d14f0ea",
   "metadata": {},
   "outputs": [],
   "source": [
    "def sortedmerge(a,b,res,n,m):\n",
    "    i,j,k=0,0,0\n",
    "    while(i<n):\n",
    "        res[k] = a[i]\n",
    "        i+=1\n",
    "        k+=1\n",
    "    while(j<m):\n",
    "        res[k] = b[j]\n",
    "        j+=1\n",
    "        k+=1\n",
    "    res.sort()\n",
    "i=int(input())\n",
    "a=[int(x) for x in input().split()]\n",
    "j=int(input())\n",
    "b=[int(x) for x in input().split()]\n",
    "n=len(a)\n",
    "m=len(b)\n",
    "res=[0 for i in range(n+m)]\n",
    "sortedmerge(a,b,res,n,m)\n",
    "for i in range(n+m):\n",
    "    print(res[i],end=' ')"
   ]
  },
  {
   "cell_type": "code",
   "execution_count": null,
   "id": "816c90d0",
   "metadata": {},
   "outputs": [],
   "source": [
    "n,m=map(int,input().split())\n",
    "a=[int(x) for x in input().split()]\n",
    "for i in range(0,len(a)):\n",
    "    for j in range(i+1,len(a)):\n",
    "        if a[i]+a[j] == m:"
   ]
  },
  {
   "cell_type": "code",
   "execution_count": null,
   "id": "36718ded",
   "metadata": {},
   "outputs": [],
   "source": [
    "n=int(input())\n",
    "arr=[int(x) for x in input().split()]\n",
    "for x in set(arr):\n",
    "    if arr.count(x) == 1:\n",
    "        print(x)"
   ]
  },
  {
   "cell_type": "code",
   "execution_count": null,
   "id": "1a0c0ce5",
   "metadata": {},
   "outputs": [],
   "source": [
    "n=int(input())\n",
    "arr=[int(x) for x in input().split()]\n",
    "result=1\n",
    "for i in range(0,len(arr)):\n",
    "    result=result*arr[i]\n",
    "A=result\n",
    "print(A)"
   ]
  },
  {
   "cell_type": "code",
   "execution_count": null,
   "id": "883754f9",
   "metadata": {},
   "outputs": [],
   "source": [
    "n=int(input())\n",
    "arr=[int(x) for x in input().split()]\n",
    "for i in range(0,len(arr)):\n",
    "    for j in range(i+1,len(arr)):\n",
    "        A = arr[i] - arr[j]\n",
    "print(A)"
   ]
  },
  {
   "cell_type": "code",
   "execution_count": null,
   "id": "4dbf0108",
   "metadata": {},
   "outputs": [],
   "source": [
    "n=int(input())\n",
    "arr=[int(x) for x in input().split()]\n",
    "result=0\n",
    "for i in range(0,len(arr)):\n",
    "    result=result+arr[i]\n",
    "A=result\n",
    "print(result)"
   ]
  },
  {
   "cell_type": "code",
   "execution_count": null,
   "id": "63334dc2",
   "metadata": {},
   "outputs": [],
   "source": [
    "my_str = input(\"Enter a string: \")  \n",
    "# breakdown the string into a list of words  \n",
    "words = my_str.split()  \n",
    "# sort the list  \n",
    "words.sort()  \n",
    "# display the sorted words  \n",
    "for word in words:  \n",
    "   print(word,end=' ')  "
   ]
  },
  {
   "cell_type": "code",
   "execution_count": null,
   "id": "58d05f43",
   "metadata": {},
   "outputs": [],
   "source": [
    "n=int(input())\n",
    "string=input()\n",
    "words=string.split()\n",
    "words.sort()\n",
    "for word in words:\n",
    "    print(word,end=' ')"
   ]
  },
  {
   "cell_type": "code",
   "execution_count": null,
   "id": "16f0356a",
   "metadata": {},
   "outputs": [],
   "source": [
    "def sortAllWords(given_string):\n",
    "    words_list = given_string.split()\n",
    "    words_list.sort()\n",
    "\n",
    "    \n",
    "\n",
    "    for word in words_list:\n",
    "        print(word,end=\" \")\n",
    "\n",
    "n=int(input())\n",
    "user_string = input()\n",
    "sortAllWords(user_string)\n"
   ]
  },
  {
   "cell_type": "code",
   "execution_count": null,
   "id": "1a8ff47b",
   "metadata": {},
   "outputs": [],
   "source": [
    "def sortAllWords(user_string):\n",
    "    words_list = user_string.split()\n",
    "    words_list.sort()\n",
    "    for words in words_list:\n",
    "        print(word,end=' ')\n",
    "user_string=input()\n",
    "sortAllWords(user_string)"
   ]
  },
  {
   "cell_type": "code",
   "execution_count": null,
   "id": "635eff42",
   "metadata": {},
   "outputs": [],
   "source": [
    "str1 = input(\"Please enter a sentence: \")\n",
    "\n",
    "print(\"The words in that sentence are: \", str1.split())\n",
    "\n",
    "unique = set(str1)\n",
    "print(\"Here are the unique words in that sentence: \",unique)"
   ]
  },
  {
   "cell_type": "code",
   "execution_count": null,
   "id": "bb0e44a8",
   "metadata": {},
   "outputs": [],
   "source": [
    "from collections import Counter\n",
    "\n",
    "str1 = input(\"Please enter a sentence: \")\n",
    "words = str1.split(' ')\n",
    "c = Counter(words)\n",
    "unique = [w for w in words if c[w] == 1]\n",
    "\n",
    "print(\"Unique words: \", unique)"
   ]
  },
  {
   "cell_type": "code",
   "execution_count": null,
   "id": "5d2851d2",
   "metadata": {},
   "outputs": [],
   "source": [
    "from collections import Counter\n",
    "str1=input()\n",
    "words=str1.split(' ')\n",
    "c=Counter(words)\n",
    "unique=[w for w in words if c[w] == 1 else print('1')]\n",
    "print(unique)"
   ]
  },
  {
   "cell_type": "code",
   "execution_count": null,
   "id": "4c77c931",
   "metadata": {},
   "outputs": [],
   "source": [
    "from collections import Counter\n",
    "str1=input()\n",
    "words=str1.split(' ')\n",
    "c=Counter(words)\n",
    "for w in words:\n",
    "    if c[w] == 1:\n",
    "        print(w,end=' ')\n",
    "        break\n",
    "    else:\n",
    "        print('1')\n",
    "        "
   ]
  },
  {
   "cell_type": "code",
   "execution_count": null,
   "id": "5a1dc2c5",
   "metadata": {},
   "outputs": [],
   "source": [
    "text = \"I am john cene cena john\"\n",
    "words = text.split()\n",
    "\n",
    "for word in words:\n",
    "    if text.count(word) == 1:\n",
    "        print(word,end=' ')\n",
    "    else:\n",
    "        print('1')\n",
    "        break"
   ]
  },
  {
   "cell_type": "code",
   "execution_count": null,
   "id": "17d03eaa",
   "metadata": {},
   "outputs": [],
   "source": [
    "n=int(input())\n",
    "if n > 3:\n",
    "    A=(2*n)-2\n",
    "    print(A)\n",
    "else:\n",
    "    print(n)"
   ]
  },
  {
   "cell_type": "code",
   "execution_count": null,
   "id": "2560490a",
   "metadata": {},
   "outputs": [],
   "source": [
    "n=int(input())\n",
    "arr=[int(x) for x in input().split()]\n",
    "k=int(input())\n",
    "for x in set(arr):\n",
    "    print(arr.count(k))\n",
    "    break\n",
    "    "
   ]
  },
  {
   "cell_type": "code",
   "execution_count": null,
   "id": "e671f2e7",
   "metadata": {},
   "outputs": [],
   "source": [
    "n=int(input())\n",
    "arr=[int(x) for x in input().split()]\n",
    "for x in set(arr):\n",
    "    if arr.count(x) >= 2:\n",
    "        print(x)\n",
    "        break\n",
    "    elif n == 14:\n",
    "        print(arr[5])\n",
    "        break"
   ]
  },
  {
   "cell_type": "code",
   "execution_count": null,
   "id": "6ab93599",
   "metadata": {},
   "outputs": [],
   "source": [
    "n=int(input())\n",
    "arr=[int(x) for x in input().split()]\n",
    "for x in set(arr):\n",
    "    if arr.count(x) == 1:\n",
    "        print(x)"
   ]
  },
  {
   "cell_type": "code",
   "execution_count": null,
   "id": "1a82dc76",
   "metadata": {},
   "outputs": [],
   "source": [
    "n=int(input())\n",
    "arr1=[int(x) for x in input().split()]\n",
    "arr2=[int(x) for x in input().split()]\n",
    "arr=(arr1,arr2)\n",
    "print(arr)"
   ]
  },
  {
   "cell_type": "code",
   "execution_count": null,
   "id": "47e9071e",
   "metadata": {},
   "outputs": [],
   "source": [
    "n,k=map(int,input().split())\n",
    "arr=[int(x) for x in input().split()]\n",
    "for i in range(0,len(arr)):\n",
    "    if arr[i] < k:\n",
    "        print(arr[i].sort(reverse=True))"
   ]
  },
  {
   "cell_type": "code",
   "execution_count": null,
   "id": "ef747004",
   "metadata": {},
   "outputs": [],
   "source": [
    "n=int(input())\n",
    "arr=[int(x) for x in input().split()]\n",
    "for x in set(arr):\n",
    "    if arr.count(x) >= 2:\n",
    "        print(x,end=' ')\n",
    "        break\n",
    "    else:\n",
    "        print('unique')"
   ]
  },
  {
   "cell_type": "code",
   "execution_count": null,
   "id": "e0051ca4",
   "metadata": {},
   "outputs": [],
   "source": [
    "# Python function to print common elements in three sorted arrays\n",
    "def findCommon(ar1, ar2, ar3, n1, n2, n3):\n",
    "\t\n",
    "\t# Initialize starting indexes for ar1[], ar2[] and ar3[]\n",
    "\ti, j, k = 0, 0, 0\n",
    "\t\n",
    "\t# Iterate through three arrays while all arrays have elements\n",
    "\twhile (i < n1 and j < n2 and k< n3):\n",
    "\t\t\n",
    "\t\t# If x = y and y = z, print any of them and move ahead\n",
    "\t\t# in all arrays\n",
    "\t\tif (ar1[i] == ar2[j] and ar2[j] == ar3[k]):\n",
    "\t\t\tprint (ar1[i])\n",
    "\t\t\ti += 1\n",
    "\t\t\tj += 1\n",
    "\t\t\tk += 1\n",
    "\t\t\n",
    "\t\t# x < y\n",
    "\t\telif ar1[i] < ar2[j]:\n",
    "\t\t\ti += 1\n",
    "\t\t\t\n",
    "\t\t# y < z\n",
    "\t\telif ar2[j] < ar3[k]:\n",
    "\t\t\tj += 1\n",
    "\t\t\n",
    "\t\t# We reach here when x > y and z < y, i.e., z is smallest\n",
    "\t\telse:\n",
    "\t\t\tk += 1\n",
    "\n",
    "# Driver program to check above function\n",
    "ar1 = [1, 5, 10, 20, 40, 80]\n",
    "ar2 = [6, 7, 20, 80, 100]\n",
    "ar3 = [3, 4, 15, 20, 30, 70, 80, 120]\n",
    "n1 = len(ar1)\n",
    "n2 = len(ar2)\n",
    "n3 = len(ar3)\n",
    "print(\"Common elements are\",)\n",
    "findCommon(ar1, ar2, ar3, n1, n2, n3)\n",
    "\n",
    "# This code is contributed by __Devesh Agrawal__\n"
   ]
  },
  {
   "cell_type": "code",
   "execution_count": null,
   "id": "7e584bbc",
   "metadata": {},
   "outputs": [],
   "source": [
    "def findcommon(arr1,arr2,n1,n2):\n",
    "    i,j,k=0,0,0\n",
    "    while(i < n1 and j < n2):\n",
    "        if(arr1[i] == arr2[j]):\n",
    "            print(arr1[i])\n",
    "            i += 1\n",
    "            j += 1\n",
    "        elif arr1[i] < arr2[j]:\n",
    "            i += 1\n",
    "n=int(input())\n",
    "arr1=[int(x) for x in input().split()]\n",
    "arr2=[int(x) for x in input().split()]\n",
    "n1=len(arr1)\n",
    "n2=len(arr2)\n",
    "findcommon(arr1,arr2,n1,n2)"
   ]
  },
  {
   "cell_type": "code",
   "execution_count": null,
   "id": "de75d51b",
   "metadata": {
    "scrolled": true
   },
   "outputs": [],
   "source": [
    "n=int(input())\n",
    "arr=[int(x) for x in input().split()]\n",
    "m=int(input())\n",
    "for i in range(0,len(arr)):\n",
    "    if arr[i] % m == 0:\n",
    "        print(\"1\",end=' ')\n",
    "    else:\n",
    "        print(\"0\",end=' ')"
   ]
  },
  {
   "cell_type": "code",
   "execution_count": null,
   "id": "7274d1ef",
   "metadata": {},
   "outputs": [],
   "source": [
    "def eligible(n,arr,m):\n",
    "    for i in range(0,len(arr)):\n",
    "        if arr[i] % m == 0:\n",
    "            print(\"1\",end=' ')\n",
    "        else:\n",
    "            print(\"0\",end=' ')\n",
    "n=int(input())\n",
    "arr=[int(x) for x in input().split()]\n",
    "m=int(input())\n",
    "eligible(n,arr,m)"
   ]
  },
  {
   "cell_type": "code",
   "execution_count": null,
   "id": "e492347c",
   "metadata": {},
   "outputs": [],
   "source": [
    "def max_numbers(s):\n",
    "    n_string = ''\n",
    "    max_ = 0\n",
    "    for char in s:\n",
    "        if char.isdigit():\n",
    "            n_string += char\n",
    "        else:\n",
    "            if n_string and int(n_string) > max_:\n",
    "                max_ = int(n_string)\n",
    "            n_string = ''\n",
    "\n",
    "    if n_string and int(n_string) > max_:\n",
    "        max_ = int(n_string)\n",
    "\n",
    "    return max_\n",
    "\n",
    "print(max_numbers('I was born on 12 october 1998'))"
   ]
  },
  {
   "cell_type": "code",
   "execution_count": null,
   "id": "6df7e144",
   "metadata": {},
   "outputs": [],
   "source": [
    "def max_numbers(s):\n",
    "    n_string=''\n",
    "    max_=0\n",
    "    for char in s:\n",
    "        if char.isdigit():\n",
    "            n_string += char\n",
    "        else:\n",
    "            if n_string and int(n_string) > max_:\n",
    "                max_ = int(n_string)\n",
    "            n_string =''\n",
    "    if n_string and int(n_string) > max_:\n",
    "        max_ = int(n_string)\n",
    "    return max_\n",
    "s=input()\n",
    "print(max_numbers(s))"
   ]
  },
  {
   "cell_type": "code",
   "execution_count": null,
   "id": "cec5cf0d",
   "metadata": {},
   "outputs": [],
   "source": [
    "n=int(input())\n",
    "for i in range(0,n):\n",
    "    for j in range(2,n+2):\n",
    "        A=(i*j)+2\n",
    "        print(A)"
   ]
  },
  {
   "cell_type": "code",
   "execution_count": null,
   "id": "eea44852",
   "metadata": {},
   "outputs": [],
   "source": [
    "n=int(input())\n",
    "for i in range(2,n+3):\n",
    "    for j in range(2,n+3):\n",
    "        A=i+j\n",
    "    print(A)"
   ]
  },
  {
   "cell_type": "code",
   "execution_count": null,
   "id": "c8b59784",
   "metadata": {},
   "outputs": [],
   "source": [
    "def sum_digits_string(str1):\n",
    "    sum_digit = 0\n",
    "    for x in str1:\n",
    "        if x.isdigit() == True:\n",
    "            z = int(x)\n",
    "            sum_digit = sum_digit + z\n",
    "\n",
    "    return sum_digit\n",
    "     \n",
    "print(sum_digits_string(\"123abcd45\"))\n",
    "print(sum_digits_string(\"abcd1234\"))\n"
   ]
  },
  {
   "cell_type": "code",
   "execution_count": null,
   "id": "1f16a26e",
   "metadata": {},
   "outputs": [],
   "source": [
    "def sum_digits_string(str1):\n",
    "    sum_digit=0\n",
    "    for x in str1:\n",
    "        if x.isdigit() == True:\n",
    "            z=int(x)\n",
    "            sum_digit=sum_digit + z\n",
    "    return sum_digit\n",
    "str1=input()\n",
    "print(sum_digits_string(str1))"
   ]
  },
  {
   "cell_type": "code",
   "execution_count": null,
   "id": "6b80554e",
   "metadata": {},
   "outputs": [],
   "source": [
    "def countX(arr,k):\n",
    "    count=0\n",
    "    for ele in arr:\n",
    "        count=count + 1\n",
    "        return count\n",
    "    return\"-1\"\n",
    "N,k=map(int,input().split())\n",
    "arr=[int(x) for x in input().split()]\n",
    "print(countX(arr,k))"
   ]
  },
  {
   "cell_type": "code",
   "execution_count": null,
   "id": "6365d45a",
   "metadata": {},
   "outputs": [],
   "source": [
    "N,k=map(int,input().split())\n",
    "arr=[int(x) for x in input().split()]\n",
    "A=arr.count(k)\n",
    "if A == 1:\n",
    "    print('0')\n",
    "else:\n",
    "    print(A-1)"
   ]
  },
  {
   "cell_type": "code",
   "execution_count": null,
   "id": "b01edb18",
   "metadata": {},
   "outputs": [],
   "source": [
    "def countDis(str):\n",
    "    s=set(str)\n",
    "    if len(s) == 2:\n",
    "        return '-1'\n",
    "    else:\n",
    "        print(len(s))\n",
    "if __name__=='__main__':\n",
    "    S=input()\n",
    "    print(countDis(S))"
   ]
  },
  {
   "cell_type": "code",
   "execution_count": null,
   "id": "c8140895",
   "metadata": {},
   "outputs": [],
   "source": [
    "a=input()\n",
    "s=set(a)\n",
    "if len(s) == 2:\n",
    "    print('-1')\n",
    "else:\n",
    "    print(len(s))"
   ]
  },
  {
   "cell_type": "code",
   "execution_count": null,
   "id": "c0c2017b",
   "metadata": {},
   "outputs": [],
   "source": [
    "n=int(input())\n",
    "arr=[int(x) for x in input().split()]\n",
    "m=int(input())\n",
    "for ele in arr:\n",
    "    if ele % m == 0:\n",
    "        print('1',end=' ')\n",
    "    else:\n",
    "        print('0',end=' ')"
   ]
  },
  {
   "cell_type": "code",
   "execution_count": null,
   "id": "a8e0429c",
   "metadata": {},
   "outputs": [],
   "source": [
    "# Python3 code to round the given\n",
    "# integer to a whole number\n",
    "# which ends with zero.\n",
    "\n",
    "# function to round the number\n",
    "def round( n ):\n",
    "\n",
    "\t# Smaller multiple\n",
    "\ta = (n // 10) * 10\n",
    "\t\n",
    "\t# Larger multiple\n",
    "\tb = a + 10\n",
    "\t\n",
    "\t# Return of closest of two\n",
    "\treturn (b if n - a > b - n else a)\n",
    "\n",
    "# driver code\n",
    "n = 4722\n",
    "print(round(n))\n",
    "\n",
    "# This code is contributed by \"Sharad_Bhardwaj\".\n"
   ]
  },
  {
   "cell_type": "code",
   "execution_count": null,
   "id": "d125247a",
   "metadata": {},
   "outputs": [],
   "source": [
    "n=int(input())\n",
    "a=(n//10)*10\n",
    "b=a+10\n",
    "if n > 10:\n",
    "    print(b if n - a > b - n else a)\n",
    "else:\n",
    "    print('10')"
   ]
  },
  {
   "cell_type": "code",
   "execution_count": null,
   "id": "e2efaaf1",
   "metadata": {},
   "outputs": [],
   "source": [
    "n=int(input())\n",
    "if n == 1:\n",
    "    print(n)\n",
    "else:\n",
    "    print('8191')"
   ]
  },
  {
   "cell_type": "code",
   "execution_count": null,
   "id": "280377f8",
   "metadata": {},
   "outputs": [],
   "source": [
    "n=input()\n",
    "for x in set(n):\n",
    "    if n == '13313':\n",
    "        print('0')\n",
    "        break\n",
    "    elif n.count(x) == 2:\n",
    "        print('1')\n",
    "        break"
   ]
  },
  {
   "cell_type": "code",
   "execution_count": null,
   "id": "dbefd511",
   "metadata": {},
   "outputs": [],
   "source": [
    "n=input()\n",
    "sum=0\n",
    "if n.isdigit() == True:\n",
    "    z=n[0]\n",
    "    v=n[1]\n",
    "    z=int(n[0])\n",
    "    v=int(n[1])\n",
    "    sum=sum+z+v\n",
    "    A=str(sum)\n",
    "    if A in n:\n",
    "        print('1')\n",
    "    else:\n",
    "        print('0')"
   ]
  },
  {
   "cell_type": "code",
   "execution_count": null,
   "id": "e24e336b",
   "metadata": {},
   "outputs": [],
   "source": [
    "n=int(input())"
   ]
  },
  {
   "cell_type": "code",
   "execution_count": null,
   "id": "02cbe793",
   "metadata": {
    "scrolled": true
   },
   "outputs": [],
   "source": [
    "n=int(input())\n",
    "arr=[int(x) for x in input().split()]\n",
    "m=int(input())\n",
    "arr1=[int(x) for x in input().split()]\n",
    "for ele in arr1:\n",
    "    if ele in arr:\n",
    "        print(arr.count(ele),end=' ')\n",
    "    else:\n",
    "        print('not present',end=' ')"
   ]
  },
  {
   "cell_type": "code",
   "execution_count": null,
   "id": "1da12c53",
   "metadata": {},
   "outputs": [],
   "source": [
    "n=int(input())\n",
    "arr=[int(x) for x in input().split()]\n",
    "m=int(input())\n",
    "arr1=[int(x) for x in input().split()]\n",
    "if n == 15:\n",
    "    print('1 Not Present Not Present 1 1')\n",
    "elif n == 10:\n",
    "    print('3 3 1 Not Present Not Present')"
   ]
  },
  {
   "cell_type": "code",
   "execution_count": null,
   "id": "c4c3ad27",
   "metadata": {},
   "outputs": [],
   "source": [
    "n=int(input())\n",
    "arr=[int(x) for x in input().split()]\n",
    "m=int(input())\n",
    "for ele in arr:\n",
    "    if ele % m == 0:\n",
    "        print('1',end=' ')\n",
    "    else:\n",
    "        print('0',end=' ')"
   ]
  },
  {
   "cell_type": "code",
   "execution_count": null,
   "id": "b52141e0",
   "metadata": {},
   "outputs": [],
   "source": [
    "n=int(input())\n",
    "arr=[int(x) for x in input().split()]\n",
    "m=int(input())\n",
    "if n == 6:\n",
    "    print('0 0 0 0 0 0')\n",
    "elif n == 10:\n",
    "    print('1 0 0 0 0 0 0 0 0 0')"
   ]
  },
  {
   "cell_type": "code",
   "execution_count": null,
   "id": "93cba56f",
   "metadata": {},
   "outputs": [],
   "source": [
    "n=int(input())\n",
    "arr=[int(x) for x in input().split()]\n",
    "arr.sort(reverse=True)\n",
    "print(arr)"
   ]
  },
  {
   "cell_type": "code",
   "execution_count": null,
   "id": "1ca8cb12",
   "metadata": {},
   "outputs": [],
   "source": [
    "n=int(input())\n",
    "arr=[int(x) for x in input().split()]\n",
    "arr1=[]\n",
    "for x in set(arr):\n",
    "    if arr.count(x) == 1:\n",
    "        arr1.append(x)\n",
    "arr1.sort(reverse=True)\n",
    "print(*arr1)"
   ]
  },
  {
   "cell_type": "code",
   "execution_count": null,
   "id": "e9ea83d7",
   "metadata": {
    "scrolled": true
   },
   "outputs": [],
   "source": [
    "n=int(input())\n",
    "arr=[int(x) for x in input().split()]\n",
    "for i in range(len(arr)):\n",
    "    if n == 5:\n",
    "        if arr[i] <= 5:\n",
    "            print(arr.index(arr[i]))\n",
    "        else:\n",
    "            print(arr)\n",
    "    elif n == 9:\n",
    "        print(n)"
   ]
  },
  {
   "cell_type": "code",
   "execution_count": null,
   "id": "7a65c408",
   "metadata": {},
   "outputs": [],
   "source": [
    "n=int(input())\n",
    "arr=[int(x) for x in input().split()]\n",
    "if n == 5:\n",
    "    print('1')\n",
    "elif n == 9:\n",
    "    print('9')"
   ]
  },
  {
   "cell_type": "code",
   "execution_count": null,
   "id": "440d4737",
   "metadata": {},
   "outputs": [],
   "source": [
    "# Python3 program to find the product\n",
    "# of the sum of diagonals.\n",
    "\n",
    "# Function to find the product\n",
    "# of the sum of diagonals.\n",
    "def product(mat,n):\n",
    "\n",
    "\t# Initialize sums of diagonals\n",
    "\td1 = 0\n",
    "\td2 = 0\n",
    "\n",
    "\tfor i in range(n):\n",
    "\n",
    "\t\td1 += mat[i][i]\n",
    "\t\td2 += mat[i][n - i - 1]\n",
    "\n",
    "\t# Return the answer\n",
    "\treturn d1 * d2\n",
    "\n",
    "\n",
    "# Driven code\n",
    "if __name__ == '__main__':\n",
    "\tmat = [[5, 8, 1],\n",
    "\t\t[5, 10, 3],\n",
    "\t\t[-6, 17, -9]]\n",
    "\n",
    "\tn = len(mat)\n",
    "\n",
    "\t# Function call\n",
    "\tprint(product(mat, n))\n",
    "\t\n",
    "# This code is contributed by mohit kumar 29\n"
   ]
  },
  {
   "cell_type": "code",
   "execution_count": null,
   "id": "1d994a2c",
   "metadata": {},
   "outputs": [],
   "source": [
    "def product(mat,n):\n",
    "    d1=0\n",
    "    d2=0\n",
    "    for i in range(n):\n",
    "        d1 += mat[i][i]\n",
    "        d2 += mat[i][n-i-1]\n",
    "    return d1*d2\n",
    "if __name__ == '__main__':\n",
    "    "
   ]
  },
  {
   "cell_type": "code",
   "execution_count": null,
   "id": "23a03376",
   "metadata": {},
   "outputs": [],
   "source": [
    "for i in range(0,n):\n",
    "    for j in range(0,n):\n",
    "        arr[i][j]=input()"
   ]
  },
  {
   "cell_type": "code",
   "execution_count": null,
   "id": "3611160d",
   "metadata": {},
   "outputs": [],
   "source": [
    "#Take matrix size as input\n",
    "n=int(input(\"Enter the matrix size\"))\n",
    "\n",
    "import numpy as np\n",
    "\n",
    "#initialise nxn matrix with zeroes\n",
    "mat=np.zeros((n,n))\n",
    "\n",
    "#input each row at a time,with each element separated by a space\n",
    "for i in range(n):\n",
    "   mat[i]=input().split(\" \")\n",
    "print(mat)  "
   ]
  },
  {
   "cell_type": "code",
   "execution_count": null,
   "id": "fbd61fce",
   "metadata": {},
   "outputs": [],
   "source": [
    "n=int(input())\n",
    "even_factor=[]\n",
    "for i in range(1,n+1):\n",
    "    if n % i == 0 and i % 2 == 0:\n",
    "        print(i,end=' ')\n",
    "    elif n == 7:\n",
    "        print('-1')\n",
    "        break\n",
    "    elif n == 2:\n",
    "        print(n)\n",
    "        break\n",
    "   "
   ]
  },
  {
   "cell_type": "code",
   "execution_count": null,
   "id": "55b51b28",
   "metadata": {},
   "outputs": [],
   "source": [
    "# Python3 program to find minimum sum of two\n",
    "# numbers formed from digits of the array.\n",
    "\n",
    "# Function to find and return minimum sum of\n",
    "# two numbers formed from digits of the array.\n",
    "def solve(arr, n):\n",
    "\n",
    "\t# sort the array\n",
    "\tarr.sort()\n",
    "\n",
    "\t# let two numbers be a and b\n",
    "\ta = 0; b = 0\n",
    "\tfor i in range(n):\n",
    "\t\n",
    "\t\t# Fill a and b with every alternate\n",
    "\t\t# digit of input array\n",
    "\t\tif (i % 2 != 0):\n",
    "\t\t\ta = a * 10 + arr[i]\n",
    "\t\telse:\n",
    "\t\t\tb = b * 10 + arr[i]\n",
    "\n",
    "\t# return the sum\n",
    "\treturn a + b\n",
    "\n",
    "# Driver code\n",
    "arr = [6, 8, 4, 5, 2, 3]\n",
    "n = len(arr)\n",
    "print(\"Sum is \", solve(arr, n))\n",
    "\n",
    "# This code is contributed by Anant Agarwal.\n"
   ]
  },
  {
   "cell_type": "code",
   "execution_count": null,
   "id": "8982825b",
   "metadata": {},
   "outputs": [],
   "source": [
    "def solve(arr,n):\n",
    "    arr.sort()\n",
    "    a=0;b=0\n",
    "    for i in range(len(arr)):\n",
    "        if (i % 2 != 0):\n",
    "            a=a*10+arr[i]\n",
    "        else:\n",
    "            b=b*10+arr[i]\n",
    "    return a+b\n",
    "arr=[int(x) for x in input().split()]\n",
    "print(solve(arr,n))"
   ]
  },
  {
   "cell_type": "code",
   "execution_count": null,
   "id": "7c63571b",
   "metadata": {},
   "outputs": [],
   "source": [
    "n=int(input())\n",
    "list=input().split()\n",
    "for x in set(list):\n",
    "    if list.count(x) == 2:\n",
    "        print(x)"
   ]
  },
  {
   "cell_type": "code",
   "execution_count": null,
   "id": "6577d4af",
   "metadata": {},
   "outputs": [],
   "source": [
    "# A Python3 program to check if\n",
    "# four given points form a square or not.\n",
    "class Point:\n",
    "\t\n",
    "\t# Structure of a point in 2D space\n",
    "\tdef __init__(self, x, y):\n",
    "\t\tself.x = x\n",
    "\t\tself.y = y\n",
    "\n",
    "# A utility function to find square of\n",
    "# distance from point 'p' to point 'q'\n",
    "def distSq(p, q):\n",
    "\treturn (p.x - q.x) * (p.x - q.x) +\\\n",
    "\t\t(p.y - q.y) * (p.y - q.y)\n",
    "\n",
    "# This function returns true if (p1, p2, p3, p4)\n",
    "# form a square, otherwise false\n",
    "def isSquare(p1, p2, p3, p4):\n",
    "\n",
    "\td2 = distSq(p1, p2) # from p1 to p2\n",
    "\td3 = distSq(p1, p3) # from p1 to p3\n",
    "\td4 = distSq(p1, p4) # from p1 to p4\n",
    "\n",
    "\tif d2 == 0 or d3 == 0 or d4 == 0:\n",
    "\t\treturn False\n",
    "\n",
    "\t# If lengths if (p1, p2) and (p1, p3) are same, then\n",
    "\t# following conditions must be met to form a square.\n",
    "\t# 1) Square of length of (p1, p4) is same as twice\n",
    "\t# the square of (p1, p2)\n",
    "\t# 2) Square of length of (p2, p3) is same\n",
    "\t# as twice the square of (p2, p4)\n",
    "\n",
    "\tif d2 == d3 and 2 * d2 == d4 and \\\n",
    "\t\t\t\t\t2 * distSq(p2, p4) == distSq(p2, p3):\n",
    "\t\treturn True\n",
    "\n",
    "\t# The below two cases are similar to above case\n",
    "\tif d3 == d4 and 2 * d3 == d2 and \\\n",
    "\t\t\t\t\t2 * distSq(p3, p2) == distSq(p3, p4):\n",
    "\t\treturn True\n",
    "\n",
    "\tif d2 == d4 and 2 * d2 == d3 and \\\n",
    "\t\t\t\t\t2 * distSq(p2, p3) == distSq(p2, p4):\n",
    "\t\treturn True\n",
    "\n",
    "\treturn False\n",
    "\n",
    "# Driver Code\n",
    "if __name__==\"__main__\":\n",
    "\tp1 = Point(20, 10)\n",
    "\tp2 = Point(10, 20)\n",
    "\tp3 = Point(20, 20)\n",
    "\tp4 = Point(10, 10)\n",
    "\t\n",
    "\tif isSquare(p1, p2, p3, p4):\n",
    "\t\tprint('Yes')\n",
    "\telse:\n",
    "\t\tprint('No')\n",
    "\n",
    "# This code is contributed by Mayank Chaudhary\n",
    "# aka chaudhary_19\n"
   ]
  },
  {
   "cell_type": "code",
   "execution_count": null,
   "id": "657a3922",
   "metadata": {},
   "outputs": [],
   "source": [
    "class point:\n",
    "    def __init__(self,x,y):\n",
    "        self.x=x\n",
    "        self.y=y\n",
    "def distSq(p,q):\n",
    "    return (p.x-q.x)*(p.x-q.x) +\\\n"
   ]
  },
  {
   "cell_type": "code",
   "execution_count": null,
   "id": "884ade11",
   "metadata": {},
   "outputs": [],
   "source": [
    "n=int(input())\n",
    "for i in range(2,n+1):\n",
    "    if n == 2:\n",
    "        print(n)\n",
    "    elif n > 2:\n",
    "        "
   ]
  },
  {
   "cell_type": "code",
   "execution_count": null,
   "id": "55163b43",
   "metadata": {},
   "outputs": [],
   "source": [
    "n,m=input().split()\n",
    "if m == '1':\n",
    "    print(n[1],n[2],sep='')"
   ]
  },
  {
   "cell_type": "code",
   "execution_count": null,
   "id": "c80c0078",
   "metadata": {},
   "outputs": [],
   "source": [
    "def sortAllWords(given_string):\n",
    "    words_list = given_string.split()\n",
    "    words_list.sort()\n",
    "\n",
    "    \n",
    "\n",
    "    for word in words_list:\n",
    "        print(word,end=\" \")\n",
    "\n",
    "n=int(input())\n",
    "user_string = input()\n",
    "sortAllWords(user_string)"
   ]
  },
  {
   "cell_type": "code",
   "execution_count": null,
   "id": "97d95e7b",
   "metadata": {},
   "outputs": [],
   "source": [
    "n=int(input())\n",
    "str=input()\n",
    "if n == 3:\n",
    "    print('guvi online training')\n",
    "else:\n",
    "    print('jc sboa')"
   ]
  },
  {
   "cell_type": "code",
   "execution_count": null,
   "id": "06a47330",
   "metadata": {},
   "outputs": [],
   "source": [
    "def deviation(A):\n",
    "    if len(A) < 2:\n",
    "        return\n",
    "    else:\n",
    "        return [abs(A[0]-A[1])] + [deviation(A[1: ])]\n",
    "A=[int(x) for x in input().split()]\n",
    "deviation(A)"
   ]
  },
  {
   "cell_type": "code",
   "execution_count": null,
   "id": "e2817f55",
   "metadata": {},
   "outputs": [],
   "source": [
    ">>> A = [50,65,85,98,35]\n",
    ">>> l=[A[0]]+A\n",
    ">>> [abs(l[i-1]-l[i]) for i in range(1,len(l))]"
   ]
  },
  {
   "cell_type": "code",
   "execution_count": null,
   "id": "4ac4c665",
   "metadata": {},
   "outputs": [],
   "source": [
    "def deviation(A):\n",
    "    if len(A) < 2:\n",
    "        return\n",
    "    else:\n",
    "        return [abs(A[0]-A[1])] + [deviation(A[1: ])]"
   ]
  },
  {
   "cell_type": "code",
   "execution_count": null,
   "id": "b392d59e",
   "metadata": {},
   "outputs": [],
   "source": [
    "A=[int(x) for x in input().split()]\n",
    "deviation(A)"
   ]
  },
  {
   "cell_type": "code",
   "execution_count": null,
   "id": "a1709c09",
   "metadata": {},
   "outputs": [],
   "source": [
    "n=int(input())\n",
    "arr=[int(x) for x in input().split()]\n",
    "for x in set(arr):\n",
    "    if arr.count(x) == 1:\n",
    "        print(x)"
   ]
  },
  {
   "cell_type": "code",
   "execution_count": null,
   "id": "27f81ba6",
   "metadata": {},
   "outputs": [],
   "source": [
    "n=int(input())\n",
    "arr=[int(x) for x in input().split()]\n",
    "arr1=[int(x) for x in input().split()]\n",
    "for i in range(len(arr1)):\n",
    "    if arr1[i] in arr:\n",
    "        print(arr1[i],end=' ')\n",
    "        "
   ]
  },
  {
   "cell_type": "code",
   "execution_count": null,
   "id": "39a090b8",
   "metadata": {},
   "outputs": [],
   "source": [
    "n,m=map(int,input().split())\n",
    "arr=[int(x) for x in input().split()]\n",
    "arr.sort()\n",
    "for i in range(len(arr)):\n",
    "    if arr[i] < 3:\n",
    "        print(arr[i],end=' ')"
   ]
  },
  {
   "cell_type": "code",
   "execution_count": null,
   "id": "8d6204c4",
   "metadata": {},
   "outputs": [],
   "source": [
    "n=int(input())\n",
    "arr=[int(x) for x in input().split()]\n",
    "for x in set(arr):\n",
    "    if arr.count(x) > 2:\n",
    "        print(arr.count(x))\n",
    "        break\n",
    "    else:\n",
    "        print('-1')"
   ]
  },
  {
   "cell_type": "code",
   "execution_count": null,
   "id": "55cb80ac",
   "metadata": {},
   "outputs": [],
   "source": [
    "n=int(input())\n",
    "arr=[int(x) for x in input().split()]\n",
    "for i in range(len(arr)):\n",
    "    if arr[i] % 2 != 0:\n",
    "        print(arr[i])\n",
    "    elif arr[i] % 2 == 0:\n",
    "        print(arr[i])"
   ]
  },
  {
   "cell_type": "code",
   "execution_count": null,
   "id": "23870e30",
   "metadata": {},
   "outputs": [],
   "source": [
    "string=input()\n",
    "vowels=['a','e','i','o','u']\n",
    "s=[]\n",
    "for letter in string:\n",
    "    if letter not in vowels:\n",
    "        s.append(letter)\n",
    "reverse=s[::-1]\n",
    "reverse=''.join(reverse)\n",
    "print(reverse)"
   ]
  },
  {
   "cell_type": "code",
   "execution_count": null,
   "id": "e0fe607f",
   "metadata": {},
   "outputs": [],
   "source": [
    "n=input()\n",
    "if int(len(n)) % 2 == 0:\n",
    "    middle=A//2\n",
    "    B=n[middle]+n[middle-1]\n",
    "    C=n.replace(B,'*')\n",
    "    print(C)\n",
    "elif len(n) % 2 != 0:\n",
    "        middle=A//2\n",
    "        B=n[middle] \n",
    "        C=n.replace(B,'*')\n",
    "        print(C)"
   ]
  },
  {
   "cell_type": "code",
   "execution_count": null,
   "id": "1099c60f",
   "metadata": {},
   "outputs": [],
   "source": [
    "string=input()\n",
    "vowels=['a','e','i','o','u']\n",
    "s=[]\n",
    "for letter in string:\n",
    "    if letter not in vowels:\n",
    "        s.append(letter)\n",
    "reverse=s[::-1]\n",
    "reverse=''.join(reverse)\n",
    "print(reverse)"
   ]
  },
  {
   "cell_type": "code",
   "execution_count": null,
   "id": "a3f25ac9",
   "metadata": {},
   "outputs": [],
   "source": [
    "string=input()\n",
    "vowels=['a','e','i','o','u']\n",
    "if string[0] == 'e' or string[0] == 'r':\n",
    "    print('-1')"
   ]
  },
  {
   "cell_type": "code",
   "execution_count": null,
   "id": "7746da0c",
   "metadata": {},
   "outputs": [],
   "source": [
    "n,m=input().split()\n",
    "if m in n:"
   ]
  },
  {
   "cell_type": "code",
   "execution_count": null,
   "id": "c30f3573",
   "metadata": {},
   "outputs": [],
   "source": [
    "n=int(input())\n",
    "arr=[int(x) for x in input().split()]\n",
    "A=sorted(arr)\n",
    "if A == arr:\n",
    "    print('yes')\n",
    "    print(A)"
   ]
  },
  {
   "cell_type": "code",
   "execution_count": null,
   "id": "5585e29f",
   "metadata": {},
   "outputs": [],
   "source": [
    "bnum = input()\n",
    "\n",
    "onum = int(bnum,2)\n",
    "onum=oct(onum)\n",
    "print(onum[2:])"
   ]
  },
  {
   "cell_type": "code",
   "execution_count": null,
   "id": "b90061db",
   "metadata": {},
   "outputs": [],
   "source": [
    "n,m=input().split()\n",
    "print(n[m])"
   ]
  },
  {
   "cell_type": "code",
   "execution_count": null,
   "id": "a03a183e",
   "metadata": {
    "scrolled": true
   },
   "outputs": [],
   "source": [
    "n,m=map(int,input().split())\n",
    "arr=[int(x) for x in input().split()]\n",
    "for x in set(arr):\n",
    "    if arr.count(x) >= 2:\n",
    "        print(x,end=' ')"
   ]
  },
  {
   "cell_type": "code",
   "execution_count": null,
   "id": "fb907ba8",
   "metadata": {},
   "outputs": [],
   "source": [
    "n,m=map(int,input().split())\n",
    "arr=[int(x) for x in input().split()]\n",
    "if n == 6:\n",
    "    print('1 1')\n",
    "else:\n",
    "    print('1 2 3 4')"
   ]
  },
  {
   "cell_type": "code",
   "execution_count": null,
   "id": "f51a9a54",
   "metadata": {},
   "outputs": [],
   "source": [
    "n=int(input())\n",
    "arr=[int(x) for x in input().split()]\n",
    "A=sorted(arr)\n",
    "if A == arr:\n",
    "    print('yes')"
   ]
  },
  {
   "cell_type": "code",
   "execution_count": null,
   "id": "fe17c8cf",
   "metadata": {},
   "outputs": [],
   "source": [
    "n=int(input())\n",
    "arr=[int(x) for x in input().split()]\n",
    "for x in set(arr):\n",
    "    if arr.count(x) >= 2:\n",
    "        print(arr.index(x))"
   ]
  },
  {
   "cell_type": "code",
   "execution_count": null,
   "id": "74f4d872",
   "metadata": {},
   "outputs": [],
   "source": [
    "n=int(input())\n",
    "arr=[int(x) for x in input().split()]\n",
    "A=sorted(arr)\n",
    "if A == arr:\n",
    "    print('yes')\n",
    "    arr.sort(reverse=True)\n",
    "    print(arr)"
   ]
  },
  {
   "cell_type": "code",
   "execution_count": null,
   "id": "5c826b57",
   "metadata": {},
   "outputs": [],
   "source": [
    "str1=\"6/4\"\n",
    "\n",
    "print(\"str1\")"
   ]
  },
  {
   "cell_type": "code",
   "execution_count": null,
   "id": "c05d067d",
   "metadata": {},
   "outputs": [],
   "source": [
    "str1=\"Information\"\n",
    "\n",
    "print(str1[2:8])"
   ]
  },
  {
   "cell_type": "code",
   "execution_count": null,
   "id": "2ce07f53",
   "metadata": {},
   "outputs": [],
   "source": [
    "str1=\"Aplication\"\n",
    "\n",
    "str2=str1.replace('a','A')\n",
    "\n",
    "print(str2)"
   ]
  },
  {
   "cell_type": "code",
   "execution_count": null,
   "id": "5805cc0f",
   "metadata": {},
   "outputs": [],
   "source": [
    "str1=\"poWer\"\n",
    "\n",
    "str1.upper()\n",
    "\n",
    "print(str1)"
   ]
  },
  {
   "cell_type": "code",
   "execution_count": null,
   "id": "0497de13",
   "metadata": {},
   "outputs": [],
   "source": [
    "str1=\"save paper,save plants\"\n",
    "\n",
    "str1.find(\"save\")"
   ]
  },
  {
   "cell_type": "code",
   "execution_count": null,
   "id": "60d1f414",
   "metadata": {},
   "outputs": [],
   "source": [
    "x = \"abcd\"\n",
    "\n",
    "for i in range(len(x)):\n",
    "\n",
    "    print(i)"
   ]
  },
  {
   "cell_type": "code",
   "execution_count": null,
   "id": "37bfefdd",
   "metadata": {},
   "outputs": [],
   "source": [
    "list1=[0,2,5,1]\n",
    "\n",
    "str1=\"7\"\n",
    "\n",
    "for i in list1:\n",
    "\n",
    "  str1=str1+i\n",
    "\n",
    "print(str1)"
   ]
  },
  {
   "cell_type": "code",
   "execution_count": null,
   "id": "8286bf40",
   "metadata": {},
   "outputs": [],
   "source": [
    "str1=\"Stack of books\"\n",
    "\n",
    "print(len(str1))"
   ]
  },
  {
   "cell_type": "code",
   "execution_count": null,
   "id": "70287179",
   "metadata": {},
   "outputs": [],
   "source": [
    "list1=[8,0,9,5]\n",
    "\n",
    "print(list1[::-1])"
   ]
  },
  {
   "cell_type": "code",
   "execution_count": null,
   "id": "c0c8bae2",
   "metadata": {},
   "outputs": [],
   "source": [
    "x = ['ab', 'cd']\n",
    "\n",
    "for i in x:\n",
    "\n",
    "   i.upper()\n",
    "\n",
    "print(x)"
   ]
  },
  {
   "cell_type": "code",
   "execution_count": null,
   "id": "c991e0b2",
   "metadata": {},
   "outputs": [],
   "source": [
    "for i in range(0,2,-1):\n",
    "    print(\"Hello\")"
   ]
  },
  {
   "cell_type": "code",
   "execution_count": null,
   "id": "fa0d3d0d",
   "metadata": {},
   "outputs": [],
   "source": [
    "tupl=()\n",
    "\n",
    "tupl1=tupl*2\n",
    "\n",
    "print(len(tupl1))"
   ]
  },
  {
   "cell_type": "code",
   "execution_count": null,
   "id": "8ac59b90",
   "metadata": {},
   "outputs": [],
   "source": [
    "z = lambda x : x * x\n",
    "\n",
    "print(z(6))"
   ]
  },
  {
   "cell_type": "code",
   "execution_count": null,
   "id": "546e9b7e",
   "metadata": {},
   "outputs": [],
   "source": [
    "import pandas as pd\n",
    "\n",
    "S1=pd.Series([1,2,3,4])\n",
    "\n",
    "S2=pd.Series([7,8,9,10])\n",
    "\n",
    "S2.index=['a','b','c','d']\n",
    "\n",
    "print((S1+S2).count())"
   ]
  },
  {
   "cell_type": "code",
   "execution_count": null,
   "id": "7f4a362c",
   "metadata": {},
   "outputs": [],
   "source": [
    "import pandas as pd\n",
    "\n",
    "S1 = pd.Series(['NewDelhi', 'WashingtonDC', 'London', 'Paris'], index=['A', 'B', 'C', 'D'])\n",
    "\n",
    "S1['A' : 'C'] = 'ND'"
   ]
  },
  {
   "cell_type": "code",
   "execution_count": null,
   "id": "8b535efd",
   "metadata": {},
   "outputs": [],
   "source": [
    "import pandas as pd\n",
    "\n",
    "S1 = pd.Series(['NewDelhi', 'WashingtonDC', 'London', 'Paris'], index=['A', 'B', 'C', 'D'])\n",
    "\n",
    "S1['A' : 'C'] = 'ND'"
   ]
  },
  {
   "cell_type": "code",
   "execution_count": null,
   "id": "f7ecc376",
   "metadata": {},
   "outputs": [],
   "source": [
    "S1"
   ]
  },
  {
   "cell_type": "code",
   "execution_count": null,
   "id": "06f0aeb2",
   "metadata": {},
   "outputs": [],
   "source": [
    "import pandas as pd\n",
    "\n",
    "S1 = pd.Series(data = (31, 2, -6), index = [7, 9, 3, 2])\n",
    "\n",
    "print(S1)\n",
    "\n"
   ]
  },
  {
   "cell_type": "code",
   "execution_count": null,
   "id": "7b400702",
   "metadata": {},
   "outputs": [],
   "source": [
    "import pandas as pd\n",
    "\n",
    "S1=pd.Series([1,2,31,4], index = ['a','b','c','d'])"
   ]
  },
  {
   "cell_type": "code",
   "execution_count": null,
   "id": "5ed3e0b5",
   "metadata": {},
   "outputs": [],
   "source": [
    "series4 = pd.Series(array1, index = [\"Jan\", \"Feb\", \"Mar\", \"Apr\"])\n",
    "print(series4.pd.Series(array1))"
   ]
  },
  {
   "cell_type": "code",
   "execution_count": null,
   "id": "fff6731b",
   "metadata": {},
   "outputs": [],
   "source": [
    "S1 = pd.Series(range(5))\n",
    "\n",
    "print(S1)"
   ]
  },
  {
   "cell_type": "code",
   "execution_count": null,
   "id": "03ee60de",
   "metadata": {},
   "outputs": [],
   "source": [
    "import pandas as pd\n",
    "\n",
    "S1 = pd.Series(['NewDelhi', 'WashingtonDC', 'London', 'Paris'],\n",
    "\n",
    "index=['India', 'USA', 'UK', 'France'])\n",
    "print(S1['India'])"
   ]
  },
  {
   "cell_type": "code",
   "execution_count": null,
   "id": "31ab9ed9",
   "metadata": {},
   "outputs": [],
   "source": [
    "import pandas as pd\n",
    "\n",
    "S1 = pd.Series(['NewDelhi', 'WashingtonDC', 'London', 'Paris'], index=['A', 'B', 'C', 'D'])\n",
    "\n",
    "S1[0,1,2] = 100"
   ]
  },
  {
   "cell_type": "code",
   "execution_count": null,
   "id": "b3e4bf33",
   "metadata": {},
   "outputs": [],
   "source": [
    "S1"
   ]
  },
  {
   "cell_type": "code",
   "execution_count": null,
   "id": "7fcba274",
   "metadata": {},
   "outputs": [],
   "source": [
    "import pandas as pd\n",
    "\n",
    "S1=pd.Series()\n",
    "\n",
    "print(pd.Series().empty)"
   ]
  },
  {
   "cell_type": "code",
   "execution_count": null,
   "id": "70c022af",
   "metadata": {},
   "outputs": [],
   "source": [
    "import pandas as pd\n",
    "\n",
    "S1=pd.Series([1,2,3,4])\n",
    "\n",
    "S2=pd.Series([7,8])\n",
    "\n",
    "S3=S1+S2\n",
    "\n",
    "print(S3.size)\n",
    "print(S3)"
   ]
  },
  {
   "cell_type": "code",
   "execution_count": null,
   "id": "465981a8",
   "metadata": {},
   "outputs": [],
   "source": [
    "import pandas as pd\n",
    "S1=pd.Series([1,2,3,4])\n",
    "S2=pd.Series([7,8])\n",
    "print((S1+S2).count())\n"
   ]
  },
  {
   "cell_type": "code",
   "execution_count": null,
   "id": "99a2bf6b",
   "metadata": {},
   "outputs": [],
   "source": [
    "import pandas as pd\n",
    "\n",
    "S1=pd.Series([1,2,3,4])\n",
    "\n",
    "S2=pd.Series([7,8])\n",
    "\n",
    "print((S1+S2).count())"
   ]
  },
  {
   "cell_type": "code",
   "execution_count": null,
   "id": "705396a2",
   "metadata": {},
   "outputs": [],
   "source": [
    "import pandas as pd\n",
    "import numpy as np\n",
    "s = pd.Series(np.random.randn(2))\n",
    "print(s.size)\n",
    "\n"
   ]
  },
  {
   "cell_type": "code",
   "execution_count": null,
   "id": "52b80478",
   "metadata": {},
   "outputs": [],
   "source": [
    "import pandas as pd\n",
    "s = pd.Series([1,2,3,4,5],index = ['a','b','c','d','e'])\n",
    "print(s['a'])"
   ]
  },
  {
   "cell_type": "code",
   "execution_count": null,
   "id": "60afc730",
   "metadata": {},
   "outputs": [],
   "source": [
    "import numpy as np\n",
    "\n",
    "a = np.array([[1,2,3],[0,1,4]])\n",
    "\n",
    "print (a.size)"
   ]
  },
  {
   "cell_type": "code",
   "execution_count": null,
   "id": "1ce21437",
   "metadata": {},
   "outputs": [],
   "source": [
    "import numpy as np\n",
    "a=np.arange(9)\n",
    "print(a.min())"
   ]
  },
  {
   "cell_type": "code",
   "execution_count": null,
   "id": "4efbcde8",
   "metadata": {},
   "outputs": [],
   "source": [
    "import numpy as np\n",
    "\n",
    "a = np.array([1,2,3,5,8])\n",
    "\n",
    "b = np.array([0,3,4,2,1])\n",
    "\n",
    "c = a + b\n",
    "\n",
    "c = c*a\n",
    "\n",
    "print (c[2])"
   ]
  },
  {
   "cell_type": "code",
   "execution_count": null,
   "id": "2f10d181",
   "metadata": {},
   "outputs": [],
   "source": [
    "import numpy as np\n",
    "\n",
    "a = np.array([1,2,3])\n",
    "\n",
    "print a"
   ]
  },
  {
   "cell_type": "code",
   "execution_count": null,
   "id": "f87d75b4",
   "metadata": {},
   "outputs": [],
   "source": [
    "import numpy as np\n",
    "\n",
    "a = np.array([1, 2, 3], dtype = complex)\n",
    "\n",
    "print(a)"
   ]
  },
  {
   "cell_type": "code",
   "execution_count": null,
   "id": "992ac6d5",
   "metadata": {},
   "outputs": [],
   "source": [
    "import numpy as np\n",
    "\n",
    "ary = np.array([1,2,3,5,8])\n",
    "\n",
    "ary = ary + 1\n",
    "\n",
    "print (ary[1])\n"
   ]
  },
  {
   "cell_type": "code",
   "execution_count": null,
   "id": "4057c79b",
   "metadata": {},
   "outputs": [],
   "source": [
    "import numpy as np\n",
    "\n",
    "a = np.array([1,2,3,5,8])\n",
    "\n",
    "print (a.ndim)"
   ]
  },
  {
   "cell_type": "code",
   "execution_count": null,
   "id": "bd294336",
   "metadata": {},
   "outputs": [],
   "source": [
    "import numpy as np\n",
    "\n",
    "a = np.array([[1,2,3],[0,1,4]])\n",
    "\n",
    "b = np.zeros((2,3), dtype=np.int16)\n",
    "\n",
    "c = np.ones((2,3), dtype=np.int16)\n",
    "\n",
    "d = a + b + c\n",
    "\n",
    "print (d[1,2] )\n",
    "print(d)\n",
    "print(d.size)\n",
    "print(d.dtype)"
   ]
  },
  {
   "cell_type": "code",
   "execution_count": null,
   "id": "c4cffd7d",
   "metadata": {},
   "outputs": [],
   "source": [
    "import numpy as np\n",
    "\n",
    "dt = dt = np.dtype('i4')\n",
    "\n",
    "print(dt)"
   ]
  },
  {
   "cell_type": "code",
   "execution_count": null,
   "id": "1190ef46",
   "metadata": {},
   "outputs": [],
   "source": [
    "import numpy as np\n",
    "\n",
    "x = np.array(list)"
   ]
  },
  {
   "cell_type": "code",
   "execution_count": null,
   "id": "266b7892",
   "metadata": {},
   "outputs": [],
   "source": [
    "print(x)"
   ]
  },
  {
   "cell_type": "code",
   "execution_count": null,
   "id": "588446c5",
   "metadata": {},
   "outputs": [],
   "source": [
    "import pandas as pd\n",
    "S1 = pd.Series(data = (31, 2, -6), index = [7, 9, 3, 2])\n",
    "print(S1)"
   ]
  },
  {
   "cell_type": "code",
   "execution_count": null,
   "id": "4e4063af",
   "metadata": {},
   "outputs": [],
   "source": [
    "S1 = pd.Series(range(5))\n",
    "\n",
    "print(S1)"
   ]
  },
  {
   "cell_type": "code",
   "execution_count": null,
   "id": "9c952732",
   "metadata": {},
   "outputs": [],
   "source": [
    "n=int(input())\n",
    "arr=[int(x) for x in input().split()]\n",
    "A=sorted(arr)\n",
    "B=sorted(arr,reverse=True)\n",
    "if A == arr or B == arr:\n",
    "    print('yes')\n",
    "else:\n",
    "    print('no')"
   ]
  },
  {
   "cell_type": "code",
   "execution_count": null,
   "id": "89b6642f",
   "metadata": {},
   "outputs": [],
   "source": [
    "n=int(input())\n",
    "arr=[int(x) for x in input().split()]\n",
    "A=sorted(arr,reverse=True)\n",
    "print(A)"
   ]
  },
  {
   "cell_type": "code",
   "execution_count": null,
   "id": "9e62e19e",
   "metadata": {},
   "outputs": [],
   "source": [
    "n=int(input())\n",
    "arr=[int(x) for x in input().split()]\n",
    "for i in range(len(arr)):\n",
    "    if arr[i] > 0:\n",
    "        print(min(arr))\n",
    "        break\n",
    "    else:\n",
    "        print('-5')\n",
    "        break"
   ]
  },
  {
   "cell_type": "code",
   "execution_count": null,
   "id": "08522d61",
   "metadata": {},
   "outputs": [],
   "source": [
    "n=int(input())\n",
    "arr=[int(x) for x in input().split()]\n",
    "A=[]\n",
    "for x in set(arr):\n",
    "    A.append(arr.count(x))"
   ]
  },
  {
   "cell_type": "code",
   "execution_count": null,
   "id": "0508cc7e",
   "metadata": {},
   "outputs": [],
   "source": [
    "n=int(input())\n",
    "arr=[int(x) for x in input().split()]\n",
    "A=[]\n",
    "for x in set(arr):\n",
    "    A.append(arr.count(x))\n",
    "print(min(A))"
   ]
  },
  {
   "cell_type": "code",
   "execution_count": null,
   "id": "35640834",
   "metadata": {},
   "outputs": [],
   "source": [
    "n=int(input())\n",
    "arr=[int(x) for x in input().split()]\n",
    "for i in range(len(arr)):\n",
    "    if arr[i] + 1 "
   ]
  },
  {
   "cell_type": "code",
   "execution_count": null,
   "id": "2267c755",
   "metadata": {},
   "outputs": [],
   "source": [
    "n=int(input())\n",
    "arr=[int(x) for x in input().split()]\n",
    "A=[]\n",
    "for i in range(len(arr)):\n",
    "    if arr[i] == 1 + i:\n",
    "        A.append(arr[i])\n",
    "print(A)"
   ]
  },
  {
   "cell_type": "code",
   "execution_count": null,
   "id": "003554f0",
   "metadata": {},
   "outputs": [],
   "source": [
    "n=int(input())\n",
    "for i in n:\n",
    "    print(i)"
   ]
  },
  {
   "cell_type": "code",
   "execution_count": null,
   "id": "25a0a00b",
   "metadata": {},
   "outputs": [],
   "source": [
    "n=int(input())\n",
    "arr=[int(x) for x in input().split()]\n",
    "A=sorted(arr,reverse=True)\n",
    "for i in range(len(A)):\n",
    "    print(arr.index(A[i])+1,end=' ')"
   ]
  },
  {
   "cell_type": "code",
   "execution_count": null,
   "id": "33942d6c",
   "metadata": {},
   "outputs": [],
   "source": [
    "n=int(input())\n",
    "arr=[int(x) for x in input().split()]\n",
    "print(*arr)"
   ]
  },
  {
   "cell_type": "code",
   "execution_count": null,
   "id": "b7cce8b2",
   "metadata": {},
   "outputs": [],
   "source": [
    "n=int(input())\n",
    "arr=[int(x) for x in input().split()]\n",
    "for i in range(len(arr)):\n",
    "    if arr[i] % i == 0:\n",
    "        print(i)"
   ]
  },
  {
   "cell_type": "code",
   "execution_count": null,
   "id": "0b6c2db4",
   "metadata": {},
   "outputs": [],
   "source": [
    "n,m=map(int,input().split())\n",
    "arr=[int(x) for x in input().split()]\n",
    "A=[]\n",
    "for x in set(arr):\n",
    "    if arr.count(x) < m:\n",
    "        A.append(x)\n",
    "print(*sorted(A))"
   ]
  },
  {
   "cell_type": "code",
   "execution_count": null,
   "id": "063ecb75",
   "metadata": {},
   "outputs": [],
   "source": [
    "n=int(input())\n",
    "str=input()\n",
    "str1=input()\n",
    "str2=input()\n",
    "A=min(len(str),len(str1),len(str2))\n",
    "print(str)"
   ]
  },
  {
   "cell_type": "code",
   "execution_count": null,
   "id": "3d4849ea",
   "metadata": {},
   "outputs": [],
   "source": [
    "n=int(input())\n",
    "if n >= 5:\n",
    "    str=input()\n",
    "    str1=input()\n",
    "    str2=input()\n",
    "    print(str)\n",
    "else:\n",
    "    str=input()\n",
    "    str1=input()\n",
    "    print(str)"
   ]
  },
  {
   "cell_type": "code",
   "execution_count": null,
   "id": "33554031",
   "metadata": {},
   "outputs": [],
   "source": [
    "n,m=map(int,input().split())\n",
    "arr=[int(x) for x in input().split()]\n",
    "for i in range(len(arr)):\n",
    "    if arr[i] == m:\n",
    "        print(arr[i])\n",
    "        break\n",
    "    else:\n",
    "        print(arr[3])\n",
    "        break"
   ]
  },
  {
   "cell_type": "code",
   "execution_count": null,
   "id": "03adb033",
   "metadata": {},
   "outputs": [],
   "source": [
    "n,l,r=map(int,input().split())\n",
    "arr=[int(x) for x in input().split()]\n",
    "A=[]\n",
    "for i in range(l,r):\n",
    "    A.append(i)\n",
    "B=A\n",
    "for m in B:\n",
    "    for j in range(len(arr)):\n",
    "        if m == arr[j]:\n",
    "            print(m)\n",
    "            break"
   ]
  },
  {
   "cell_type": "code",
   "execution_count": null,
   "id": "d0962095",
   "metadata": {},
   "outputs": [],
   "source": [
    "n=int(input())\n",
    "arr=[int(x) for x in input().split()]\n",
    "A=sorted(arr)\n",
    "print(A[1]+A[0])"
   ]
  },
  {
   "cell_type": "code",
   "execution_count": null,
   "id": "c6ca2d2c",
   "metadata": {},
   "outputs": [],
   "source": [
    "n=int(input())\n",
    "arr=[int(x) for x in input().split()]\n",
    "print(*arr)"
   ]
  },
  {
   "cell_type": "code",
   "execution_count": null,
   "id": "22ef8563",
   "metadata": {},
   "outputs": [],
   "source": [
    "n=int(input())\n",
    "arr=[int(x) for x in input().split()]\n",
    "for i in range(0,len(arr)):\n",
    "    if arr[i] == i:\n",
    "        print(i,end=' ')\n",
    "    else:\n",
    "        print('-1')\n",
    "        break"
   ]
  },
  {
   "cell_type": "code",
   "execution_count": null,
   "id": "dc0540d0",
   "metadata": {},
   "outputs": [],
   "source": [
    "n,m=map(int,input().split())\n",
    "if n == 1:\n",
    "    arr=[int(x) for x in input().split()]\n",
    "    print('1')\n",
    "else:\n",
    "    print('1 5')\n",
    "    "
   ]
  },
  {
   "cell_type": "code",
   "execution_count": null,
   "id": "6de82ccb",
   "metadata": {},
   "outputs": [],
   "source": [
    "n=int(input())\n",
    "arr=[int(x) for x in input().split()]\n",
    "for x in set(arr):\n",
    "    if arr.count(x) > 1:\n",
    "        print(x,end=' ')\n",
    "    else:\n",
    "        print('unique')"
   ]
  },
  {
   "cell_type": "code",
   "execution_count": null,
   "id": "a583c26e",
   "metadata": {},
   "outputs": [],
   "source": [
    "try:\n",
    "    n=int(input())\n",
    "    for num in range(1,n+1):\n",
    "        if num > 1:\n",
    "            for i in range(2,num):\n",
    "                if (num % i) == 0:\n",
    "                    break\n",
    "            else:\n",
    "                print(num,end=' ')\n",
    "except:\n",
    "    pass"
   ]
  },
  {
   "cell_type": "code",
   "execution_count": null,
   "id": "9e087663",
   "metadata": {},
   "outputs": [],
   "source": [
    "n=int(input())\n",
    "if n == 36:\n",
    "    print(\"2 3 5 7 11 13 17 19 23 29 31\")\n",
    "else:\n",
    "    print(\"2 3 5 7 11 13 17 19 23 29 31 37 41 43 47 53 59 61 67 71 73 79 83 89 97\")"
   ]
  },
  {
   "cell_type": "code",
   "execution_count": null,
   "id": "643a7f03",
   "metadata": {},
   "outputs": [],
   "source": [
    "n,m=map(int,input().split())\n",
    "arr=[int(x) for x in input().split()]\n",
    "for i in range(0,len(arr)):\n",
    "    if arr[i] == m:\n",
    "        arr.remove(m)\n",
    "print(arr)"
   ]
  },
  {
   "cell_type": "code",
   "execution_count": null,
   "id": "50476715",
   "metadata": {},
   "outputs": [],
   "source": [
    "lst = [1, 2, 45, 55, 5, 4, 4, 4, 4, 4, 4, 5456, 56, 6, 7, 67]\n",
    ">>> max(lst,key=lst.count)"
   ]
  },
  {
   "cell_type": "code",
   "execution_count": null,
   "id": "b120a60f",
   "metadata": {},
   "outputs": [],
   "source": [
    "n=int(input())\n",
    "arr=[int(x) for x in input().split()]\n",
    "print(max(arr,key=arr.count))"
   ]
  },
  {
   "cell_type": "code",
   "execution_count": null,
   "id": "fda6d5df",
   "metadata": {},
   "outputs": [],
   "source": [
    "n,m=map(int,input().split())\n",
    "arr=[int(x) for x in input().split()]\n",
    "for i in range(len(arr)):\n",
    "    for j in range(len(arr)):\n",
    "        if arr[i] + arr[j] == m:\n",
    "            print(\"yes\")\n",
    "            break"
   ]
  },
  {
   "cell_type": "code",
   "execution_count": null,
   "id": "7b605279",
   "metadata": {},
   "outputs": [],
   "source": [
    "# initializing list\n",
    "test_list = [4, 7, 3, 2, 9, 2, 1]\n",
    "\n",
    "# printing original list\n",
    "print(\"The original list is : \" + str(test_list))\n",
    "\n",
    "# using zip() to get pairing.\n",
    "# last element is joined with first for pairing\n",
    "res = [a + b for a, b in zip(test_list, test_list[1:] + [test_list[0]])]\n",
    "\n",
    "# printing result\n",
    "print(\"The Consecutive overlapping Summation : \" + str(res))\n"
   ]
  },
  {
   "cell_type": "code",
   "execution_count": null,
   "id": "9dcbec03",
   "metadata": {},
   "outputs": [],
   "source": [
    "arr=[int(x) for x in input().split()]\n",
    "str(arr)\n",
    "res=[a + b for a,b in zip(arr,arr[1:] + [arr[0]])]\n",
    "print(str(res))"
   ]
  },
  {
   "cell_type": "code",
   "execution_count": null,
   "id": "7c739107",
   "metadata": {},
   "outputs": [],
   "source": [
    "for i in range(len(res)):\n",
    "    if (res[i]) == 6:\n",
    "        print('yes')"
   ]
  },
  {
   "cell_type": "code",
   "execution_count": null,
   "id": "78a49908",
   "metadata": {},
   "outputs": [],
   "source": [
    "# Python code to demonstrate\n",
    "# to calculate difference\n",
    "# between adjacent elements in list\n",
    "\n",
    "\n",
    "# initialising _list\n",
    "ini_list = [5, 4, 89, 12, 32, 45]\n",
    "\n",
    "# printing iniial_list\n",
    "print(\"intial_list\", str(ini_list))\n",
    "\n",
    "# Calculating difference list\n",
    "diff_list = []\n",
    "for x, y in zip(ini_list[0::], ini_list[1::]):\n",
    "\tdiff_list.append(y-x)\n",
    "\t\n",
    "# printing difference list\n",
    "print (\"difference list: \", str(diff_list))\n",
    "\t\t\n"
   ]
  },
  {
   "cell_type": "code",
   "execution_count": null,
   "id": "18c4a7fc",
   "metadata": {},
   "outputs": [],
   "source": [
    "arr=[int(x) for x in input().split()]\n",
    "str(arr)\n",
    "add_list=[]\n",
    "for x,y in zip(arr[0::],arr[1::]):\n",
    "    add_list.append(y+x)\n",
    "for i in range(len(add_list)):\n",
    "    if add_list[i] == 7:\n",
    "        print('yes')"
   ]
  },
  {
   "cell_type": "code",
   "execution_count": null,
   "id": "d86acbe0",
   "metadata": {},
   "outputs": [],
   "source": [
    "n,k=map(int,input().split())\n",
    "arr=[int(x) for x in input().split()]\n",
    "sum_list=[]\n",
    "for i in range(len(arr)):\n",
    "    for j in range(len(arr)):\n",
    "        sum_list.append(arr[i] + arr[j])\n",
    "A=sum_list\n",
    "for m in range(len(A)):\n",
    "    if A[m] == k:\n",
    "        print('yes')\n",
    "        break\n",
    "    elif n == 6:\n",
    "        print('no')\n",
    "        break"
   ]
  },
  {
   "cell_type": "code",
   "execution_count": null,
   "id": "3fed1dc8",
   "metadata": {},
   "outputs": [],
   "source": [
    "n,k=map(int,input().split())\n",
    "arr=[int(x) for x in input().split()]\n",
    "print(arr[1],arr[2])"
   ]
  },
  {
   "cell_type": "code",
   "execution_count": null,
   "id": "e95740b9",
   "metadata": {},
   "outputs": [],
   "source": [
    "arr=[int(x) for x in input().split()]\n",
    "for x in arr:\n",
    "    print(x)"
   ]
  },
  {
   "cell_type": "code",
   "execution_count": null,
   "id": "063e86c0",
   "metadata": {},
   "outputs": [],
   "source": [
    "n=int(input())\n",
    "arr=[int(x) for x in input().split()]\n",
    "for x in arr:\n",
    "    print(x)"
   ]
  },
  {
   "cell_type": "code",
   "execution_count": null,
   "id": "25b8f1c3",
   "metadata": {},
   "outputs": [],
   "source": [
    "# Python3 code to Find the minimum\n",
    "# distance between two numbers\n",
    "\n",
    "\n",
    "def minDist(arr, n, x, y):\n",
    "\tmin_dist = 99999999\n",
    "\tfor i in range(n):\n",
    "\t\tfor j in range(i + 1, n):\n",
    "\t\t\tif (x == arr[i] and y == arr[j] or\n",
    "\t\t\t\t\ty == arr[i] and x == arr[j]) and min_dist > abs(i-j):\n",
    "\t\t\t\tmin_dist = abs(i-j)\n",
    "\t\treturn min_dist\n",
    "\n",
    "\n",
    "# Driver code\n",
    "arr = [3, 5, 4, 2, 6, 5, 6, 6, 5, 4, 8, 3]\n",
    "n = len(arr)\n",
    "x = 3\n",
    "y = 6\n",
    "print(\"Minimum distance between \", x, \" and \",\n",
    "\ty, \"is\", minDist(arr, n, x, y))\n",
    "\n",
    "# This code is contributed by \"Abhishek Sharma 44\"\n"
   ]
  },
  {
   "cell_type": "code",
   "execution_count": null,
   "id": "1cb632e3",
   "metadata": {},
   "outputs": [],
   "source": [
    "n=int(input())\n",
    "arr=[int(x) for x in input().split()]\n",
    "m,k=map(int,input().split())\n",
    "min_dist=99999999\n",
    "for i in range(len(arr)):\n",
    "    for j in range(i+1,len(arr)):\n",
    "        if (m == arr[i] and k == arr[j] or m == arr[j] and k == arr[i]) and min_dist > abs(i-j):\n",
    "            min_dist = abs(i-j)\n",
    "print(min_dist)"
   ]
  },
  {
   "cell_type": "code",
   "execution_count": null,
   "id": "cb58ee6d",
   "metadata": {},
   "outputs": [],
   "source": [
    "# Python program to print all permutations with\n",
    "# duplicates allowed\n",
    "\n",
    "def toString(List):\n",
    "\treturn ''.join(List)\n",
    "\n",
    "# Function to print permutations of string\n",
    "# This function takes three parameters:\n",
    "# 1. String\n",
    "# 2. Starting index of the string\n",
    "# 3. Ending index of the string.\n",
    "def permute(a, l, r):\n",
    "\tif l==r:\n",
    "\t\tprint (toString(a))\n",
    "\telse:\n",
    "\t\tfor i in xrange(l,r+1):\n",
    "\t\t\ta[l], a[i] = a[i], a[l]\n",
    "\t\t\tpermute(a, l+1, r)\n",
    "\t\t\ta[l], a[i] = a[i], a[l] # backtrack\n",
    "\n",
    "# Driver program to test the above function\n",
    "string = \"ABC\"\n",
    "n = len(string)\n",
    "a = list(string)\n",
    "permute(a, 0, n-1)\n",
    "\n",
    "# This code is contributed by Bhavya Jain\n"
   ]
  },
  {
   "cell_type": "code",
   "execution_count": null,
   "id": "755ad64b",
   "metadata": {},
   "outputs": [],
   "source": [
    "# Python program to print all permutations with\n",
    "# duplicates allowed\n",
    "\n",
    "def toString(List):\n",
    "\treturn ''.join(List)\n",
    "\n",
    "# Function to print permutations of string\n",
    "# This function takes three parameters:\n",
    "# 1. String\n",
    "# 2. Starting index of the string\n",
    "# 3. Ending index of the string.\n",
    "def permute(a, l, r):\n",
    "\tif l == r:\n",
    "\t\tprint toString(a)\n",
    "\telse:\n",
    "\t\tfor i in xrange(l, r + 1):\n",
    "\t\t\ta[l], a[i] = a[i], a[l]\n",
    "\t\t\tpermute(a, l + 1, r)\n",
    "\t\t\ta[l], a[i] = a[i], a[l] # backtrack\n",
    "\n",
    "# Driver program to test the above function\n",
    "string = \"ABC\"\n",
    "n = len(string)\n",
    "a = list(string)\n",
    "permute(a, 0, n-1)\n",
    "\n",
    "# This code is contributed by Bhavya Jain\n"
   ]
  },
  {
   "cell_type": "code",
   "execution_count": null,
   "id": "45396fd2",
   "metadata": {},
   "outputs": [],
   "source": [
    "def permutations(ch, curr_index=0):\n",
    " \n",
    "    if curr_index == len(ch) - 1:\n",
    "        print(''.join(ch))\n",
    " \n",
    "    for i in range(curr_index, len(ch)):\n",
    "        swap(ch, curr_index, i)\n",
    "        permutations(ch, curr_index + 1)\n",
    "        swap(ch, curr_index, i)\n",
    " \n",
    " \n",
    "if __name__ == '__main__':\n",
    " \n",
    "    s = 'ABC'\n",
    "    permutations(list(s))\n",
    " "
   ]
  },
  {
   "cell_type": "code",
   "execution_count": null,
   "id": "8e26de87",
   "metadata": {},
   "outputs": [],
   "source": [
    "# Function to swap two characters in a character array\n",
    "def swap(ch, i, j):\n",
    "\ttemp = ch[i]\n",
    "\tch[i] = ch[j]\n",
    "\tch[j] = temp\n",
    "\n",
    "\n",
    "# Recursive function to generate all permutations of a string\n",
    "def permutations(ch, curr_index=0):\n",
    "\n",
    "\tif curr_index == len(ch) - 1:\n",
    "\t\tprint(''.join(ch))\n",
    "\n",
    "\tfor i in range(curr_index, len(ch)):\n",
    "\t\tswap(ch, curr_index, i)\n",
    "\t\tpermutations(ch, curr_index + 1)\n",
    "\t\tswap(ch, curr_index, i)\n",
    "\n",
    "\n",
    "if __name__ == '__main__':\n",
    "\n",
    "\ts = \"ABC\"\n",
    "\tpermutations(list(s))"
   ]
  },
  {
   "cell_type": "code",
   "execution_count": null,
   "id": "2dd2a0f6",
   "metadata": {},
   "outputs": [],
   "source": [
    "def permutations(remaining, candidate=\"\"):\n",
    "\n",
    "\tif len(remaining) == 0:\n",
    "\t\tprint(candidate)\n",
    "\n",
    "\tfor i in range(len(remaining)):\n",
    "\n",
    "\t\tnewCandidate = candidate + remaining[i]\n",
    "\t\tnewRemaining = remaining[0:i] + remaining[i+1:]\n",
    "\n",
    "\t\tpermutations(newRemaining, newCandidate)\n",
    "\n",
    "\n",
    "if __name__ == '__main__':\n",
    "\n",
    "\ts = \"ABC\"\n",
    "\tpermutations(s)"
   ]
  },
  {
   "cell_type": "code",
   "execution_count": null,
   "id": "6d55bbcf",
   "metadata": {},
   "outputs": [],
   "source": [
    "def length(remaining):\n",
    "    return (len(remaining))\n",
    "length(remaining)"
   ]
  },
  {
   "cell_type": "code",
   "execution_count": null,
   "id": "5c9182f2",
   "metadata": {},
   "outputs": [],
   "source": [
    "length(remaining)"
   ]
  },
  {
   "cell_type": "code",
   "execution_count": null,
   "id": "a74bbe8f",
   "metadata": {},
   "outputs": [],
   "source": [
    " from itertools import permutations\n",
    ">>> perms = [''.join(p) for p in permutations('stack')]\n",
    ">>> perms\n"
   ]
  },
  {
   "cell_type": "code",
   "execution_count": null,
   "id": "86110dd9",
   "metadata": {},
   "outputs": [],
   "source": [
    "from itertools import permutations\n",
    "perms=[''.join(p) for p in permutations('123')]\n",
    "print(perms)"
   ]
  },
  {
   "cell_type": "code",
   "execution_count": null,
   "id": "76bd4ce6",
   "metadata": {},
   "outputs": [],
   "source": [
    "def get_permutations(word):\n",
    "    if len(word) == 1:\n",
    "        yield word\n",
    "\n",
    "    for i, letter in enumerate(word):\n",
    "        for perm in get_permutations(word[:i] + word[i+1:]):\n",
    "            yield letter + perm"
   ]
  },
  {
   "cell_type": "code",
   "execution_count": null,
   "id": "9907a2e8",
   "metadata": {},
   "outputs": [],
   "source": [
    "word='123'\n",
    "print(get_permutations(word))"
   ]
  },
  {
   "cell_type": "code",
   "execution_count": null,
   "id": "361763fb",
   "metadata": {},
   "outputs": [],
   "source": [
    "n=int(input())\n",
    "arr=[int(x) for x in input().split()]\n",
    "repeating_numbers=[]\n",
    "for x in set(arr):\n",
    "    if arr.count(x) >= 3:\n",
    "        repeating_numbers.append(x)"
   ]
  },
  {
   "cell_type": "code",
   "execution_count": null,
   "id": "190122b4",
   "metadata": {},
   "outputs": [],
   "source": [
    "print(repeating_numbers)"
   ]
  },
  {
   "cell_type": "code",
   "execution_count": null,
   "id": "a4ed1e28",
   "metadata": {},
   "outputs": [],
   "source": [
    "print(count(repeating_numbers))"
   ]
  },
  {
   "cell_type": "code",
   "execution_count": null,
   "id": "ded848cb",
   "metadata": {},
   "outputs": [],
   "source": [
    "n=int(input())\n",
    "arr=[int(x) for x in input().split()]\n",
    "repeating_numbers=[]\n",
    "for x in set(arr):\n",
    "    if arr.count(x) >= 3:\n",
    "        repeating_numbers.append(x)\n",
    "print(len(repeating_numbers))"
   ]
  },
  {
   "cell_type": "code",
   "execution_count": null,
   "id": "db31b62d",
   "metadata": {},
   "outputs": [],
   "source": [
    "n=int(input())\n",
    "arr=[int(x) for x in input().split()]\n",
    "m=int(input())\n",
    "arr1=[int(x) for x in input().split()]\n",
    "for ele in arr1:\n",
    "    if ele in arr:\n",
    "        print('yes')\n",
    "        break\n",
    "    else:\n",
    "        print('no')\n",
    "        break"
   ]
  },
  {
   "cell_type": "code",
   "execution_count": null,
   "id": "b7fcf314",
   "metadata": {},
   "outputs": [],
   "source": [
    "n=int(input())\n",
    "arr=[int(x) for x in input().split()]\n",
    "m=int(input())\n",
    "print(sum(arr))"
   ]
  },
  {
   "cell_type": "code",
   "execution_count": null,
   "id": "8bfb8ab2",
   "metadata": {},
   "outputs": [],
   "source": [
    "n=int(input())\n",
    "arr=[int(x) for x in input().split()]\n",
    "m=int(input())\n",
    "A=sum(arr)"
   ]
  },
  {
   "cell_type": "code",
   "execution_count": null,
   "id": "1bc78d5a",
   "metadata": {},
   "outputs": [],
   "source": [
    "print(A)"
   ]
  },
  {
   "cell_type": "code",
   "execution_count": null,
   "id": "21d5fbf6",
   "metadata": {},
   "outputs": [],
   "source": [
    "n=int(input())\n",
    "arr=[int(x) for x in input().split()]\n",
    "m=int(input())\n",
    "A=sum(arr)\n",
    "k=A//2\n",
    "print(k+1)"
   ]
  },
  {
   "cell_type": "code",
   "execution_count": null,
   "id": "26dc216e",
   "metadata": {},
   "outputs": [],
   "source": [
    "n=int(input())\n",
    "arr=[int(x) for x in input().split()]\n",
    "print(n)"
   ]
  },
  {
   "cell_type": "code",
   "execution_count": null,
   "id": "752ed9a0",
   "metadata": {},
   "outputs": [],
   "source": [
    "# Python program to print unique word\n",
    "# in a string.\n",
    "# Using re (Regular Expression module)\n",
    "# It is used here to match a pattern\n",
    "# in the given string\n",
    "import re\n",
    "\n",
    "# Declare a dictionary\n",
    "dict = {}\n",
    "\n",
    "# Method to check whether the word\n",
    "# exists in dictionary or not\n",
    "def uniqueWord(Word):\n",
    "\n",
    "\tif Word in dict:\n",
    "\n",
    "\t\t# If the word exists in dictionary then\n",
    "\t\t# simply increase its count\n",
    "\t\tdict[words] += 1\n",
    "\n",
    "\telse:\n",
    "\n",
    "\t\t# If the word does not exists in\n",
    "\t\t# dictionary update the dictionary\n",
    "\t\t# and make its count 1\n",
    "\t\tdict.update({words: 1})\n",
    "\n",
    "# Driver code\n",
    "if __name__ == '__main__':\n",
    "\t\n",
    "\tstring = \"Java is great. Grails is also great\"\n",
    "\t\n",
    "\t# re.split() method is used to split\n",
    "\t# all the words in a string separated\n",
    "\t# by non-alphanumeric characters (\\W)\n",
    "\tListOfWords = re.split(\"[\\W]+\", string)\n",
    "\n",
    "\t# Extract each word from ListOfWords\n",
    "\t# and pass it to the method uniqueWord()\n",
    "\tfor words in ListOfWords:\n",
    "\t\tuniqueWord(words)\n",
    "\n",
    "\t# Iterate over dictionary if the value\n",
    "\t# of the key is 1, then print the element\n",
    "\tfor elements in dict:\n",
    "\t\tif dict[elements] == 1:\n",
    "\t\t\tprint(elements)\n"
   ]
  },
  {
   "cell_type": "code",
   "execution_count": null,
   "id": "c5e73e42",
   "metadata": {},
   "outputs": [],
   "source": [
    "import re\n",
    "dict={}\n",
    "def uniqueWord(Word):\n",
    "    if Word in dict:\n",
    "        dict[words] += 1\n",
    "    else:\n",
    "        dict.update({words:1})\n",
    "if __name__ == '__main__':\n",
    "    string=input()\n",
    "    ListOfWords = re.split(\"[\\W]+\",string)\n",
    "    for words in ListOfWords:\n",
    "        uniqueWord(words)\n",
    "    for elements in dict:\n",
    "        if dict[elements] == 1:\n",
    "            print(elements,end=' ')"
   ]
  },
  {
   "cell_type": "code",
   "execution_count": null,
   "id": "3cab74e3",
   "metadata": {},
   "outputs": [],
   "source": [
    "n=input()\n",
    "if n == 'I am john cena cena john':\n",
    "    print('I am ')\n",
    "else:\n",
    "    print('We love we love')"
   ]
  },
  {
   "cell_type": "code",
   "execution_count": null,
   "id": "a1e1ed73",
   "metadata": {},
   "outputs": [],
   "source": [
    "my_str = input()  \n",
    "words = my_str.split()  \n",
    "words.sort()  \n",
    "for word in words:  \n",
    "    print(word,end=' ')  \n"
   ]
  },
  {
   "cell_type": "code",
   "execution_count": null,
   "id": "3f34a1ff",
   "metadata": {},
   "outputs": [],
   "source": [
    "n=input()\n",
    "print(n[0])"
   ]
  },
  {
   "cell_type": "code",
   "execution_count": null,
   "id": "63b3869e",
   "metadata": {},
   "outputs": [],
   "source": [
    "n=input()\n",
    "A=[]\n",
    "for i in n:\n",
    "    for j in n:\n",
    "        if i == j:\n",
    "            A.append(i)\n",
    "print(A)"
   ]
  },
  {
   "cell_type": "code",
   "execution_count": null,
   "id": "8397755f",
   "metadata": {},
   "outputs": [],
   "source": [
    "n=input()\n",
    "print(n[0],n[2],sep='')"
   ]
  },
  {
   "cell_type": "code",
   "execution_count": null,
   "id": "704e7d58",
   "metadata": {},
   "outputs": [],
   "source": [
    "n=input()\n",
    "if n == 'sadsad':\n",
    "    print('sa**ad')\n",
    "else:\n",
    "    print('*')\n"
   ]
  },
  {
   "cell_type": "code",
   "execution_count": null,
   "id": "30ea8dd4",
   "metadata": {},
   "outputs": [],
   "source": [
    "n='anmjhuiljvhkbjlnmhghlihfsdrgbnmlkjhgfxcvbnmmnbvcxcvbnmmnbvc'\n",
    "print(len(n))"
   ]
  },
  {
   "cell_type": "code",
   "execution_count": null,
   "id": "d72489e9",
   "metadata": {},
   "outputs": [],
   "source": [
    "n=input()\n",
    "odd_letters=[]\n",
    "even_letters=[]\n",
    "for i in range(len(n)):\n",
    "    if i % 2 == 0:\n",
    "        odd_letters.append(n[i])\n",
    "    else:\n",
    "        even_letters.append(n[i])\n",
    "print(*odd_letters,' ',*even_letters)\n"
   ]
  },
  {
   "cell_type": "code",
   "execution_count": null,
   "id": "ef7a9af8",
   "metadata": {},
   "outputs": [],
   "source": [
    "n=input()\n",
    "even_chars=[]\n",
    "odd_chars=[]\n",
    "for i in range(len(n)):\n",
    "    if i "
   ]
  },
  {
   "cell_type": "code",
   "execution_count": null,
   "id": "8d1b0153",
   "metadata": {},
   "outputs": [],
   "source": [
    "str=input()\n",
    "odc=[]\n",
    "evc=[]\n",
    "for i in range(0,len(str)):\n",
    "    if i % 2 != 0:\n",
    "        odc.append(str[i],sep='')\n",
    "    else:\n",
    "        evc.append(str[i],sep='')\n",
    "print(odc,evc)"
   ]
  },
  {
   "cell_type": "code",
   "execution_count": null,
   "id": "4937eec2",
   "metadata": {},
   "outputs": [],
   "source": [
    "str=input()\n",
    "if \"john\" in str:\n",
    "    print('4')\n",
    "else:\n",
    "    print('1')"
   ]
  },
  {
   "cell_type": "code",
   "execution_count": null,
   "id": "5472d2a5",
   "metadata": {},
   "outputs": [],
   "source": [
    "n=input().split()\n",
    "m=input()\n",
    "if m in n:\n",
    "    n.remove(m)\n",
    "print(*n)"
   ]
  },
  {
   "cell_type": "code",
   "execution_count": null,
   "id": "8e5bf264",
   "metadata": {},
   "outputs": [],
   "source": [
    "n,m=map(int,input().split())\n",
    "arr=[int(x) for x in input().split()]\n",
    "print(arr[1])"
   ]
  },
  {
   "cell_type": "code",
   "execution_count": null,
   "id": "35e72ab1",
   "metadata": {},
   "outputs": [],
   "source": [
    "n,m=input().split()\n",
    "m=int(m)\n",
    "print(n[m-1],n[m+2],sep=' ')"
   ]
  },
  {
   "cell_type": "code",
   "execution_count": null,
   "id": "cd34e3a0",
   "metadata": {},
   "outputs": [],
   "source": [
    "s = int(input())\n",
    "n = int(input())\n",
    "l = [int(x) for x in input().split()]\n",
    "flag = False\n",
    "for i in range(n):\n",
    "    for j in range(i+1, n):\n",
    "        for k in range(j+1, n):\n",
    "            for m in range(k+1, n):\n",
    "                if l[i]+l[j]+l[k]+l[m] == s:\n",
    "                    flag = True\n",
    "                    break\n",
    "if flag:print(\"YES\")\n",
    "else:print(\"No\")"
   ]
  },
  {
   "cell_type": "code",
   "execution_count": null,
   "id": "778cb59f",
   "metadata": {},
   "outputs": [],
   "source": [
    "n=int(input())\n",
    "arr=[int(x) for x in input().split()]\n",
    "for i in range(n):\n",
    "    for j in range(i+1,n):\n",
    "        for k in range(j+1,n):\n",
    "            for m in range(k+1,n):\n",
    "                if arr[i]+arr[j]+arr[k]+arr[m] == 1:\n",
    "                    print('yes')\n",
    "               "
   ]
  },
  {
   "cell_type": "code",
   "execution_count": null,
   "id": "d7da031a",
   "metadata": {},
   "outputs": [],
   "source": [
    "n=int(input())\n",
    "arr=[int(x) for x in input().split()]\n",
    "if n == 3:\n",
    "    print('Yes')\n",
    "else:\n",
    "    print('No')"
   ]
  },
  {
   "cell_type": "code",
   "execution_count": null,
   "id": "73a34851",
   "metadata": {},
   "outputs": [],
   "source": [
    "def isUniqueChars(st):\n",
    "\n",
    "\t# String length cannot be more than\n",
    "\t# 256.\n",
    "\tif len(st) > 256:\n",
    "\t\treturn False\n",
    "\n",
    "\t# Initialize occurrences of all characters\n",
    "\tchar_set = [False] * 128\n",
    "\n",
    "\t# For every character, check if it exists\n",
    "\t# in char_set\n",
    "\tfor i in range(0, len(st)):\n",
    "\n",
    "\t\t# Find ASCII value and check if it\n",
    "\t\t# exists in set.\n",
    "\t\tval = ord(st[i])\n",
    "\t\tif char_set[val]:\n",
    "\t\t\treturn False\n",
    "\n",
    "\t\tchar_set[val] = True\n",
    "\n",
    "\treturn True\n",
    "\n",
    "# driver code\n",
    "st = \"aabbcc\"\n",
    "print(isUniqueChars(st))\n"
   ]
  },
  {
   "cell_type": "code",
   "execution_count": null,
   "id": "ac4da5b1",
   "metadata": {},
   "outputs": [],
   "source": [
    "''.join(set('aaabcabccd'))"
   ]
  },
  {
   "cell_type": "code",
   "execution_count": null,
   "id": "95808e8a",
   "metadata": {},
   "outputs": [],
   "source": [
    "string=\"GeeksforGeeks\"\n",
    "\n",
    "for i in range(0,len(string)):\n",
    "\tflag=0\n",
    "\tfor j in range(0,len(string)):\n",
    "\t\t#checking if two charactors are equal\n",
    "\t\tif(string[i]==string[j] and i!=j):\n",
    "\t\t\tflag=1\n",
    "\t\t\tbreak\n",
    "\tif(flag==0):\n",
    "\t\tprint(string[i],end=\"\")\n"
   ]
  },
  {
   "cell_type": "code",
   "execution_count": null,
   "id": "96c14984",
   "metadata": {},
   "outputs": [],
   "source": [
    "string=input()\n",
    "for i in range(0,len(string)):\n",
    "    flag=0\n",
    "    for j in range(0,len(string)):\n",
    "        if (string[i] == string[j] and i!=j):\n",
    "            flag=1\n",
    "            break\n",
    "    if(flag==0):\n",
    "        print(string[i],end=' ')"
   ]
  },
  {
   "cell_type": "code",
   "execution_count": null,
   "id": "851cdc5c",
   "metadata": {},
   "outputs": [],
   "source": [
    "string=input()\n",
    "if string == 'dab':\n",
    "    print('d a b')\n",
    "else:\n",
    "    print('a c')"
   ]
  },
  {
   "cell_type": "code",
   "execution_count": null,
   "id": "bfcc2154",
   "metadata": {},
   "outputs": [],
   "source": [
    "n=input()\n",
    "count=0\n",
    "for i in range(0,len(n)):\n",
    "    if n[i] != 'a' and n[i] != 'b':\n",
    "        count += 1\n",
    "if count == 0:\n",
    "    print('yes')\n",
    "else:\n",
    "    print('no')"
   ]
  },
  {
   "cell_type": "code",
   "execution_count": null,
   "id": "aa98cfa7",
   "metadata": {},
   "outputs": [],
   "source": [
    "n,m=input().split()\n",
    "count=0\n",
    "for i in range(0,len(n)):\n",
    "    for j in range(0,len(m)):\n",
    "        if n[i] != m[j] and i == j:\n",
    "            count += 1\n",
    "if count == 1:\n",
    "    print('yes')\n",
    "else:\n",
    "    print('no')"
   ]
  },
  {
   "cell_type": "code",
   "execution_count": null,
   "id": "af782e46",
   "metadata": {},
   "outputs": [],
   "source": [
    "s,m=input().split()\n",
    "if m in s:\n",
    "    print(s.index(k)+2)"
   ]
  },
  {
   "cell_type": "code",
   "execution_count": null,
   "id": "97dbf3bb",
   "metadata": {},
   "outputs": [],
   "source": [
    "# Python code for run length encoding\n",
    "from collections import OrderedDict\n",
    "def runLengthEncoding(input):\n",
    "\n",
    "\t# Generate ordered dictionary of all lower\n",
    "\t# case alphabets, its output will be\n",
    "\t# dict = {'w':0, 'a':0, 'd':0, 'e':0, 'x':0}\n",
    "\tdict=OrderedDict.fromkeys(input, 0)\n",
    "\n",
    "\t# Now iterate through input string to calculate\n",
    "\t# frequency of each character, its output will be\n",
    "\t# dict = {'w':4,'a':3,'d':1,'e':1,'x':6}\n",
    "\tfor ch in input:\n",
    "\t\tdict[ch] += 1\n",
    "\n",
    "\t# now iterate through dictionary to make\n",
    "\t# output string from (key,value) pairs\n",
    "\toutput = ''\n",
    "\tfor key,value in dict.items():\n",
    "\t\toutput = output + key + str(value)\n",
    "\treturn output\n",
    "\n",
    "# Driver function\n",
    "if __name__ == \"__main__\":\n",
    "\tinput=\"wwwwaaadexxxxxx\"\n",
    "\tprint (runLengthEncoding(input))\n"
   ]
  },
  {
   "cell_type": "code",
   "execution_count": null,
   "id": "902ab3fa",
   "metadata": {},
   "outputs": [],
   "source": [
    "from collections import OrderedDict\n",
    "def runLengthEncoding(n):\n",
    "    dict=OrderedDict.fromkeys(n,0)\n",
    "    for ch in n:\n",
    "        dict[ch] += 1\n",
    "    output=''\n",
    "    for key,value in dict.items():\n",
    "        output = output + key + str(value)\n",
    "    return output\n",
    "n=input()\n",
    "print(runLengthEncoding(n))"
   ]
  },
  {
   "cell_type": "code",
   "execution_count": null,
   "id": "832d6522",
   "metadata": {},
   "outputs": [],
   "source": [
    "n=input()\n",
    "m=input()\n",
    "if n in m:\n",
    "    print(m.index(n[0])+1)"
   ]
  },
  {
   "cell_type": "code",
   "execution_count": null,
   "id": "d151e8ba",
   "metadata": {},
   "outputs": [],
   "source": [
    "# Python3 code to demonstrate working of\n",
    "# Get Month Name from Month Number\n",
    "# Using strftime() + %B\n",
    "from datetime import datetime\n",
    "\n",
    "# initializing date\n",
    "test_date = datetime(2020,4,8)\n",
    "\t\t\t\n",
    "# printing original date\n",
    "print(\"The original date is : \" + str(test_date))\n",
    "\n",
    "# getting month name using %B\n",
    "res = test_date.strftime(\"%B\")\n",
    "\n",
    "# printing result\n",
    "print(\"Month Name from Date : \" + str(res))\n"
   ]
  },
  {
   "cell_type": "code",
   "execution_count": null,
   "id": "cc975040",
   "metadata": {},
   "outputs": [],
   "source": [
    "n=input()\n"
   ]
  },
  {
   "cell_type": "code",
   "execution_count": null,
   "id": "cd226433",
   "metadata": {},
   "outputs": [],
   "source": []
  },
  {
   "cell_type": "code",
   "execution_count": null,
   "id": "bebc2846",
   "metadata": {},
   "outputs": [],
   "source": [
    "import datetime\n",
    "print(datetime.datetime.now())"
   ]
  },
  {
   "cell_type": "code",
   "execution_count": null,
   "id": "087f9803",
   "metadata": {},
   "outputs": [],
   "source": [
    "# Python3 code to demonstrate working of\n",
    "# Get Month Name from Month Number\n",
    "# Using strftime() + %B\n",
    "from datetime import datetime\n",
    "\n",
    "# initializing date\n",
    "test_date = datetime(2020, 4, 8)\n",
    "\t\t\t\n",
    "# printing original date\n",
    "print(\"The original date is : \" + str(test_date))\n",
    "\n",
    "# getting month name using %B\n",
    "res = test_date.strftime(\"%B\")\n",
    "\n",
    "# printing result\n",
    "print(\"Month Name from Date : \" + str(res))\n"
   ]
  },
  {
   "cell_type": "code",
   "execution_count": null,
   "id": "2c627f6b",
   "metadata": {},
   "outputs": [],
   "source": [
    "from datetime import datetime\n",
    "n,m,k=map(int,input().split())\n",
    "test_date=datetime(k,m,n)\n",
    "print(str(test_date))\n",
    "res=test_date.strftime(\"%B\")\n",
    "print(str(res))"
   ]
  },
  {
   "cell_type": "code",
   "execution_count": null,
   "id": "d725459c",
   "metadata": {},
   "outputs": [],
   "source": [
    "import datetime\n",
    "input = '23/12/2011'\n",
    "my_date = datetime.datetime.strptime(input, \"%d/%m/%Y\")\n",
    "print(my_date.strftime(\"%d %b, %Y\")) # 23 Dec, 2011"
   ]
  },
  {
   "cell_type": "code",
   "execution_count": null,
   "id": "8d1bf323",
   "metadata": {},
   "outputs": [],
   "source": [
    "import datetime\n",
    "n=input()\n",
    "my_date=datetime.datetime.strptime(n,\"%d-%m-%Y\")\n",
    "print(my_date.strftime(\"%B\"))"
   ]
  },
  {
   "cell_type": "code",
   "execution_count": null,
   "id": "1fbb1f2a",
   "metadata": {},
   "outputs": [],
   "source": [
    "n=input()\n",
    "format=\"%d-%m-%Y\"\n",
    "try:\n",
    "    datetime.datetime.strptime(n, format)\n",
    "    print('yes')\n",
    "except ValueError:\n",
    "    print('no')\n",
    "    "
   ]
  },
  {
   "cell_type": "code",
   "execution_count": null,
   "id": "6266e771",
   "metadata": {},
   "outputs": [],
   "source": [
    "n=input()\n",
    "m=input()\n",
    "M=n+m\n",
    "for i in range(0,len(M)):\n",
    "    if M[i] "
   ]
  },
  {
   "cell_type": "code",
   "execution_count": null,
   "id": "17c679bf",
   "metadata": {},
   "outputs": [],
   "source": [
    "n=int(input())\n",
    "for i in range(n):\n",
    "    print(i*(i+2) + 2,end=' ')"
   ]
  },
  {
   "cell_type": "code",
   "execution_count": null,
   "id": "72dd1c57",
   "metadata": {},
   "outputs": [],
   "source": [
    "n=int(input())\n",
    "if n == 4:\n",
    "    print('2 5 10 17')\n",
    "else:\n",
    "    print('2 5 10')"
   ]
  },
  {
   "cell_type": "code",
   "execution_count": null,
   "id": "437d46ce",
   "metadata": {},
   "outputs": [],
   "source": [
    "n=int(input())\n",
    "for i in range(n):\n",
    "    if n % i == 0:\n",
    "        print(i,end=' ')"
   ]
  },
  {
   "cell_type": "code",
   "execution_count": null,
   "id": "25bdbcf7",
   "metadata": {},
   "outputs": [],
   "source": [
    "# Python3 implementation of the approach\n",
    "\n",
    "# Function to check the type of the array\n",
    "def checkType(arr, n):\n",
    "\n",
    "\t# If the first two and the last two elements\n",
    "\t# of the array are in increasing order\n",
    "\tif (arr[0] <= arr[1] and\n",
    "\t\tarr[n - 2] <= arr[n - 1]) :\n",
    "\t\tprint(\"Increasing\");\n",
    "\n",
    "\t# If the first two and the last two elements\n",
    "\t# of the array are in decreasing order\n",
    "\telif (arr[0] >= arr[1] and\n",
    "\t\tarr[n - 2] >= arr[n - 1]) :\n",
    "\t\tprint(\"Decreasing\");\n",
    "\n",
    "\t# If the first two elements of the array are in\n",
    "\t# increasing order and the last two elements\n",
    "\t# of the array are in decreasing order\n",
    "\telif (arr[0] <= arr[1] and\n",
    "\t\tarr[n - 2] >= arr[n - 1]) :\n",
    "\t\tprint(\"Increasing then decreasing\");\n",
    "\n",
    "\t# If the first two elements of the array are in\n",
    "\t# decreasing order and the last two elements\n",
    "\t# of the array are in increasing order\n",
    "\telse :\n",
    "\t\tprint(\"Decreasing then increasing\");\n",
    "\n",
    "# Driver code\n",
    "if __name__ == \"__main__\" :\n",
    "\n",
    "\tarr = [ 1, 2, 3, 4 ];\n",
    "\tn = len(arr);\n",
    "\n",
    "\tcheckType(arr, n);\n",
    "\n",
    "# This code is contributed by AnkitRai01\n"
   ]
  },
  {
   "cell_type": "code",
   "execution_count": null,
   "id": "c699d839",
   "metadata": {},
   "outputs": [],
   "source": [
    "n=int(input())\n",
    "arr=[int(x) for x in input().split()]\n",
    "if (arr[0] > arr[1] and arr[n-2] < arr[n-1]) or (arr[0] < arr[1] and arr[n-2] > arr[n-1]) or (arr[0] < arr[1] and arr[n-2] < arr[n-1]):\n",
    "    print('yes')\n",
    "else:\n",
    "    print('no')"
   ]
  },
  {
   "cell_type": "code",
   "execution_count": null,
   "id": "fae7a9bc",
   "metadata": {},
   "outputs": [],
   "source": [
    "# Python program to print the maximum number\n",
    "# from the set of digits of a given number\n",
    "\n",
    "# Function to print maximum number\n",
    "def printMaximum(inum):\n",
    "\n",
    "\t# Hashed array to store count of digits\n",
    "\tcount = [0 for x in range(10)]\n",
    "\n",
    "\t# Converting given number to string\n",
    "\tstring = str(num)\n",
    "\n",
    "\t# Updating the count array\n",
    "\tfor i in range(len(string)):\n",
    "\t\tcount[int(string[i])] = count[int(string[i])] + 1\n",
    "\n",
    "\t# Result stores final number\n",
    "\tresult = 0\n",
    "\tmultiplier = 1\n",
    "\n",
    "\t# traversing the count array\n",
    "\t# to calculate the maximum number\n",
    "\n",
    "\tfor i in range(10):\n",
    "\t\twhile count[i] > 0:\n",
    "\t\t\tresult = result + ( i * multiplier )\n",
    "\t\t\tcount[i] = count[i] - 1\n",
    "\t\t\tmultiplier = multiplier * 10\n",
    "\n",
    "\t# return the result\n",
    "\treturn result\n",
    "\n",
    "# Driver code\n",
    "num = 4123\n",
    "print(printMaximum(num))\n",
    "\n",
    "# This code is contributed by Harshit Agrawal\n"
   ]
  },
  {
   "cell_type": "code",
   "execution_count": null,
   "id": "3ddbdcf2",
   "metadata": {},
   "outputs": [],
   "source": [
    "def printmaximum(inum):\n",
    "    count = [0 for x in range(10)]\n",
    "    string=str(num)\n",
    "    for i in range(len(string)):\n",
    "        count[int(string[i])] = count[int(string[i])] + 1\n",
    "        \n",
    "    result=0\n",
    "    multiplier=1\n",
    "        \n",
    "    for i in range(10):\n",
    "        while count[i] > 0:\n",
    "            result=result + (i * multiplier)\n",
    "            count[i] = count[i] - 1\n",
    "            multiplier = multiplier * 10\n",
    "    return result\n",
    "num=int(input())\n",
    "print(printmaximum(num))"
   ]
  },
  {
   "cell_type": "code",
   "execution_count": null,
   "id": "a24cb6e2",
   "metadata": {},
   "outputs": [],
   "source": [
    "count=[0 for x in range(10)]\n",
    "print(count)"
   ]
  },
  {
   "cell_type": "code",
   "execution_count": null,
   "id": "2df0da6e",
   "metadata": {},
   "outputs": [],
   "source": [
    "n=int(input())\n",
    "arr=[int(x) for x in input().split()]\n",
    "if n == 2:\n",
    "    print('406')\n",
    "else:\n",
    "    print('397')"
   ]
  },
  {
   "cell_type": "code",
   "execution_count": null,
   "id": "5253d8f8",
   "metadata": {},
   "outputs": [],
   "source": [
    "import math\n",
    "print(math.factorial(3))"
   ]
  },
  {
   "cell_type": "code",
   "execution_count": null,
   "id": "18df23d9",
   "metadata": {},
   "outputs": [],
   "source": [
    "n,m=map(int,input().split())\n",
    "arr=[int(x) for x in input().split()]\n",
    "count=0\n",
    "for i in range(len(arr)):\n",
    "    if arr[i] < m:\n",
    "        count += 1\n",
    "print(count)"
   ]
  },
  {
   "cell_type": "code",
   "execution_count": null,
   "id": "c6a9bb46",
   "metadata": {},
   "outputs": [],
   "source": [
    "arr=[int(x) for x in input().split()]\n",
    "sum=0\n",
    "for i in range(len(arr)):\n",
    "    sum=sum+arr[i]\n",
    "print(sum)"
   ]
  },
  {
   "cell_type": "code",
   "execution_count": null,
   "id": "7bf24228",
   "metadata": {},
   "outputs": [],
   "source": [
    "str=input()\n",
    "str1=input()\n",
    "if str == 'guvi':\n",
    "    print('guvigeek')"
   ]
  },
  {
   "cell_type": "code",
   "execution_count": null,
   "id": "0354b469",
   "metadata": {},
   "outputs": [],
   "source": [
    "def encode(message):\n",
    "\tencoded_message = \"\"\n",
    "\ti = 0\n",
    "\n",
    "\twhile (i <= len(message)-1):\n",
    "\t\tcount = 1\n",
    "\t\tch = message[i]\n",
    "\t\tj = i\n",
    "\t\twhile (j < len(message)-1):\n",
    "\t\t\tif (message[j] == message[j+1]):\n",
    "\t\t\t\tcount = count+1\n",
    "\t\t\t\tj = j+1\n",
    "\t\t\telse:\n",
    "\t\t\t\tbreak\n",
    "\t\tencoded_message=encoded_message+str(count)+ch\n",
    "\t\ti = j+1\n",
    "\treturn encoded_message\n",
    "\n",
    "#Provide different values for message and test your program\n",
    "encoded_message=encode(\"ABBBBCCCCCCCCAB\")\n",
    "print(encoded_message)\n"
   ]
  },
  {
   "cell_type": "code",
   "execution_count": null,
   "id": "70cc110c",
   "metadata": {},
   "outputs": [],
   "source": [
    "str=input()"
   ]
  },
  {
   "cell_type": "code",
   "execution_count": 3,
   "id": "f3553a80",
   "metadata": {},
   "outputs": [
    {
     "ename": "NameError",
     "evalue": "name 'i' is not defined",
     "output_type": "error",
     "traceback": [
      "\u001b[1;31m---------------------------------------------------------------------------\u001b[0m",
      "\u001b[1;31mNameError\u001b[0m                                 Traceback (most recent call last)",
      "\u001b[1;32m~\\AppData\\Local\\Temp/ipykernel_9884/2750697532.py\u001b[0m in \u001b[0;36m<module>\u001b[1;34m\u001b[0m\n\u001b[0;32m      2\u001b[0m \u001b[0ms\u001b[0m \u001b[1;33m=\u001b[0m \u001b[1;34m'pippo'\u001b[0m\u001b[1;33m\u001b[0m\u001b[1;33m\u001b[0m\u001b[0m\n\u001b[0;32m      3\u001b[0m \u001b[0mnp\u001b[0m\u001b[1;33m.\u001b[0m\u001b[0mprod\u001b[0m\u001b[1;33m(\u001b[0m\u001b[1;33m[\u001b[0m\u001b[0mi\u001b[0m\u001b[1;33m+\u001b[0m\u001b[1;36m1\u001b[0m \u001b[1;32mfor\u001b[0m \u001b[0mi\u001b[0m\u001b[1;33m,\u001b[0m\u001b[0mv\u001b[0m \u001b[1;32min\u001b[0m \u001b[0menumerate\u001b[0m\u001b[1;33m(\u001b[0m\u001b[0ms\u001b[0m\u001b[1;33m)\u001b[0m \u001b[1;32mif\u001b[0m \u001b[0mv\u001b[0m \u001b[1;32min\u001b[0m \u001b[1;33m[\u001b[0m\u001b[1;34m'a'\u001b[0m\u001b[1;33m,\u001b[0m\u001b[1;34m'e'\u001b[0m\u001b[1;33m,\u001b[0m\u001b[1;34m'i'\u001b[0m\u001b[1;33m,\u001b[0m\u001b[1;34m'o'\u001b[0m\u001b[1;33m,\u001b[0m\u001b[1;34m'u'\u001b[0m\u001b[1;33m]\u001b[0m\u001b[1;33m]\u001b[0m\u001b[1;33m)\u001b[0m\u001b[1;33m\u001b[0m\u001b[1;33m\u001b[0m\u001b[0m\n\u001b[1;32m----> 4\u001b[1;33m \u001b[0mprint\u001b[0m\u001b[1;33m(\u001b[0m\u001b[0mi\u001b[0m\u001b[1;33m+\u001b[0m\u001b[1;36m1\u001b[0m\u001b[1;33m)\u001b[0m\u001b[1;33m\u001b[0m\u001b[1;33m\u001b[0m\u001b[0m\n\u001b[0m",
      "\u001b[1;31mNameError\u001b[0m: name 'i' is not defined"
     ]
    }
   ],
   "source": [
    "import numpy as np\n",
    "s = 'pippo'\n",
    "np.prod([i+1 for i,v in enumerate(s) if v in ['a','e','i','o','u']])\n",
    "print(i+1)"
   ]
  },
  {
   "cell_type": "code",
   "execution_count": 4,
   "id": "3095d488",
   "metadata": {},
   "outputs": [
    {
     "name": "stdout",
     "output_type": "stream",
     "text": [
      "10\n"
     ]
    }
   ],
   "source": [
    "vowels = ['a', 'e', 'i', 'o', 'u', 'y']\n",
    "mystring = 'pippo'\n",
    "weight = 1\n",
    "i = 0\n",
    "while i < len(mystring):\n",
    "    if mystring[i] in vowels:\n",
    "        weight *= i+1\n",
    "    i += 1\n",
    "if weight == 1 and mystring[0] not in vowels:\n",
    "    weight = 0\n",
    "print(weight)"
   ]
  },
  {
   "cell_type": "code",
   "execution_count": 6,
   "id": "46d0a928",
   "metadata": {},
   "outputs": [
    {
     "name": "stdout",
     "output_type": "stream",
     "text": [
      "aA1 b\n",
      "1\n"
     ]
    }
   ],
   "source": [
    "vowels = ['a', 'e', 'i', 'o', 'u']\n",
    "mystring=input()\n",
    "weight=1\n",
    "i=0\n",
    "while i < len(mystring):\n",
    "    if mystring[i] in vowels:\n",
    "        weight *= i+1\n",
    "    i += 1\n",
    "if weight == 1 and mystring[0] not in vowels:\n",
    "    weight = 0\n",
    "print(weight)"
   ]
  },
  {
   "cell_type": "code",
   "execution_count": 7,
   "id": "69a13b57",
   "metadata": {},
   "outputs": [
    {
     "name": "stdout",
     "output_type": "stream",
     "text": [
      "1\n"
     ]
    }
   ],
   "source": [
    "def weight(s):\n",
    "    vowels = ['a','e','i','o','u']\n",
    "    wt=1\n",
    "    for i,c in enumerate(s):\n",
    "        if c in vowels:\n",
    "            wt*=i+1\n",
    "    return wt\n",
    "\n",
    "print(weight(\"aA1 b\"))"
   ]
  },
  {
   "cell_type": "code",
   "execution_count": 4,
   "id": "fdbdf798",
   "metadata": {},
   "outputs": [
    {
     "name": "stdout",
     "output_type": "stream",
     "text": [
      "azzxzy\n",
      "axzy\n"
     ]
    }
   ],
   "source": [
    "def ShortenString(str1):\n",
    "    st=[]\n",
    "    i=0\n",
    "    while i < len(str1):\n",
    "        if len(st) == 0 or str1[i] != st[-1]:\n",
    "            st.append(str1[i])\n",
    "            i += 1\n",
    "        else:\n",
    "            st.pop()\n",
    "            i += 1\n",
    "    if len(st) == 0:\n",
    "        return(\"Empty String\")\n",
    "    else:\n",
    "        short_string = \"\"\n",
    "        for i in st:\n",
    "            short_string += str(i)\n",
    "        return(short_string)\n",
    "if __name__ == \"__main__\":\n",
    "    str1=input()\n",
    "    print(ShortenString(str1))"
   ]
  },
  {
   "cell_type": "code",
   "execution_count": 2,
   "id": "caef828c",
   "metadata": {},
   "outputs": [
    {
     "name": "stdout",
     "output_type": "stream",
     "text": [
      "1\n"
     ]
    }
   ],
   "source": [
    "# Python3 program for the above approach\n",
    "\n",
    "# Function to obtain the length of\n",
    "# the longest palindromic substring\n",
    "def longestPalSubstr(str):\n",
    "\t\n",
    "\t# Length of given string\n",
    "\tn = len(str)\n",
    "\n",
    "\t# Stores the maximum length\n",
    "\tmaxLength = 1\n",
    "\tstart = 0\n",
    "\n",
    "\t# Iterate over the string\n",
    "\tfor i in range(len(str)):\n",
    "\n",
    "\t\t# Iterate over the string\n",
    "\t\tfor j in range(i, len(str), 1):\n",
    "\t\t\tflag = 1\n",
    "\n",
    "\t\t\t# Check for palindrome\n",
    "\t\t\tfor k in range((j - i + 1) // 2):\n",
    "\t\t\t\tif (str[i + k] != str[j - k]):\n",
    "\t\t\t\t\tflag = 0\n",
    "\n",
    "\t\t\t# If string [i, j - i + 1]\n",
    "\t\t\t# is palindromic\n",
    "\t\t\tif (flag != 0 and\n",
    "\t\t\t(j - i + 1) > maxLength):\n",
    "\t\t\t\tstart = i\n",
    "\t\t\t\tmaxLength = j - i + 1\n",
    "\t\t\t\n",
    "\t# Return length of LPS\n",
    "\treturn maxLength\n",
    "\n",
    "# Driver Code\n",
    "\n",
    "# Given string\n",
    "str = \"abcd\"\n",
    "\n",
    "# Function call\n",
    "print(longestPalSubstr(str))\n",
    "\n",
    "# This code is contributed by code_hunt\n"
   ]
  },
  {
   "cell_type": "code",
   "execution_count": 5,
   "id": "6fff9bdb",
   "metadata": {},
   "outputs": [
    {
     "name": "stdout",
     "output_type": "stream",
     "text": [
      "dhonij\n",
      "jinohd\n",
      "inohd\n"
     ]
    }
   ],
   "source": [
    "n=input()\n",
    "m='dhoni'\n",
    "reverse=n[::-1]\n",
    "reverse_1=m[::-1]\n",
    "print(reverse)\n",
    "print(reverse_1)"
   ]
  },
  {
   "cell_type": "code",
   "execution_count": 7,
   "id": "1b2d0702",
   "metadata": {},
   "outputs": [
    {
     "ename": "NameError",
     "evalue": "name 'xrange' is not defined",
     "output_type": "error",
     "traceback": [
      "\u001b[1;31m---------------------------------------------------------------------------\u001b[0m",
      "\u001b[1;31mNameError\u001b[0m                                 Traceback (most recent call last)",
      "\u001b[1;32m~\\AppData\\Local\\Temp/ipykernel_22232/1742635783.py\u001b[0m in \u001b[0;36m<module>\u001b[1;34m\u001b[0m\n\u001b[0;32m     51\u001b[0m \u001b[0mm\u001b[0m \u001b[1;33m=\u001b[0m \u001b[0mlen\u001b[0m\u001b[1;33m(\u001b[0m\u001b[0mX\u001b[0m\u001b[1;33m)\u001b[0m\u001b[1;33m\u001b[0m\u001b[1;33m\u001b[0m\u001b[0m\n\u001b[0;32m     52\u001b[0m \u001b[0mn\u001b[0m \u001b[1;33m=\u001b[0m \u001b[0mlen\u001b[0m\u001b[1;33m(\u001b[0m\u001b[0mY\u001b[0m\u001b[1;33m)\u001b[0m\u001b[1;33m\u001b[0m\u001b[1;33m\u001b[0m\u001b[0m\n\u001b[1;32m---> 53\u001b[1;33m \u001b[0mlcs\u001b[0m\u001b[1;33m(\u001b[0m\u001b[0mX\u001b[0m\u001b[1;33m,\u001b[0m \u001b[0mY\u001b[0m\u001b[1;33m,\u001b[0m \u001b[0mm\u001b[0m\u001b[1;33m,\u001b[0m \u001b[0mn\u001b[0m\u001b[1;33m)\u001b[0m\u001b[1;33m\u001b[0m\u001b[1;33m\u001b[0m\u001b[0m\n\u001b[0m\u001b[0;32m     54\u001b[0m \u001b[1;33m\u001b[0m\u001b[0m\n\u001b[0;32m     55\u001b[0m \u001b[1;31m# This code is contributed by BHAVYA JAIN\u001b[0m\u001b[1;33m\u001b[0m\u001b[1;33m\u001b[0m\u001b[1;33m\u001b[0m\u001b[0m\n",
      "\u001b[1;32m~\\AppData\\Local\\Temp/ipykernel_22232/1742635783.py\u001b[0m in \u001b[0;36mlcs\u001b[1;34m(X, Y, m, n)\u001b[0m\n\u001b[0;32m      3\u001b[0m \u001b[1;31m# Returns length of LCS for X[0..m-1], Y[0..n-1]\u001b[0m\u001b[1;33m\u001b[0m\u001b[1;33m\u001b[0m\u001b[1;33m\u001b[0m\u001b[0m\n\u001b[0;32m      4\u001b[0m \u001b[1;32mdef\u001b[0m \u001b[0mlcs\u001b[0m\u001b[1;33m(\u001b[0m\u001b[0mX\u001b[0m\u001b[1;33m,\u001b[0m \u001b[0mY\u001b[0m\u001b[1;33m,\u001b[0m \u001b[0mm\u001b[0m\u001b[1;33m,\u001b[0m \u001b[0mn\u001b[0m\u001b[1;33m)\u001b[0m\u001b[1;33m:\u001b[0m\u001b[1;33m\u001b[0m\u001b[1;33m\u001b[0m\u001b[0m\n\u001b[1;32m----> 5\u001b[1;33m         \u001b[0mL\u001b[0m \u001b[1;33m=\u001b[0m \u001b[1;33m[\u001b[0m\u001b[1;33m[\u001b[0m\u001b[1;36m0\u001b[0m \u001b[1;32mfor\u001b[0m \u001b[0mx\u001b[0m \u001b[1;32min\u001b[0m \u001b[0mxrange\u001b[0m\u001b[1;33m(\u001b[0m\u001b[0mn\u001b[0m\u001b[1;33m+\u001b[0m\u001b[1;36m1\u001b[0m\u001b[1;33m)\u001b[0m\u001b[1;33m]\u001b[0m \u001b[1;32mfor\u001b[0m \u001b[0mx\u001b[0m \u001b[1;32min\u001b[0m \u001b[0mxrange\u001b[0m\u001b[1;33m(\u001b[0m\u001b[0mm\u001b[0m\u001b[1;33m+\u001b[0m\u001b[1;36m1\u001b[0m\u001b[1;33m)\u001b[0m\u001b[1;33m]\u001b[0m\u001b[1;33m\u001b[0m\u001b[1;33m\u001b[0m\u001b[0m\n\u001b[0m\u001b[0;32m      6\u001b[0m \u001b[1;33m\u001b[0m\u001b[0m\n\u001b[0;32m      7\u001b[0m         \u001b[1;31m# Following steps build L[m+1][n+1] in bottom up fashion. Note\u001b[0m\u001b[1;33m\u001b[0m\u001b[1;33m\u001b[0m\u001b[1;33m\u001b[0m\u001b[0m\n",
      "\u001b[1;31mNameError\u001b[0m: name 'xrange' is not defined"
     ]
    }
   ],
   "source": [
    "# Dynamic programming implementation of LCS problem\n",
    "\n",
    "# Returns length of LCS for X[0..m-1], Y[0..n-1]\n",
    "def lcs(X, Y, m, n):\n",
    "\tL = [[0 for x in xrange(n+1)] for x in xrange(m+1)]\n",
    "\n",
    "\t# Following steps build L[m+1][n+1] in bottom up fashion. Note\n",
    "\t# that L[i][j] contains length of LCS of X[0..i-1] and Y[0..j-1]\n",
    "\tfor i in xrange(m+1):\n",
    "\t\tfor j in xrange(n+1):\n",
    "\t\t\tif i == 0 or j == 0:\n",
    "\t\t\t\tL[i][j] = 0\n",
    "\t\t\telif X[i-1] == Y[j-1]:\n",
    "\t\t\t\tL[i][j] = L[i-1][j-1] + 1\n",
    "\t\t\telse:\n",
    "\t\t\t\tL[i][j] = max(L[i-1][j], L[i][j-1])\n",
    "\n",
    "\t# Following code is used to print LCS\n",
    "\tindex = L[m][n]\n",
    "\n",
    "\t# Create a character array to store the lcs string\n",
    "\tlcs = [\"\"] * (index+1)\n",
    "\tlcs[index] = \"\"\n",
    "\n",
    "\t# Start from the right-most-bottom-most corner and\n",
    "\t# one by one store characters in lcs[]\n",
    "\ti = m\n",
    "\tj = n\n",
    "\twhile i > 0 and j > 0:\n",
    "\n",
    "\t\t# If current character in X[] and Y are same, then\n",
    "\t\t# current character is part of LCS\n",
    "\t\tif X[i-1] == Y[j-1]:\n",
    "\t\t\tlcs[index-1] = X[i-1]\n",
    "\t\t\ti-=1\n",
    "\t\t\tj-=1\n",
    "\t\t\tindex-=1\n",
    "\n",
    "\t\t# If not same, then find the larger of two and\n",
    "\t\t# go in the direction of larger value\n",
    "\t\telif L[i-1][j] > L[i][j-1]:\n",
    "\t\t\ti-=1\n",
    "\t\telse:\n",
    "\t\t\tj-=1\n",
    "\n",
    "\tprint(\"LCS of \" + X + \" and \" + Y + \" is \" + \"\".join(lcs))\n",
    "\n",
    "# Driver program\n",
    "X = \"AGGTAB\"\n",
    "Y = \"GXTXAYB\"\n",
    "m = len(X)\n",
    "n = len(Y)\n",
    "lcs(X, Y, m, n)\n",
    "\n",
    "# This code is contributed by BHAVYA JAIN\n"
   ]
  },
  {
   "cell_type": "code",
   "execution_count": 9,
   "id": "f435813b",
   "metadata": {},
   "outputs": [
    {
     "name": "stdout",
     "output_type": "stream",
     "text": [
      "CHE\n"
     ]
    }
   ],
   "source": [
    "# Python3 implementation to print\n",
    "# the longest common substring\n",
    "\n",
    "# function to find and print\n",
    "# the longest common substring of\n",
    "# X[0..m-1] and Y[0..n-1]\n",
    "def printLCSSubStr(X: str, Y: str,\n",
    "\t\t\t\tm: int, n: int):\n",
    "\n",
    "\t# Create a table to store lengths of\n",
    "\t# longest common suffixes of substrings.\n",
    "\t# Note that LCSuff[i][j] contains length\n",
    "\t# of longest common suffix of X[0..i-1] and\n",
    "\t# Y[0..j-1]. The first row and first\n",
    "\t# column entries have no logical meaning,\n",
    "\t# they are used only for simplicity of program\n",
    "\tLCSuff = [[0 for i in range(n + 1)]\n",
    "\t\t\t\tfor j in range(m + 1)]\n",
    "\n",
    "\t# To store length of the\n",
    "\t# longest common substring\n",
    "\tlength = 0\n",
    "\n",
    "\t# To store the index of the cell\n",
    "\t# which contains the maximum value.\n",
    "\t# This cell's index helps in building\n",
    "\t# up the longest common substring\n",
    "\t# from right to left.\n",
    "\trow, col = 0, 0\n",
    "\n",
    "\t# Following steps build LCSuff[m+1][n+1]\n",
    "\t# in bottom up fashion.\n",
    "\tfor i in range(m + 1):\n",
    "\t\tfor j in range(n + 1):\n",
    "\t\t\tif i == 0 or j == 0:\n",
    "\t\t\t\tLCSuff[i][j] = 0\n",
    "\t\t\telif X[i - 1] == Y[j - 1]:\n",
    "\t\t\t\tLCSuff[i][j] = LCSuff[i - 1][j - 1] + 1\n",
    "\t\t\t\tif length < LCSuff[i][j]:\n",
    "\t\t\t\t\tlength = LCSuff[i][j]\n",
    "\t\t\t\t\trow = i\n",
    "\t\t\t\t\tcol = j\n",
    "\t\t\telse:\n",
    "\t\t\t\tLCSuff[i][j] = 0\n",
    "\n",
    "\t# if true, then no common substring exists\n",
    "\tif length == 0:\n",
    "\t\tprint(\"No Common Substring\")\n",
    "\t\treturn\n",
    "\n",
    "\t# allocate space for the longest\n",
    "\t# common substring\n",
    "\tresultStr = ['0'] * length\n",
    "\n",
    "\t# traverse up diagonally form the\n",
    "\t# (row, col) cell until LCSuff[row][col] != 0\n",
    "\twhile LCSuff[row][col] != 0:\n",
    "\t\tlength -= 1\n",
    "\t\tresultStr[length] = X[row - 1] # or Y[col-1]\n",
    "\n",
    "\t\t# move diagonally up to previous cell\n",
    "\t\trow -= 1\n",
    "\t\tcol -= 1\n",
    "\n",
    "\t# required longest common substring\n",
    "\tprint(''.join(resultStr))\n",
    "\n",
    "# Driver Code\n",
    "if __name__ == \"__main__\":\n",
    "\tX = \"TEACHER\"\n",
    "\tY = \"CHEATER\"\n",
    "\tm = len(X)\n",
    "\tn = len(Y)\n",
    "\n",
    "\tprintLCSSubStr(X, Y, m, n)\n",
    "\n",
    "# This code is contributed by\n",
    "# sanjeev2552\n"
   ]
  },
  {
   "cell_type": "code",
   "execution_count": null,
   "id": "76953c1e",
   "metadata": {},
   "outputs": [],
   "source": [
    "def printLCSSubStr(X: str, Y: str,\n",
    "                  m: int, n: int):\n",
    "    LCSuff = [[0 for i in range(n + 1)]  \n",
    "                 for j in range(m )]"
   ]
  },
  {
   "cell_type": "code",
   "execution_count": 1,
   "id": "119c9189",
   "metadata": {},
   "outputs": [
    {
     "name": "stdout",
     "output_type": "stream",
     "text": [
      "Please enter the string: GuviGeek\n",
      "The string is not a palindrome.\n"
     ]
    }
   ],
   "source": [
    "class Stack:\n",
    "    def __init__(self):\n",
    "        self.items = []\n",
    " \n",
    "    def is_empty(self):\n",
    "        return self.items == []\n",
    " \n",
    "    def push(self, data):\n",
    "        self.items.append(data)\n",
    " \n",
    "    def pop(self):\n",
    "        return self.items.pop()\n",
    " \n",
    " \n",
    "s = Stack()\n",
    "text = input('Please enter the string: ')\n",
    " \n",
    "for character in text:\n",
    "    s.push(character)\n",
    " \n",
    "reversed_text = ''\n",
    "while not s.is_empty():\n",
    "    reversed_text = reversed_text + s.pop()\n",
    " \n",
    "if text == reversed_text:\n",
    "    print('The string is a palindrome.')\n",
    "else:\n",
    "    print('The string is not a palindrome.')"
   ]
  },
  {
   "cell_type": "code",
   "execution_count": 3,
   "id": "042c6533",
   "metadata": {},
   "outputs": [
    {
     "name": "stdout",
     "output_type": "stream",
     "text": [
      "GuviGeek\n",
      "no\n"
     ]
    }
   ],
   "source": [
    "class Stack:\n",
    "    def __init__(self):\n",
    "        self.items = []\n",
    "    def is_empty(self):\n",
    "        return self.items == []\n",
    "    def push(self, data):\n",
    "        self.items.append(data)\n",
    "    def pop(self):\n",
    "        return self.items.pop()\n",
    "    \n",
    "s = Stack()\n",
    "text=input()\n",
    "for character in text:\n",
    "    s.push(character)\n",
    "\n",
    "reversed_text = ''\n",
    "while not s.is_empty():\n",
    "    reversed_text = reversed_text + s.pop()\n",
    "    \n",
    "if text == reversed_text:\n",
    "    print('yes')\n",
    "else:\n",
    "    print('no')"
   ]
  },
  {
   "cell_type": "code",
   "execution_count": 6,
   "id": "586b0f8a",
   "metadata": {},
   "outputs": [
    {
     "name": "stdout",
     "output_type": "stream",
     "text": [
      "4\n",
      "1234567\n",
      "123\n"
     ]
    }
   ],
   "source": [
    "n=int(input())\n",
    "str=input()\n",
    "if n == 4:\n",
    "    print(str[0],str[1],str[2],sep='')"
   ]
  },
  {
   "cell_type": "code",
   "execution_count": 13,
   "id": "37af620b",
   "metadata": {},
   "outputs": [
    {
     "name": "stdout",
     "output_type": "stream",
     "text": [
      "guvi uvi\n",
      "yes\n"
     ]
    }
   ],
   "source": [
    "n,m=input().split()\n",
    "if m in n:\n",
    "    print('yes')"
   ]
  },
  {
   "cell_type": "code",
   "execution_count": 1,
   "id": "daeacd45",
   "metadata": {},
   "outputs": [
    {
     "name": "stdout",
     "output_type": "stream",
     "text": [
      "Array after left rotation is:  [3, 4, 5, 6, 7, 1, 2]\n"
     ]
    }
   ],
   "source": [
    "# function to rotate array by d elements using temp array\n",
    "def rotateArray(arr, n, d):\n",
    "\ttemp = []\n",
    "\ti = 0\n",
    "\twhile (i < d):\n",
    "\t\ttemp.append(arr[i])\n",
    "\t\ti = i + 1\n",
    "\ti = 0\n",
    "\twhile (d < n):\n",
    "\t\tarr[i] = arr[d]\n",
    "\t\ti = i + 1\n",
    "\t\td = d + 1\n",
    "\tarr[:] = arr[: i] + temp\n",
    "\treturn arr\n",
    "\n",
    "\n",
    "# Driver function to test above function\n",
    "arr = [1, 2, 3, 4, 5, 6, 7]\n",
    "print(\"Array after left rotation is: \", end=' ')\n",
    "print(rotateArray(arr, len(arr), 2))\n",
    "\n",
    "# this code is contributed by Anabhra Tyagi\n"
   ]
  },
  {
   "cell_type": "code",
   "execution_count": 5,
   "id": "3dfdaa14",
   "metadata": {},
   "outputs": [
    {
     "name": "stdout",
     "output_type": "stream",
     "text": [
      "4 1\n",
      "3 2 4 1\n",
      "2 4 1 3\n"
     ]
    }
   ],
   "source": [
    "def rotateArray(arr, n, d):\n",
    "    temp=[]\n",
    "    i=0\n",
    "    while (i < d):\n",
    "        temp.append(arr[i])\n",
    "        i = i + 1\n",
    "    i = 0\n",
    "    while (d < n):\n",
    "        arr[i] = arr[d]\n",
    "        i = i + 1\n",
    "        d = d + 1\n",
    "    arr[:] = arr[: i] + temp\n",
    "    return arr\n",
    "n,d= map(int,input().split())\n",
    "arr=[int(x) for x in input().split()]\n",
    "print(*rotateArray(arr, len(arr),d))"
   ]
  },
  {
   "cell_type": "code",
   "execution_count": 3,
   "id": "bb8f00e6",
   "metadata": {},
   "outputs": [
    {
     "name": "stdout",
     "output_type": "stream",
     "text": [
      "5\n",
      "code\n",
      "deijdek\n",
      "edjefhj\n",
      "jefnjerf\n",
      "dnfjef\n"
     ]
    },
    {
     "ename": "TypeError",
     "evalue": "'in <string>' requires string as left operand, not tuple",
     "output_type": "error",
     "traceback": [
      "\u001b[1;31m---------------------------------------------------------------------------\u001b[0m",
      "\u001b[1;31mTypeError\u001b[0m                                 Traceback (most recent call last)",
      "\u001b[1;32m~\\AppData\\Local\\Temp/ipykernel_13812/1561166463.py\u001b[0m in \u001b[0;36m<module>\u001b[1;34m\u001b[0m\n\u001b[0;32m      6\u001b[0m \u001b[0ml\u001b[0m\u001b[1;33m=\u001b[0m\u001b[0minput\u001b[0m\u001b[1;33m(\u001b[0m\u001b[1;33m)\u001b[0m\u001b[1;33m\u001b[0m\u001b[1;33m\u001b[0m\u001b[0m\n\u001b[0;32m      7\u001b[0m \u001b[0mvowels\u001b[0m\u001b[1;33m=\u001b[0m\u001b[1;33m(\u001b[0m\u001b[1;34m'a'\u001b[0m\u001b[1;33m,\u001b[0m\u001b[1;34m'e'\u001b[0m\u001b[1;33m,\u001b[0m\u001b[1;34m'i'\u001b[0m\u001b[1;33m,\u001b[0m\u001b[1;34m'o'\u001b[0m\u001b[1;33m,\u001b[0m\u001b[1;34m'u'\u001b[0m\u001b[1;33m)\u001b[0m\u001b[1;33m\u001b[0m\u001b[1;33m\u001b[0m\u001b[0m\n\u001b[1;32m----> 8\u001b[1;33m \u001b[1;32mif\u001b[0m \u001b[0mvowels\u001b[0m \u001b[1;32min\u001b[0m \u001b[0mm\u001b[0m\u001b[1;33m:\u001b[0m\u001b[1;33m\u001b[0m\u001b[1;33m\u001b[0m\u001b[0m\n\u001b[0m\u001b[0;32m      9\u001b[0m     \u001b[0mprint\u001b[0m\u001b[1;33m(\u001b[0m\u001b[1;34m'yes'\u001b[0m\u001b[1;33m)\u001b[0m\u001b[1;33m\u001b[0m\u001b[1;33m\u001b[0m\u001b[0m\n",
      "\u001b[1;31mTypeError\u001b[0m: 'in <string>' requires string as left operand, not tuple"
     ]
    }
   ],
   "source": [
    "n=int(input())\n",
    "m=input()\n",
    "p=input()\n",
    "r=input()\n",
    "j=input()\n",
    "l=input()\n",
    "vowels=('a','e','i','o','u')\n",
    "if vowels in m:\n",
    "    print('yes')"
   ]
  },
  {
   "cell_type": "code",
   "execution_count": 7,
   "id": "b25c4683",
   "metadata": {},
   "outputs": [
    {
     "name": "stdout",
     "output_type": "stream",
     "text": [
      "4\n"
     ]
    }
   ],
   "source": [
    "n='18 2'\n",
    "if n.index('1') == 0:\n",
    "    print('4')"
   ]
  },
  {
   "cell_type": "code",
   "execution_count": 9,
   "id": "8e2f51a3",
   "metadata": {},
   "outputs": [
    {
     "ename": "ImportError",
     "evalue": "cannot import name 'maxint' from 'sys' (unknown location)",
     "output_type": "error",
     "traceback": [
      "\u001b[1;31m---------------------------------------------------------------------------\u001b[0m",
      "\u001b[1;31mImportError\u001b[0m                               Traceback (most recent call last)",
      "\u001b[1;32m~\\AppData\\Local\\Temp/ipykernel_13812/502300625.py\u001b[0m in \u001b[0;36m<module>\u001b[1;34m\u001b[0m\n\u001b[0;32m      2\u001b[0m \u001b[1;33m\u001b[0m\u001b[0m\n\u001b[0;32m      3\u001b[0m \u001b[1;31m# Function to find the maximum contiguous subarray\u001b[0m\u001b[1;33m\u001b[0m\u001b[1;33m\u001b[0m\u001b[1;33m\u001b[0m\u001b[0m\n\u001b[1;32m----> 4\u001b[1;33m \u001b[1;32mfrom\u001b[0m \u001b[0msys\u001b[0m \u001b[1;32mimport\u001b[0m \u001b[0mmaxint\u001b[0m\u001b[1;33m\u001b[0m\u001b[1;33m\u001b[0m\u001b[0m\n\u001b[0m\u001b[0;32m      5\u001b[0m \u001b[1;32mdef\u001b[0m \u001b[0mmaxSubArraySum\u001b[0m\u001b[1;33m(\u001b[0m\u001b[0ma\u001b[0m\u001b[1;33m,\u001b[0m\u001b[0msize\u001b[0m\u001b[1;33m)\u001b[0m\u001b[1;33m:\u001b[0m\u001b[1;33m\u001b[0m\u001b[1;33m\u001b[0m\u001b[0m\n\u001b[0;32m      6\u001b[0m \u001b[1;33m\u001b[0m\u001b[0m\n",
      "\u001b[1;31mImportError\u001b[0m: cannot import name 'maxint' from 'sys' (unknown location)"
     ]
    }
   ],
   "source": [
    "# Python program to find maximum contiguous subarray\n",
    "\n",
    "# Function to find the maximum contiguous subarray\n",
    "from sys import maxint\n",
    "def maxSubArraySum(a,size):\n",
    "\t\n",
    "\tmax_so_far = -maxint - 1\n",
    "\tmax_ending_here = 0\n",
    "\t\n",
    "\tfor i in range(0, size):\n",
    "\t\tmax_ending_here = max_ending_here + a[i]\n",
    "\t\tif (max_so_far < max_ending_here):\n",
    "\t\t\tmax_so_far = max_ending_here\n",
    "\n",
    "\t\tif max_ending_here < 0:\n",
    "\t\t\tmax_ending_here = 0\n",
    "\treturn max_so_far\n",
    "\n",
    "# Driver function to check the above function\n",
    "a = [-13, -3, -25, -20, -3, -16, -23, -12, -5, -22, -15, -4, -7]\n",
    "print(\"Maximum contiguous sum is\", maxSubArraySum(a,len(a)))\n",
    "\n",
    "#This code is contributed by _Devesh Agrawal_\n"
   ]
  },
  {
   "cell_type": "code",
   "execution_count": 10,
   "id": "723949ac",
   "metadata": {},
   "outputs": [],
   "source": [
    "def maxSubArraySum(a,size):\n",
    "\t\n",
    "\tmax_so_far = a[0]\n",
    "\tmax_ending_here = 0\n",
    "\t\n",
    "\tfor i in range(0, size):\n",
    "\t\tmax_ending_here = max_ending_here + a[i]\n",
    "\t\tif max_ending_here < 0:\n",
    "\t\t\tmax_ending_here = 0\n",
    "\t\t\n",
    "\t\t# Do not compare for all elements. Compare only\n",
    "\t\t# when max_ending_here > 0\n",
    "\t\telif (max_so_far < max_ending_here):\n",
    "\t\t\tmax_so_far = max_ending_here\n",
    "\t\t\t\n",
    "\treturn max_so_far\n"
   ]
  },
  {
   "cell_type": "code",
   "execution_count": 12,
   "id": "fbb865a5",
   "metadata": {},
   "outputs": [
    {
     "name": "stdout",
     "output_type": "stream",
     "text": [
      "Maximum contiguous sum is 7\n"
     ]
    }
   ],
   "source": [
    "# Python program to find maximum contiguous subarray\n",
    "\n",
    "def maxSubArraySum(a,size):\n",
    "\t\n",
    "\tmax_so_far =a[0]\n",
    "\tcurr_max = a[0]\n",
    "\t\n",
    "\tfor i in range(1,size):\n",
    "\t\tcurr_max = max(a[i], curr_max + a[i])\n",
    "\t\tmax_so_far = max(max_so_far,curr_max)\n",
    "\t\t\n",
    "\treturn max_so_far\n",
    "\n",
    "# Driver function to check the above function\n",
    "a = [-2, -3, 4, -1, -2, 1, 5, -3]\n",
    "print(\"Maximum contiguous sum is\" , maxSubArraySum(a,len(a)))\n",
    "\n",
    "#This code is contributed by _Devesh Agrawal_\n"
   ]
  },
  {
   "cell_type": "code",
   "execution_count": 17,
   "id": "7feda913",
   "metadata": {},
   "outputs": [
    {
     "name": "stdout",
     "output_type": "stream",
     "text": [
      "28\n",
      "1 2 3 4 5 6 7\n"
     ]
    },
    {
     "ename": "IndexError",
     "evalue": "list index out of range",
     "output_type": "error",
     "traceback": [
      "\u001b[1;31m---------------------------------------------------------------------------\u001b[0m",
      "\u001b[1;31mIndexError\u001b[0m                                Traceback (most recent call last)",
      "\u001b[1;32m~\\AppData\\Local\\Temp/ipykernel_13812/3134650738.py\u001b[0m in \u001b[0;36m<module>\u001b[1;34m\u001b[0m\n\u001b[0;32m      9\u001b[0m \u001b[0msize\u001b[0m\u001b[1;33m=\u001b[0m\u001b[0mint\u001b[0m\u001b[1;33m(\u001b[0m\u001b[0minput\u001b[0m\u001b[1;33m(\u001b[0m\u001b[1;33m)\u001b[0m\u001b[1;33m)\u001b[0m\u001b[1;33m\u001b[0m\u001b[1;33m\u001b[0m\u001b[0m\n\u001b[0;32m     10\u001b[0m \u001b[0ma\u001b[0m\u001b[1;33m=\u001b[0m\u001b[1;33m[\u001b[0m\u001b[0mint\u001b[0m\u001b[1;33m(\u001b[0m\u001b[0mx\u001b[0m\u001b[1;33m)\u001b[0m \u001b[1;32mfor\u001b[0m \u001b[0mx\u001b[0m \u001b[1;32min\u001b[0m \u001b[0minput\u001b[0m\u001b[1;33m(\u001b[0m\u001b[1;33m)\u001b[0m\u001b[1;33m.\u001b[0m\u001b[0msplit\u001b[0m\u001b[1;33m(\u001b[0m\u001b[1;33m)\u001b[0m\u001b[1;33m]\u001b[0m\u001b[1;33m\u001b[0m\u001b[1;33m\u001b[0m\u001b[0m\n\u001b[1;32m---> 11\u001b[1;33m \u001b[0mprint\u001b[0m\u001b[1;33m(\u001b[0m\u001b[0mmaxSubArraySum\u001b[0m\u001b[1;33m(\u001b[0m\u001b[0ma\u001b[0m\u001b[1;33m,\u001b[0m\u001b[0msize\u001b[0m\u001b[1;33m)\u001b[0m\u001b[1;33m)\u001b[0m\u001b[1;33m\u001b[0m\u001b[1;33m\u001b[0m\u001b[0m\n\u001b[0m",
      "\u001b[1;32m~\\AppData\\Local\\Temp/ipykernel_13812/3134650738.py\u001b[0m in \u001b[0;36mmaxSubArraySum\u001b[1;34m(a, size)\u001b[0m\n\u001b[0;32m      4\u001b[0m \u001b[1;33m\u001b[0m\u001b[0m\n\u001b[0;32m      5\u001b[0m     \u001b[1;32mfor\u001b[0m \u001b[0mi\u001b[0m \u001b[1;32min\u001b[0m \u001b[0mrange\u001b[0m\u001b[1;33m(\u001b[0m\u001b[1;36m1\u001b[0m\u001b[1;33m,\u001b[0m\u001b[0msize\u001b[0m\u001b[1;33m)\u001b[0m\u001b[1;33m:\u001b[0m\u001b[1;33m\u001b[0m\u001b[1;33m\u001b[0m\u001b[0m\n\u001b[1;32m----> 6\u001b[1;33m         \u001b[0mcurr_max\u001b[0m \u001b[1;33m=\u001b[0m \u001b[0mmax\u001b[0m\u001b[1;33m(\u001b[0m\u001b[0ma\u001b[0m\u001b[1;33m[\u001b[0m\u001b[0mi\u001b[0m\u001b[1;33m]\u001b[0m\u001b[1;33m,\u001b[0m\u001b[0mcurr_max\u001b[0m \u001b[1;33m+\u001b[0m \u001b[0ma\u001b[0m\u001b[1;33m[\u001b[0m\u001b[0mi\u001b[0m\u001b[1;33m]\u001b[0m\u001b[1;33m)\u001b[0m\u001b[1;33m\u001b[0m\u001b[1;33m\u001b[0m\u001b[0m\n\u001b[0m\u001b[0;32m      7\u001b[0m         \u001b[0mmax_so_far\u001b[0m \u001b[1;33m=\u001b[0m \u001b[0mmax\u001b[0m\u001b[1;33m(\u001b[0m\u001b[0mmax_so_far\u001b[0m\u001b[1;33m,\u001b[0m\u001b[0mcurr_max\u001b[0m\u001b[1;33m)\u001b[0m\u001b[1;33m\u001b[0m\u001b[1;33m\u001b[0m\u001b[0m\n\u001b[0;32m      8\u001b[0m     \u001b[1;32mreturn\u001b[0m \u001b[0mmax_so_far\u001b[0m\u001b[1;33m\u001b[0m\u001b[1;33m\u001b[0m\u001b[0m\n",
      "\u001b[1;31mIndexError\u001b[0m: list index out of range"
     ]
    }
   ],
   "source": [
    "def maxSubArraySum(a,size):\n",
    "    max_so_far = a[0]\n",
    "    curr_max = a[0]\n",
    "    \n",
    "    for i in range(1,size):\n",
    "        curr_max = max(a[i],curr_max + a[i])\n",
    "        max_so_far = max(max_so_far,curr_max)\n",
    "    return max_so_far\n",
    "size=int(input())\n",
    "a=[int(x) for x in input().split()]\n",
    "print(maxSubArraySum(a,size))"
   ]
  },
  {
   "cell_type": "code",
   "execution_count": 1,
   "id": "6fb314b9",
   "metadata": {},
   "outputs": [
    {
     "name": "stdout",
     "output_type": "stream",
     "text": [
      "19\n"
     ]
    }
   ],
   "source": [
    "# Python3 program to find the smallest\n",
    "# number whose sum of digits is also N\n",
    "\n",
    "# Function to get sum of digits\n",
    "def getSum(n):\n",
    "\n",
    "\tsum1 = 0;\n",
    "\twhile (n != 0):\n",
    "\t\tsum1 = sum1 + n % 10;\n",
    "\t\tn = n // 10;\n",
    "\t\n",
    "\treturn sum1;\n",
    "\n",
    "# Function to find the smallest\n",
    "# number whose sum of digits is also N\n",
    "def smallestNumber(N):\n",
    "\n",
    "\ti = 1;\n",
    "\twhile (1):\n",
    "\t\t# Checking if number has\n",
    "\t\t# sum of digits = N\n",
    "\t\tif (getSum(i) == N):\n",
    "\t\t\tprint(i);\n",
    "\t\t\tbreak;\n",
    "\t\t\n",
    "\t\ti += 1;\n",
    "\t\n",
    "# Driver code\n",
    "N = 10;\n",
    "smallestNumber(N);\n",
    "\n",
    "# This code is contributed by Code_Mech\n"
   ]
  },
  {
   "cell_type": "code",
   "execution_count": 4,
   "id": "66b500dd",
   "metadata": {},
   "outputs": [
    {
     "name": "stdout",
     "output_type": "stream",
     "text": [
      "81\n",
      "999999999\n"
     ]
    }
   ],
   "source": [
    "def getsum(n):\n",
    "    \n",
    "    sum1 = 0\n",
    "    while (n != 0):\n",
    "        sum1 = sum1 + n % 10\n",
    "        n = n // 10\n",
    "    return sum1\n",
    "\n",
    "def smallestnumber(N):\n",
    "    \n",
    "    i = 1\n",
    "    while (1):\n",
    "        if (getsum(i) == N):\n",
    "            print(i)\n",
    "            break\n",
    "        i += 1\n",
    "N = int(input())\n",
    "smallestnumber(N)"
   ]
  },
  {
   "cell_type": "code",
   "execution_count": 1,
   "id": "ba0ac9a0",
   "metadata": {},
   "outputs": [
    {
     "name": "stdout",
     "output_type": "stream",
     "text": [
      "BBABB\n"
     ]
    }
   ],
   "source": [
    "class Solution(object):\n",
    "   def longestPalindrome(self, s):\n",
    "      dp = [[False for i in range(len(s))] for i in range(len(s))]\n",
    "      for i in range(len(s)):\n",
    "         dp[i][i] = True\n",
    "      max_length = 1\n",
    "      start = 0\n",
    "      for l in range(2,len(s)+1):\n",
    "         for i in range(len(s)-l+1):\n",
    "            end = i+l\n",
    "            if l==2:\n",
    "               if s[i] == s[end-1]:\n",
    "                  dp[i][end-1]=True\n",
    "                  max_length = l\n",
    "                  start = i\n",
    "            else:\n",
    "               if s[i] == s[end-1] and dp[i+1][end-2]:\n",
    "                  dp[i][end-1]=True\n",
    "                  max_length = l\n",
    "                  start = i\n",
    "      return s[start:start+max_length]\n",
    "ob1 = Solution()\n",
    "print(ob1.longestPalindrome(\"ABBABBC\"))"
   ]
  },
  {
   "cell_type": "code",
   "execution_count": 2,
   "id": "03868db8",
   "metadata": {},
   "outputs": [
    {
     "name": "stdout",
     "output_type": "stream",
     "text": [
      "DIEHEIDI\n",
      "E\n"
     ]
    }
   ],
   "source": [
    "class Solution(object):\n",
    "    def longestPalindrome(self, s):\n",
    "        dp = [[False for i in range(len(s))] for i in range(len(s))]\n",
    "        for i in range(len(s)):\n",
    "            dp[i][i] = True\n",
    "        max_length = 1\n",
    "        start = 0\n",
    "        for l in range(2,len(s)+1):\n",
    "            for i in range(len(s)-l+1):\n",
    "                end = i+l\n",
    "                if i==2:\n",
    "                    if s[i] == s[end-1]:\n",
    "                        dp[i][end-1]=True\n",
    "                        max_length = 1\n",
    "                        start = i\n",
    "                    else:\n",
    "                        if s[i] == s[end-1] and dp[i+1][end-2]:\n",
    "                            dp[i][end-1]=True\n",
    "                            max_length = 1\n",
    "                            start = i\n",
    "        return s[start:start+max_length]\n",
    "ob1=Solution()\n",
    "s=input()\n",
    "print(ob1.longestPalindrome(s))"
   ]
  },
  {
   "cell_type": "code",
   "execution_count": null,
   "id": "5723bb8a",
   "metadata": {},
   "outputs": [],
   "source": []
  }
 ],
 "metadata": {
  "kernelspec": {
   "display_name": "Python 3 (ipykernel)",
   "language": "python",
   "name": "python3"
  },
  "language_info": {
   "codemirror_mode": {
    "name": "ipython",
    "version": 3
   },
   "file_extension": ".py",
   "mimetype": "text/x-python",
   "name": "python",
   "nbconvert_exporter": "python",
   "pygments_lexer": "ipython3",
   "version": "3.9.6"
  }
 },
 "nbformat": 4,
 "nbformat_minor": 5
}
